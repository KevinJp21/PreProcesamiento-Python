{
 "cells": [
  {
   "cell_type": "markdown",
   "id": "932c15b5-cef6-4761-b1e7-d1b4360d9cf7",
   "metadata": {},
   "source": [
    "# Prctica 6: Modelos de clasificación"
   ]
  },
  {
   "cell_type": "markdown",
   "id": "1a5743e2-dffb-4424-a9fe-2196442cea88",
   "metadata": {},
   "source": [
    "1. Cargar librerias\n",
    "2. Leer/Seleccionar/renombrar datos\n",
    "3. Limpieza de datos\n",
    "4. Transformación de datos\n",
    "5. Particionar el conjunto de datos\n",
    "6. Entrenamiento y predicción con modelos de clasificacion\n",
    "7. Métricas de desempeño\n",
    "8. Predecir nuevos registros"
   ]
  },
  {
   "cell_type": "markdown",
   "id": "f22eb315-8ac4-43ee-994c-1840ec8eb232",
   "metadata": {},
   "source": [
    "## 1. Cargar librerias"
   ]
  },
  {
   "cell_type": "code",
   "execution_count": 1,
   "id": "41c54565-baa7-42f4-af09-6d661146bbed",
   "metadata": {},
   "outputs": [],
   "source": [
    "# Cargar librerias\n",
    "import numpy as np\n",
    "import pandas as pd\n",
    "import seaborn as sns\n",
    "import matplotlib.pyplot as plt\n",
    "from sklearn import preprocessing #para limpieza\n",
    "from sklearn.preprocessing import LabelEncoder # Para la transformacion\n",
    "from sklearn.model_selection import train_test_split # Para particionar el conjunto de datos\n",
    "from sklearn import tree #Para el modelo del arbol de desición\n",
    "from sklearn.linear_model import LogisticRegressionCV #Para modelo de regresion logistica\n",
    "from sklearn.neighbors import KNeighborsClassifier #Para modelo KNN\n",
    "from sklearn.neural_network import MLPClassifier #Para modelo de red neuronal\n",
    "from sklearn.metrics import classification_report #Para el reporte de clasificacion\n"
   ]
  },
  {
   "cell_type": "markdown",
   "id": "4e22470d-c1d8-4349-adcb-2b69f32124e6",
   "metadata": {},
   "source": [
    "## 2. Leer/seleccionar/renombrar datos"
   ]
  },
  {
   "cell_type": "code",
   "execution_count": 2,
   "id": "f5bed283-aa1c-457d-96aa-eaa81e205185",
   "metadata": {},
   "outputs": [
    {
     "data": {
      "text/html": [
       "<div>\n",
       "<style scoped>\n",
       "    .dataframe tbody tr th:only-of-type {\n",
       "        vertical-align: middle;\n",
       "    }\n",
       "\n",
       "    .dataframe tbody tr th {\n",
       "        vertical-align: top;\n",
       "    }\n",
       "\n",
       "    .dataframe thead th {\n",
       "        text-align: right;\n",
       "    }\n",
       "</style>\n",
       "<table border=\"1\" class=\"dataframe\">\n",
       "  <thead>\n",
       "    <tr style=\"text-align: right;\">\n",
       "      <th></th>\n",
       "      <th>PassengerId</th>\n",
       "      <th>Survived</th>\n",
       "      <th>Pclass</th>\n",
       "      <th>Name</th>\n",
       "      <th>Sex</th>\n",
       "      <th>Age</th>\n",
       "      <th>SibSp</th>\n",
       "      <th>Parch</th>\n",
       "      <th>Ticket</th>\n",
       "      <th>Fare</th>\n",
       "      <th>Cabin</th>\n",
       "      <th>Embarked</th>\n",
       "    </tr>\n",
       "  </thead>\n",
       "  <tbody>\n",
       "    <tr>\n",
       "      <th>0</th>\n",
       "      <td>1</td>\n",
       "      <td>0</td>\n",
       "      <td>3</td>\n",
       "      <td>Braund, Mr. Owen Harris</td>\n",
       "      <td>male</td>\n",
       "      <td>22.0</td>\n",
       "      <td>1</td>\n",
       "      <td>0</td>\n",
       "      <td>A/5 21171</td>\n",
       "      <td>7.2500</td>\n",
       "      <td>NaN</td>\n",
       "      <td>S</td>\n",
       "    </tr>\n",
       "    <tr>\n",
       "      <th>1</th>\n",
       "      <td>2</td>\n",
       "      <td>1</td>\n",
       "      <td>1</td>\n",
       "      <td>Cumings, Mrs. John Bradley (Florence Briggs Th...</td>\n",
       "      <td>female</td>\n",
       "      <td>38.0</td>\n",
       "      <td>1</td>\n",
       "      <td>0</td>\n",
       "      <td>PC 17599</td>\n",
       "      <td>71.2833</td>\n",
       "      <td>C85</td>\n",
       "      <td>C</td>\n",
       "    </tr>\n",
       "    <tr>\n",
       "      <th>2</th>\n",
       "      <td>3</td>\n",
       "      <td>1</td>\n",
       "      <td>3</td>\n",
       "      <td>Heikkinen, Miss. Laina</td>\n",
       "      <td>female</td>\n",
       "      <td>26.0</td>\n",
       "      <td>0</td>\n",
       "      <td>0</td>\n",
       "      <td>STON/O2. 3101282</td>\n",
       "      <td>7.9250</td>\n",
       "      <td>NaN</td>\n",
       "      <td>S</td>\n",
       "    </tr>\n",
       "    <tr>\n",
       "      <th>3</th>\n",
       "      <td>4</td>\n",
       "      <td>1</td>\n",
       "      <td>1</td>\n",
       "      <td>Futrelle, Mrs. Jacques Heath (Lily May Peel)</td>\n",
       "      <td>female</td>\n",
       "      <td>35.0</td>\n",
       "      <td>1</td>\n",
       "      <td>0</td>\n",
       "      <td>113803</td>\n",
       "      <td>53.1000</td>\n",
       "      <td>C123</td>\n",
       "      <td>S</td>\n",
       "    </tr>\n",
       "    <tr>\n",
       "      <th>4</th>\n",
       "      <td>5</td>\n",
       "      <td>0</td>\n",
       "      <td>3</td>\n",
       "      <td>Allen, Mr. William Henry</td>\n",
       "      <td>male</td>\n",
       "      <td>35.0</td>\n",
       "      <td>0</td>\n",
       "      <td>0</td>\n",
       "      <td>373450</td>\n",
       "      <td>8.0500</td>\n",
       "      <td>NaN</td>\n",
       "      <td>S</td>\n",
       "    </tr>\n",
       "  </tbody>\n",
       "</table>\n",
       "</div>"
      ],
      "text/plain": [
       "   PassengerId  Survived  Pclass  \\\n",
       "0            1         0       3   \n",
       "1            2         1       1   \n",
       "2            3         1       3   \n",
       "3            4         1       1   \n",
       "4            5         0       3   \n",
       "\n",
       "                                                Name     Sex   Age  SibSp  \\\n",
       "0                            Braund, Mr. Owen Harris    male  22.0      1   \n",
       "1  Cumings, Mrs. John Bradley (Florence Briggs Th...  female  38.0      1   \n",
       "2                             Heikkinen, Miss. Laina  female  26.0      0   \n",
       "3       Futrelle, Mrs. Jacques Heath (Lily May Peel)  female  35.0      1   \n",
       "4                           Allen, Mr. William Henry    male  35.0      0   \n",
       "\n",
       "   Parch            Ticket     Fare Cabin Embarked  \n",
       "0      0         A/5 21171   7.2500   NaN        S  \n",
       "1      0          PC 17599  71.2833   C85        C  \n",
       "2      0  STON/O2. 3101282   7.9250   NaN        S  \n",
       "3      0            113803  53.1000  C123        S  \n",
       "4      0            373450   8.0500   NaN        S  "
      ]
     },
     "execution_count": 2,
     "metadata": {},
     "output_type": "execute_result"
    }
   ],
   "source": [
    "# leer Datos\n",
    "df = pd.read_csv('./BD/titanic.xls')\n",
    "df.head()"
   ]
  },
  {
   "cell_type": "code",
   "execution_count": 3,
   "id": "6fcd9f95-e5aa-4775-bb2b-77699ce19c63",
   "metadata": {},
   "outputs": [
    {
     "data": {
      "text/html": [
       "<div>\n",
       "<style scoped>\n",
       "    .dataframe tbody tr th:only-of-type {\n",
       "        vertical-align: middle;\n",
       "    }\n",
       "\n",
       "    .dataframe tbody tr th {\n",
       "        vertical-align: top;\n",
       "    }\n",
       "\n",
       "    .dataframe thead th {\n",
       "        text-align: right;\n",
       "    }\n",
       "</style>\n",
       "<table border=\"1\" class=\"dataframe\">\n",
       "  <thead>\n",
       "    <tr style=\"text-align: right;\">\n",
       "      <th></th>\n",
       "      <th>sobrevive</th>\n",
       "      <th>clase</th>\n",
       "      <th>sexo</th>\n",
       "      <th>edad</th>\n",
       "      <th>hijos</th>\n",
       "      <th>valor</th>\n",
       "    </tr>\n",
       "  </thead>\n",
       "  <tbody>\n",
       "    <tr>\n",
       "      <th>0</th>\n",
       "      <td>0</td>\n",
       "      <td>3</td>\n",
       "      <td>male</td>\n",
       "      <td>22.0</td>\n",
       "      <td>0</td>\n",
       "      <td>7.2500</td>\n",
       "    </tr>\n",
       "    <tr>\n",
       "      <th>1</th>\n",
       "      <td>1</td>\n",
       "      <td>1</td>\n",
       "      <td>female</td>\n",
       "      <td>38.0</td>\n",
       "      <td>0</td>\n",
       "      <td>71.2833</td>\n",
       "    </tr>\n",
       "    <tr>\n",
       "      <th>2</th>\n",
       "      <td>1</td>\n",
       "      <td>3</td>\n",
       "      <td>female</td>\n",
       "      <td>26.0</td>\n",
       "      <td>0</td>\n",
       "      <td>7.9250</td>\n",
       "    </tr>\n",
       "    <tr>\n",
       "      <th>3</th>\n",
       "      <td>1</td>\n",
       "      <td>1</td>\n",
       "      <td>female</td>\n",
       "      <td>35.0</td>\n",
       "      <td>0</td>\n",
       "      <td>53.1000</td>\n",
       "    </tr>\n",
       "    <tr>\n",
       "      <th>4</th>\n",
       "      <td>0</td>\n",
       "      <td>3</td>\n",
       "      <td>male</td>\n",
       "      <td>35.0</td>\n",
       "      <td>0</td>\n",
       "      <td>8.0500</td>\n",
       "    </tr>\n",
       "  </tbody>\n",
       "</table>\n",
       "</div>"
      ],
      "text/plain": [
       "   sobrevive  clase    sexo  edad  hijos    valor\n",
       "0          0      3    male  22.0      0   7.2500\n",
       "1          1      1  female  38.0      0  71.2833\n",
       "2          1      3  female  26.0      0   7.9250\n",
       "3          1      1  female  35.0      0  53.1000\n",
       "4          0      3    male  35.0      0   8.0500"
      ]
     },
     "execution_count": 3,
     "metadata": {},
     "output_type": "execute_result"
    }
   ],
   "source": [
    "# Seleccion de datos\n",
    "df = df[['Survived', 'Pclass', 'Sex', 'Age', 'Parch', 'Fare']]\n",
    "# Renombre de Datos\n",
    "df.columns = ['sobrevive','clase','sexo','edad','hijos','valor']\n",
    "df.head()\n"
   ]
  },
  {
   "cell_type": "markdown",
   "id": "c450444e-d973-44d8-9101-79e63fde4849",
   "metadata": {},
   "source": [
    "## 3. Limpieza de datos"
   ]
  },
  {
   "cell_type": "code",
   "execution_count": 4,
   "id": "33a945a3-dfa9-4913-9e93-4a6cd26fb155",
   "metadata": {},
   "outputs": [
    {
     "data": {
      "text/plain": [
       "sobrevive      0\n",
       "clase          0\n",
       "sexo           0\n",
       "edad         177\n",
       "hijos          0\n",
       "valor          0\n",
       "dtype: int64"
      ]
     },
     "execution_count": 4,
     "metadata": {},
     "output_type": "execute_result"
    }
   ],
   "source": [
    "df.isnull().sum()"
   ]
  },
  {
   "cell_type": "code",
   "execution_count": 5,
   "id": "3f4a904b-c513-4236-b337-fa91e06a98f4",
   "metadata": {},
   "outputs": [
    {
     "data": {
      "text/plain": [
       "(891, 6)"
      ]
     },
     "execution_count": 5,
     "metadata": {},
     "output_type": "execute_result"
    }
   ],
   "source": [
    "df.shape"
   ]
  },
  {
   "cell_type": "code",
   "execution_count": 6,
   "id": "79bb0271-1d6a-458a-87c5-6b962403a8cb",
   "metadata": {},
   "outputs": [],
   "source": [
    "PromEdad = df['edad'].mean()\n",
    "df['edad'] = df['edad'].replace(np.nan, PromEdad)"
   ]
  },
  {
   "cell_type": "markdown",
   "id": "279c72dd-93c1-4c62-9f71-0dd363e7f069",
   "metadata": {},
   "source": [
    "## 4. Transformacion de datos"
   ]
  },
  {
   "cell_type": "code",
   "execution_count": 7,
   "id": "fddf29f6-efdd-4be4-95ff-45fcb619a0bd",
   "metadata": {},
   "outputs": [],
   "source": [
    "\n",
    "encoder = preprocessing.LabelEncoder()\n",
    "encoder.fit(df['sexo'])\n",
    "df['sexo' ] = encoder.transform(df['sexo'])\n",
    "\n"
   ]
  },
  {
   "cell_type": "code",
   "execution_count": 8,
   "id": "d776db75-a8c9-491c-8bf7-bd15b80d0b87",
   "metadata": {},
   "outputs": [],
   "source": [
    "X = df[['clase','sexo','edad','hijos','valor']]\n",
    "y = df[['sobrevive']]\n",
    "\n",
    "#Separar losconjuntos en entrenamiento \"train\" y prueba \"test\"\n",
    "X_train, X_test, y_train, y_test =train_test_split(X, y, test_size=0.2)"
   ]
  },
  {
   "cell_type": "markdown",
   "id": "333c8118-2200-4023-8d54-7a83223694ce",
   "metadata": {},
   "source": [
    "## 6. Entrenamiento y predicción con modelos de clasificación"
   ]
  },
  {
   "cell_type": "markdown",
   "id": "e92ea440-1761-472e-b9d7-25a9ff3d98cc",
   "metadata": {},
   "source": [
    "### 6.1 Regresion logística"
   ]
  },
  {
   "cell_type": "code",
   "execution_count": 9,
   "id": "14e760cb-bacb-49de-98cc-a4ca5e06b188",
   "metadata": {},
   "outputs": [
    {
     "name": "stderr",
     "output_type": "stream",
     "text": [
      "c:\\Users\\pinku\\AppData\\Local\\Programs\\Python\\Lib\\site-packages\\sklearn\\utils\\validation.py:1300: DataConversionWarning: A column-vector y was passed when a 1d array was expected. Please change the shape of y to (n_samples, ), for example using ravel().\n",
      "  y = column_or_1d(y, warn=True)\n"
     ]
    },
    {
     "name": "stdout",
     "output_type": "stream",
     "text": [
      "\n",
      "La precision de entrenamiento del modelo de regresión logistica es: \n",
      "0.8019662921348315\n"
     ]
    }
   ],
   "source": [
    "#Definir el algoritmo\n",
    "RLog = LogisticRegressionCV(cv=10)\n",
    "\n",
    "#Entrenar el modelo\n",
    "RLog.fit(X_train, y_train)\n",
    "\n",
    "#Realizar predicción\n",
    "RLog.predict(X_test)\n",
    "\n",
    "#Calcular precisión\n",
    "print()\n",
    "print('La precision de entrenamiento del modelo de regresión logistica es: ')\n",
    "print(format(RLog.score(X_train, y_train)))\n"
   ]
  },
  {
   "cell_type": "markdown",
   "id": "0f57c92b-5fff-4644-a50c-ef747ec110ce",
   "metadata": {},
   "source": [
    "## 6.2 Arbol de clasificación"
   ]
  },
  {
   "cell_type": "code",
   "execution_count": 10,
   "id": "9feabccb-7651-4fcc-95d6-eb465ce6fdcd",
   "metadata": {},
   "outputs": [
    {
     "name": "stdout",
     "output_type": "stream",
     "text": [
      "\n",
      "La precision de entrenamiento del modelo de arbol de desición es: \n",
      "0.9859550561797753\n"
     ]
    }
   ],
   "source": [
    "#Definir el algoritmo\n",
    "AD=tree.DecisionTreeClassifier()\n",
    "\n",
    "#Entrenar el modelo\n",
    "AD.fit(X_train, y_train)\n",
    "\n",
    "#Realizar predicción\n",
    "Y_predAD = AD.predict(X_test)\n",
    "\n",
    "#Calcular precisión\n",
    "print()\n",
    "print('La precision de entrenamiento del modelo de arbol de desición es: ')\n",
    "print(format(AD.score(X_train, y_train)))\n"
   ]
  },
  {
   "cell_type": "markdown",
   "id": "7619a5c0-d1e1-4e2a-a9ce-f53bdc3bda13",
   "metadata": {},
   "source": [
    "## 6.3 Vecino más cercano"
   ]
  },
  {
   "cell_type": "code",
   "execution_count": 11,
   "id": "01a895a4-a28e-47e0-9bc1-85341287cb1b",
   "metadata": {},
   "outputs": [
    {
     "name": "stdout",
     "output_type": "stream",
     "text": [
      "\n",
      "La precision de entrenamiento del modelo del vecino más cercano es: \n",
      "0.8412921348314607\n"
     ]
    },
    {
     "name": "stderr",
     "output_type": "stream",
     "text": [
      "c:\\Users\\pinku\\AppData\\Local\\Programs\\Python\\Lib\\site-packages\\sklearn\\neighbors\\_classification.py:238: DataConversionWarning: A column-vector y was passed when a 1d array was expected. Please change the shape of y to (n_samples,), for example using ravel().\n",
      "  return self._fit(X, y)\n"
     ]
    }
   ],
   "source": [
    "#Definir el algoritmo\n",
    "KNN=KNeighborsClassifier(n_neighbors = 3)\n",
    "\n",
    "#Entrenar el modelo\n",
    "KNN.fit(X_train, y_train)\n",
    "\n",
    "#Realizar predicción\n",
    "KNN.predict(X_test)\n",
    "\n",
    "#Calcular precisión\n",
    "print()\n",
    "print('La precision de entrenamiento del modelo del vecino más cercano es: ')\n",
    "print(format(KNN.score(X_train, y_train)))\n"
   ]
  },
  {
   "cell_type": "markdown",
   "id": "1ae8f8c6-5ee2-4cc2-a586-82b796c5c615",
   "metadata": {},
   "source": [
    "### 6.4 Red Neuronal"
   ]
  },
  {
   "cell_type": "code",
   "execution_count": 12,
   "id": "9a7117e1-c552-4381-bee4-7a09808ba04e",
   "metadata": {},
   "outputs": [
    {
     "name": "stderr",
     "output_type": "stream",
     "text": [
      "c:\\Users\\pinku\\AppData\\Local\\Programs\\Python\\Lib\\site-packages\\sklearn\\neural_network\\_multilayer_perceptron.py:1101: DataConversionWarning: A column-vector y was passed when a 1d array was expected. Please change the shape of y to (n_samples, ), for example using ravel().\n",
      "  y = column_or_1d(y, warn=True)\n"
     ]
    },
    {
     "name": "stdout",
     "output_type": "stream",
     "text": [
      "\n",
      "La precision de entrenamiento del modelo de red neural es: \n",
      "0.8132022471910112\n"
     ]
    }
   ],
   "source": [
    "#Definir el algoritmo\n",
    "NN=MLPClassifier(hidden_layer_sizes=(100,100,200))\n",
    "\n",
    "#Entrenar el modelo\n",
    "NN.fit(X_train, y_train)\n",
    "\n",
    "#Realizar predicción\n",
    "NN.predict(X_test)\n",
    "\n",
    "#Calcular precisión\n",
    "print()\n",
    "print('La precision de entrenamiento del modelo de red neural es: ')\n",
    "print(format(NN.score(X_train, y_train)))\n"
   ]
  },
  {
   "cell_type": "markdown",
   "id": "6c26f529-d2e3-47dc-b9c8-64b539ed65ca",
   "metadata": {},
   "source": [
    "# 7. Metricas de desempeño"
   ]
  },
  {
   "cell_type": "code",
   "execution_count": 13,
   "id": "565a95f9-3f77-474c-9e47-1f5d3ba58b5e",
   "metadata": {},
   "outputs": [
    {
     "name": "stdout",
     "output_type": "stream",
     "text": [
      "              precision    recall  f1-score   support\n",
      "\n",
      "           0       0.76      0.81      0.78        99\n",
      "           1       0.74      0.69      0.71        80\n",
      "\n",
      "    accuracy                           0.75       179\n",
      "   macro avg       0.75      0.75      0.75       179\n",
      "weighted avg       0.75      0.75      0.75       179\n",
      "\n"
     ]
    }
   ],
   "source": [
    "Y_predAD = AD.predict(X_test)\n",
    "print(classification_report(y_test, Y_predAD))\n",
    "\n",
    "#Tomar el f1-score para comparor los modelos"
   ]
  },
  {
   "cell_type": "code",
   "execution_count": 14,
   "id": "6c5bc820-a7e6-4fe0-be0c-18085dc47e84",
   "metadata": {},
   "outputs": [
    {
     "name": "stdout",
     "output_type": "stream",
     "text": [
      "              precision    recall  f1-score   support\n",
      "\n",
      "           0       0.75      0.86      0.80        99\n",
      "           1       0.79      0.65      0.71        80\n",
      "\n",
      "    accuracy                           0.77       179\n",
      "   macro avg       0.77      0.75      0.76       179\n",
      "weighted avg       0.77      0.77      0.76       179\n",
      "\n"
     ]
    }
   ],
   "source": [
    "Y_predRlog = RLog.predict(X_test)\n",
    "print(classification_report(y_test, Y_predRlog))"
   ]
  },
  {
   "cell_type": "code",
   "execution_count": 15,
   "id": "a1e54d9c-4e3a-4ad3-869e-1473ca7db628",
   "metadata": {},
   "outputs": [
    {
     "name": "stdout",
     "output_type": "stream",
     "text": [
      "              precision    recall  f1-score   support\n",
      "\n",
      "           0       0.68      0.85      0.75        99\n",
      "           1       0.73      0.50      0.59        80\n",
      "\n",
      "    accuracy                           0.69       179\n",
      "   macro avg       0.70      0.67      0.67       179\n",
      "weighted avg       0.70      0.69      0.68       179\n",
      "\n"
     ]
    }
   ],
   "source": [
    "Y_predKNN = KNN.predict(X_test)\n",
    "print(classification_report(y_test, Y_predKNN))"
   ]
  },
  {
   "cell_type": "code",
   "execution_count": 16,
   "id": "a8a5fab3-9826-4d96-9b1f-ce87498ab912",
   "metadata": {},
   "outputs": [
    {
     "name": "stdout",
     "output_type": "stream",
     "text": [
      "              precision    recall  f1-score   support\n",
      "\n",
      "           0       0.74      0.88      0.81        99\n",
      "           1       0.81      0.62      0.70        80\n",
      "\n",
      "    accuracy                           0.77       179\n",
      "   macro avg       0.78      0.75      0.75       179\n",
      "weighted avg       0.77      0.77      0.76       179\n",
      "\n"
     ]
    }
   ],
   "source": [
    "Y_predNN = NN.predict(X_test)\n",
    "print(classification_report(y_test, Y_predNN))"
   ]
  },
  {
   "cell_type": "markdown",
   "id": "9c3d4d1a-ed27-466f-b568-2d349ddf9975",
   "metadata": {},
   "source": [
    "## 8. Predecir nuevos registros"
   ]
  },
  {
   "cell_type": "code",
   "execution_count": 17,
   "id": "9e48f0f6-dd59-4d85-876b-b5155850e6e0",
   "metadata": {},
   "outputs": [
    {
     "name": "stderr",
     "output_type": "stream",
     "text": [
      "c:\\Users\\pinku\\AppData\\Local\\Programs\\Python\\Lib\\site-packages\\sklearn\\base.py:493: UserWarning: X does not have valid feature names, but DecisionTreeClassifier was fitted with feature names\n",
      "  warnings.warn(\n"
     ]
    },
    {
     "ename": "ValueError",
     "evalue": "Expected 2D array, got 1D array instead:\narray=[ 1.  0. 27.  0. 20.].\nReshape your data either using array.reshape(-1, 1) if your data has a single feature or array.reshape(1, -1) if it contains a single sample.",
     "output_type": "error",
     "traceback": [
      "\u001b[1;31m---------------------------------------------------------------------------\u001b[0m",
      "\u001b[1;31mValueError\u001b[0m                                Traceback (most recent call last)",
      "Cell \u001b[1;32mIn[17], line 3\u001b[0m\n\u001b[0;32m      1\u001b[0m X_new \u001b[38;5;241m=\u001b[39m np\u001b[38;5;241m.\u001b[39marray([\u001b[38;5;241m1\u001b[39m,\u001b[38;5;241m0\u001b[39m,\u001b[38;5;241m27\u001b[39m,\u001b[38;5;241m0\u001b[39m,\u001b[38;5;241m20\u001b[39m])\n\u001b[1;32m----> 3\u001b[0m Pred \u001b[38;5;241m=\u001b[39m \u001b[43mAD\u001b[49m\u001b[38;5;241;43m.\u001b[39;49m\u001b[43mpredict\u001b[49m\u001b[43m(\u001b[49m\u001b[43mX_new\u001b[49m\u001b[43m)\u001b[49m\n",
      "File \u001b[1;32mc:\\Users\\pinku\\AppData\\Local\\Programs\\Python\\Lib\\site-packages\\sklearn\\tree\\_classes.py:529\u001b[0m, in \u001b[0;36mBaseDecisionTree.predict\u001b[1;34m(self, X, check_input)\u001b[0m\n\u001b[0;32m    506\u001b[0m \u001b[38;5;250m\u001b[39m\u001b[38;5;124;03m\"\"\"Predict class or regression value for X.\u001b[39;00m\n\u001b[0;32m    507\u001b[0m \n\u001b[0;32m    508\u001b[0m \u001b[38;5;124;03mFor a classification model, the predicted class for each sample in X is\u001b[39;00m\n\u001b[1;32m   (...)\u001b[0m\n\u001b[0;32m    526\u001b[0m \u001b[38;5;124;03m    The predicted classes, or the predict values.\u001b[39;00m\n\u001b[0;32m    527\u001b[0m \u001b[38;5;124;03m\"\"\"\u001b[39;00m\n\u001b[0;32m    528\u001b[0m check_is_fitted(\u001b[38;5;28mself\u001b[39m)\n\u001b[1;32m--> 529\u001b[0m X \u001b[38;5;241m=\u001b[39m \u001b[38;5;28;43mself\u001b[39;49m\u001b[38;5;241;43m.\u001b[39;49m\u001b[43m_validate_X_predict\u001b[49m\u001b[43m(\u001b[49m\u001b[43mX\u001b[49m\u001b[43m,\u001b[49m\u001b[43m \u001b[49m\u001b[43mcheck_input\u001b[49m\u001b[43m)\u001b[49m\n\u001b[0;32m    530\u001b[0m proba \u001b[38;5;241m=\u001b[39m \u001b[38;5;28mself\u001b[39m\u001b[38;5;241m.\u001b[39mtree_\u001b[38;5;241m.\u001b[39mpredict(X)\n\u001b[0;32m    531\u001b[0m n_samples \u001b[38;5;241m=\u001b[39m X\u001b[38;5;241m.\u001b[39mshape[\u001b[38;5;241m0\u001b[39m]\n",
      "File \u001b[1;32mc:\\Users\\pinku\\AppData\\Local\\Programs\\Python\\Lib\\site-packages\\sklearn\\tree\\_classes.py:489\u001b[0m, in \u001b[0;36mBaseDecisionTree._validate_X_predict\u001b[1;34m(self, X, check_input)\u001b[0m\n\u001b[0;32m    487\u001b[0m \u001b[38;5;28;01melse\u001b[39;00m:\n\u001b[0;32m    488\u001b[0m     force_all_finite \u001b[38;5;241m=\u001b[39m \u001b[38;5;28;01mTrue\u001b[39;00m\n\u001b[1;32m--> 489\u001b[0m X \u001b[38;5;241m=\u001b[39m \u001b[38;5;28;43mself\u001b[39;49m\u001b[38;5;241;43m.\u001b[39;49m\u001b[43m_validate_data\u001b[49m\u001b[43m(\u001b[49m\n\u001b[0;32m    490\u001b[0m \u001b[43m    \u001b[49m\u001b[43mX\u001b[49m\u001b[43m,\u001b[49m\n\u001b[0;32m    491\u001b[0m \u001b[43m    \u001b[49m\u001b[43mdtype\u001b[49m\u001b[38;5;241;43m=\u001b[39;49m\u001b[43mDTYPE\u001b[49m\u001b[43m,\u001b[49m\n\u001b[0;32m    492\u001b[0m \u001b[43m    \u001b[49m\u001b[43maccept_sparse\u001b[49m\u001b[38;5;241;43m=\u001b[39;49m\u001b[38;5;124;43m\"\u001b[39;49m\u001b[38;5;124;43mcsr\u001b[39;49m\u001b[38;5;124;43m\"\u001b[39;49m\u001b[43m,\u001b[49m\n\u001b[0;32m    493\u001b[0m \u001b[43m    \u001b[49m\u001b[43mreset\u001b[49m\u001b[38;5;241;43m=\u001b[39;49m\u001b[38;5;28;43;01mFalse\u001b[39;49;00m\u001b[43m,\u001b[49m\n\u001b[0;32m    494\u001b[0m \u001b[43m    \u001b[49m\u001b[43mforce_all_finite\u001b[49m\u001b[38;5;241;43m=\u001b[39;49m\u001b[43mforce_all_finite\u001b[49m\u001b[43m,\u001b[49m\n\u001b[0;32m    495\u001b[0m \u001b[43m\u001b[49m\u001b[43m)\u001b[49m\n\u001b[0;32m    496\u001b[0m \u001b[38;5;28;01mif\u001b[39;00m issparse(X) \u001b[38;5;129;01mand\u001b[39;00m (\n\u001b[0;32m    497\u001b[0m     X\u001b[38;5;241m.\u001b[39mindices\u001b[38;5;241m.\u001b[39mdtype \u001b[38;5;241m!=\u001b[39m np\u001b[38;5;241m.\u001b[39mintc \u001b[38;5;129;01mor\u001b[39;00m X\u001b[38;5;241m.\u001b[39mindptr\u001b[38;5;241m.\u001b[39mdtype \u001b[38;5;241m!=\u001b[39m np\u001b[38;5;241m.\u001b[39mintc\n\u001b[0;32m    498\u001b[0m ):\n\u001b[0;32m    499\u001b[0m     \u001b[38;5;28;01mraise\u001b[39;00m \u001b[38;5;167;01mValueError\u001b[39;00m(\u001b[38;5;124m\"\u001b[39m\u001b[38;5;124mNo support for np.int64 index based sparse matrices\u001b[39m\u001b[38;5;124m\"\u001b[39m)\n",
      "File \u001b[1;32mc:\\Users\\pinku\\AppData\\Local\\Programs\\Python\\Lib\\site-packages\\sklearn\\base.py:633\u001b[0m, in \u001b[0;36mBaseEstimator._validate_data\u001b[1;34m(self, X, y, reset, validate_separately, cast_to_ndarray, **check_params)\u001b[0m\n\u001b[0;32m    631\u001b[0m         out \u001b[38;5;241m=\u001b[39m X, y\n\u001b[0;32m    632\u001b[0m \u001b[38;5;28;01melif\u001b[39;00m \u001b[38;5;129;01mnot\u001b[39;00m no_val_X \u001b[38;5;129;01mand\u001b[39;00m no_val_y:\n\u001b[1;32m--> 633\u001b[0m     out \u001b[38;5;241m=\u001b[39m \u001b[43mcheck_array\u001b[49m\u001b[43m(\u001b[49m\u001b[43mX\u001b[49m\u001b[43m,\u001b[49m\u001b[43m \u001b[49m\u001b[43minput_name\u001b[49m\u001b[38;5;241;43m=\u001b[39;49m\u001b[38;5;124;43m\"\u001b[39;49m\u001b[38;5;124;43mX\u001b[39;49m\u001b[38;5;124;43m\"\u001b[39;49m\u001b[43m,\u001b[49m\u001b[43m \u001b[49m\u001b[38;5;241;43m*\u001b[39;49m\u001b[38;5;241;43m*\u001b[39;49m\u001b[43mcheck_params\u001b[49m\u001b[43m)\u001b[49m\n\u001b[0;32m    634\u001b[0m \u001b[38;5;28;01melif\u001b[39;00m no_val_X \u001b[38;5;129;01mand\u001b[39;00m \u001b[38;5;129;01mnot\u001b[39;00m no_val_y:\n\u001b[0;32m    635\u001b[0m     out \u001b[38;5;241m=\u001b[39m _check_y(y, \u001b[38;5;241m*\u001b[39m\u001b[38;5;241m*\u001b[39mcheck_params)\n",
      "File \u001b[1;32mc:\\Users\\pinku\\AppData\\Local\\Programs\\Python\\Lib\\site-packages\\sklearn\\utils\\validation.py:1035\u001b[0m, in \u001b[0;36mcheck_array\u001b[1;34m(array, accept_sparse, accept_large_sparse, dtype, order, copy, force_all_finite, ensure_2d, allow_nd, ensure_min_samples, ensure_min_features, estimator, input_name)\u001b[0m\n\u001b[0;32m   1028\u001b[0m         \u001b[38;5;28;01melse\u001b[39;00m:\n\u001b[0;32m   1029\u001b[0m             msg \u001b[38;5;241m=\u001b[39m (\n\u001b[0;32m   1030\u001b[0m                 \u001b[38;5;124mf\u001b[39m\u001b[38;5;124m\"\u001b[39m\u001b[38;5;124mExpected 2D array, got 1D array instead:\u001b[39m\u001b[38;5;130;01m\\n\u001b[39;00m\u001b[38;5;124marray=\u001b[39m\u001b[38;5;132;01m{\u001b[39;00marray\u001b[38;5;132;01m}\u001b[39;00m\u001b[38;5;124m.\u001b[39m\u001b[38;5;130;01m\\n\u001b[39;00m\u001b[38;5;124m\"\u001b[39m\n\u001b[0;32m   1031\u001b[0m                 \u001b[38;5;124m\"\u001b[39m\u001b[38;5;124mReshape your data either using array.reshape(-1, 1) if \u001b[39m\u001b[38;5;124m\"\u001b[39m\n\u001b[0;32m   1032\u001b[0m                 \u001b[38;5;124m\"\u001b[39m\u001b[38;5;124myour data has a single feature or array.reshape(1, -1) \u001b[39m\u001b[38;5;124m\"\u001b[39m\n\u001b[0;32m   1033\u001b[0m                 \u001b[38;5;124m\"\u001b[39m\u001b[38;5;124mif it contains a single sample.\u001b[39m\u001b[38;5;124m\"\u001b[39m\n\u001b[0;32m   1034\u001b[0m             )\n\u001b[1;32m-> 1035\u001b[0m         \u001b[38;5;28;01mraise\u001b[39;00m \u001b[38;5;167;01mValueError\u001b[39;00m(msg)\n\u001b[0;32m   1037\u001b[0m \u001b[38;5;28;01mif\u001b[39;00m dtype_numeric \u001b[38;5;129;01mand\u001b[39;00m \u001b[38;5;28mhasattr\u001b[39m(array\u001b[38;5;241m.\u001b[39mdtype, \u001b[38;5;124m\"\u001b[39m\u001b[38;5;124mkind\u001b[39m\u001b[38;5;124m\"\u001b[39m) \u001b[38;5;129;01mand\u001b[39;00m array\u001b[38;5;241m.\u001b[39mdtype\u001b[38;5;241m.\u001b[39mkind \u001b[38;5;129;01min\u001b[39;00m \u001b[38;5;124m\"\u001b[39m\u001b[38;5;124mUSV\u001b[39m\u001b[38;5;124m\"\u001b[39m:\n\u001b[0;32m   1038\u001b[0m     \u001b[38;5;28;01mraise\u001b[39;00m \u001b[38;5;167;01mValueError\u001b[39;00m(\n\u001b[0;32m   1039\u001b[0m         \u001b[38;5;124m\"\u001b[39m\u001b[38;5;124mdtype=\u001b[39m\u001b[38;5;124m'\u001b[39m\u001b[38;5;124mnumeric\u001b[39m\u001b[38;5;124m'\u001b[39m\u001b[38;5;124m is not compatible with arrays of bytes/strings.\u001b[39m\u001b[38;5;124m\"\u001b[39m\n\u001b[0;32m   1040\u001b[0m         \u001b[38;5;124m\"\u001b[39m\u001b[38;5;124mConvert your data to numeric values explicitly instead.\u001b[39m\u001b[38;5;124m\"\u001b[39m\n\u001b[0;32m   1041\u001b[0m     )\n",
      "\u001b[1;31mValueError\u001b[0m: Expected 2D array, got 1D array instead:\narray=[ 1.  0. 27.  0. 20.].\nReshape your data either using array.reshape(-1, 1) if your data has a single feature or array.reshape(1, -1) if it contains a single sample."
     ]
    }
   ],
   "source": [
    "X_new = np.array([1,0,27,0,20])\n",
    "\n",
    "Pred = AD.predict(X_new)\n"
   ]
  }
 ],
 "metadata": {
  "kernelspec": {
   "display_name": "Python 3 (ipykernel)",
   "language": "python",
   "name": "python3"
  },
  "language_info": {
   "codemirror_mode": {
    "name": "ipython",
    "version": 3
   },
   "file_extension": ".py",
   "mimetype": "text/x-python",
   "name": "python",
   "nbconvert_exporter": "python",
   "pygments_lexer": "ipython3",
   "version": "3.12.2"
  }
 },
 "nbformat": 4,
 "nbformat_minor": 5
}
