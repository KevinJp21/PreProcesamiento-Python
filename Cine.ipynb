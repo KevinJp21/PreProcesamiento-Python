{
 "cells": [
  {
   "cell_type": "markdown",
   "id": "dc6e8ccc-4473-4f1d-9a18-4044570c2aea",
   "metadata": {},
   "source": [
    "# Práctica 5: Clasificación ir a Cine"
   ]
  },
  {
   "cell_type": "code",
   "execution_count": null,
   "id": "d7a57e5f-7680-42c5-b355-f789c2fe2397",
   "metadata": {},
   "outputs": [],
   "source": [
    "# Cargar librerias\n",
    "import numpy as np\n",
    "import pandas as pd\n",
    "import seaborn as sns\n",
    "import matplotlib.pyplot as plt\n",
    "from sklearn import tree\n",
    "from sklearn.preprocessing import LabelEncoder # para la transformacion\n"
   ]
  },
  {
   "cell_type": "code",
   "execution_count": 2,
   "id": "87386110-03b3-4dd6-a0bc-50f39f16a384",
   "metadata": {},
   "outputs": [
    {
     "data": {
      "text/html": [
       "<div>\n",
       "<style scoped>\n",
       "    .dataframe tbody tr th:only-of-type {\n",
       "        vertical-align: middle;\n",
       "    }\n",
       "\n",
       "    .dataframe tbody tr th {\n",
       "        vertical-align: top;\n",
       "    }\n",
       "\n",
       "    .dataframe thead th {\n",
       "        text-align: right;\n",
       "    }\n",
       "</style>\n",
       "<table border=\"1\" class=\"dataframe\">\n",
       "  <thead>\n",
       "    <tr style=\"text-align: right;\">\n",
       "      <th></th>\n",
       "      <th>ID</th>\n",
       "      <th>Está lloviendo</th>\n",
       "      <th>Tengo dinero?</th>\n",
       "      <th>Me interesa la cartelera?</th>\n",
       "      <th>Asistiré</th>\n",
       "    </tr>\n",
       "  </thead>\n",
       "  <tbody>\n",
       "    <tr>\n",
       "      <th>0</th>\n",
       "      <td>1</td>\n",
       "      <td>Poco</td>\n",
       "      <td>Estricto</td>\n",
       "      <td>Si</td>\n",
       "      <td>Si</td>\n",
       "    </tr>\n",
       "    <tr>\n",
       "      <th>1</th>\n",
       "      <td>2</td>\n",
       "      <td>No</td>\n",
       "      <td>Holgado</td>\n",
       "      <td>Si</td>\n",
       "      <td>Si</td>\n",
       "    </tr>\n",
       "    <tr>\n",
       "      <th>2</th>\n",
       "      <td>3</td>\n",
       "      <td>No</td>\n",
       "      <td>Holgado</td>\n",
       "      <td>Si</td>\n",
       "      <td>Si</td>\n",
       "    </tr>\n",
       "    <tr>\n",
       "      <th>3</th>\n",
       "      <td>4</td>\n",
       "      <td>No</td>\n",
       "      <td>Estricto</td>\n",
       "      <td>No</td>\n",
       "      <td>No</td>\n",
       "    </tr>\n",
       "    <tr>\n",
       "      <th>4</th>\n",
       "      <td>5</td>\n",
       "      <td>Poco</td>\n",
       "      <td>Estricto</td>\n",
       "      <td>Si</td>\n",
       "      <td>Si</td>\n",
       "    </tr>\n",
       "  </tbody>\n",
       "</table>\n",
       "</div>"
      ],
      "text/plain": [
       "   ID Está lloviendo Tengo dinero? Me interesa la cartelera? Asistiré\n",
       "0   1           Poco      Estricto                        Si       Si\n",
       "1   2             No       Holgado                        Si       Si\n",
       "2   3             No       Holgado                        Si       Si\n",
       "3   4             No      Estricto                        No       No\n",
       "4   5           Poco      Estricto                        Si       Si"
      ]
     },
     "execution_count": 2,
     "metadata": {},
     "output_type": "execute_result"
    }
   ],
   "source": [
    "df = pd.read_excel('Ir_a_cine.xlsx')\n",
    "df.head()"
   ]
  },
  {
   "cell_type": "code",
   "execution_count": 7,
   "id": "0e6acab9-f9cc-42c9-9ed7-baefcea43af2",
   "metadata": {},
   "outputs": [
    {
     "data": {
      "text/html": [
       "<div>\n",
       "<style scoped>\n",
       "    .dataframe tbody tr th:only-of-type {\n",
       "        vertical-align: middle;\n",
       "    }\n",
       "\n",
       "    .dataframe tbody tr th {\n",
       "        vertical-align: top;\n",
       "    }\n",
       "\n",
       "    .dataframe thead th {\n",
       "        text-align: right;\n",
       "    }\n",
       "</style>\n",
       "<table border=\"1\" class=\"dataframe\">\n",
       "  <thead>\n",
       "    <tr style=\"text-align: right;\">\n",
       "      <th></th>\n",
       "      <th>ID</th>\n",
       "      <th>Está lloviendo</th>\n",
       "      <th>Tengo dinero?</th>\n",
       "      <th>Me interesa la cartelera?</th>\n",
       "      <th>Asistiré</th>\n",
       "    </tr>\n",
       "  </thead>\n",
       "  <tbody>\n",
       "    <tr>\n",
       "      <th>0</th>\n",
       "      <td>1</td>\n",
       "      <td>1</td>\n",
       "      <td>0</td>\n",
       "      <td>1</td>\n",
       "      <td>1</td>\n",
       "    </tr>\n",
       "    <tr>\n",
       "      <th>1</th>\n",
       "      <td>2</td>\n",
       "      <td>0</td>\n",
       "      <td>1</td>\n",
       "      <td>1</td>\n",
       "      <td>1</td>\n",
       "    </tr>\n",
       "    <tr>\n",
       "      <th>2</th>\n",
       "      <td>3</td>\n",
       "      <td>0</td>\n",
       "      <td>1</td>\n",
       "      <td>1</td>\n",
       "      <td>1</td>\n",
       "    </tr>\n",
       "    <tr>\n",
       "      <th>3</th>\n",
       "      <td>4</td>\n",
       "      <td>0</td>\n",
       "      <td>0</td>\n",
       "      <td>0</td>\n",
       "      <td>0</td>\n",
       "    </tr>\n",
       "    <tr>\n",
       "      <th>4</th>\n",
       "      <td>5</td>\n",
       "      <td>1</td>\n",
       "      <td>0</td>\n",
       "      <td>1</td>\n",
       "      <td>1</td>\n",
       "    </tr>\n",
       "  </tbody>\n",
       "</table>\n",
       "</div>"
      ],
      "text/plain": [
       "   ID  Está lloviendo  Tengo dinero?  Me interesa la cartelera?  Asistiré\n",
       "0   1               1              0                          1         1\n",
       "1   2               0              1                          1         1\n",
       "2   3               0              1                          1         1\n",
       "3   4               0              0                          0         0\n",
       "4   5               1              0                          1         1"
      ]
     },
     "execution_count": 7,
     "metadata": {},
     "output_type": "execute_result"
    }
   ],
   "source": [
    "encoder = LabelEncoder()\n",
    "ObjList = df.select_dtypes(include = ('object', 'bool')).columns\n",
    "\n",
    "for feat in ObjList:\n",
    "    df[feat] = encoder.fit_transform(df[feat].astype(str))\n",
    "\n",
    "df.head()"
   ]
  },
  {
   "cell_type": "code",
   "execution_count": 9,
   "id": "7e35bf91-3bd3-408e-9c4a-2f52fd914376",
   "metadata": {},
   "outputs": [
    {
     "data": {
      "image/png": "[encoded data removed]",
      "text/plain": [
       "<Figure size 1000x600 with 1 Axes>"
      ]
     },
     "metadata": {},
     "output_type": "display_data"
    }
   ],
   "source": [
    "X = df[['Está lloviendo','Tengo dinero?','Me interesa la cartelera?']]\n",
    "y = df['Asistiré']\n",
    "\n",
    "#Crear el clasificador\n",
    "\n",
    "AD = tree.DecisionTreeClassifier()\n",
    "\n",
    "#Entrenar clasificador\n",
    "\n",
    "AD = AD.fit(X,y)\n",
    "\n",
    "#Visualizar arbol de clasificacion\n",
    "plt.figure(figsize = (10,6))\n",
    "tree.plot_tree(AD, feature_names = ['Está lloviendo','Tengo dinero?','Me interesa la cartelera?'],class_names = ['No','Si'])\n",
    "plt.show()\n",
    "\n",
    "#Gini es la medida de impureza por la cual está valorando la variable"
   ]
  },
  {
   "cell_type": "code",
   "execution_count": 16,
   "id": "b39e98a4-c07b-46f5-a841-a04f702f4e23",
   "metadata": {},
   "outputs": [
    {
     "name": "stdout",
     "output_type": "stream",
     "text": [
      "No asistiré a cine\n"
     ]
    },
    {
     "name": "stderr",
     "output_type": "stream",
     "text": [
      "C:\\ProgramData\\anaconda3\\Lib\\site-packages\\sklearn\\base.py:439: UserWarning: X does not have valid feature names, but DecisionTreeClassifier was fitted with feature names\n",
      "  warnings.warn(\n"
     ]
    }
   ],
   "source": [
    "X_new = [[1,0,1]] #LLueve poco, estricto de dinero, me interesa crtelera\n",
    "\n",
    "prediccion = AD.predict(X_new)\n",
    "\n",
    "if prediccion[0] == 1:\n",
    "    print(\"No asistiré a cine\")\n",
    "else:\n",
    "    print(\"Si asistiré a cine\")"
   ]
  }
 ],
 "metadata": {
  "kernelspec": {
   "display_name": "Python 3 (ipykernel)",
   "language": "python",
   "name": "python3"
  },
  "language_info": {
   "codemirror_mode": {
    "name": "ipython",
    "version": 3
   },
   "file_extension": ".py",
   "mimetype": "text/x-python",
   "name": "python",
   "nbconvert_exporter": "python",
   "pygments_lexer": "ipython3",
   "version": "3.11.7"
  }
 },
 "nbformat": 4,
 "nbformat_minor": 5
}
