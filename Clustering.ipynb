{
 "cells": [
  {
   "cell_type": "markdown",
   "metadata": {
    "id": "DAuagAtHcqpT"
   },
   "source": [
    "# Modelado de Datos: Clustering\n",
    "1. Importar librerias\n",
    "2. Leer datos\n",
    "3. Clustering\n",
    "4. Interpretación"
   ]
  },
  {
   "cell_type": "markdown",
   "metadata": {
    "id": "mLR1t4JCc9ZV"
   },
   "source": [
    "## 1. Importar librerias"
   ]
  },
  {
   "cell_type": "code",
   "execution_count": null,
   "metadata": {
    "id": "eLUtjRhfc8Qd"
   },
   "outputs": [],
   "source": [
    "import pandas as pd\n",
    "import numpy as np\n",
    "import matplotlib.pyplot as plt\n",
    "import seaborn as sb\n",
    "from sklearn.cluster import KMeans\n",
    "from sklearn.metrics import pairwise_distances_argmin_min\n",
    "\n",
    "%matplotlib inline\n",
    "from mpl_toolkits.mplot3d import Axes3D\n",
    "plt.rcParams['figure.figsize'] = (16, 9)\n",
    "plt.style.use('ggplot')"
   ]
  },
  {
   "cell_type": "markdown",
   "metadata": {
    "id": "sS88FLCue4zz"
   },
   "source": [
    "## 2. Leer datos\n",
    "\n",
    "Como ejemplo utilizaremos de entradas un conjunto de datos, en el que se analizan rasgos de la personalidad de usuarios de Twitter. Hay 140 “famosos” del mundo en diferentes areas: deporte, cantantes, actores, etc. Basado en una metodología de psicología conocida como “Ocean: The Big Five” tendemos como características de entrada:\n",
    "\n",
    "usuario (el nombre en Twitter)\n",
    "\n",
    "“op” = Openness to experience – grado de apertura mental a nuevas experiencias, curiosidad, arte\n",
    "\n",
    "“co” =Conscientiousness – grado de orden, prolijidad, organización\n",
    "\n",
    "“ex” = Extraversion – grado de timidez, solitario o participación ante el grupo social\n",
    "\n",
    "“ag” = Agreeableness – grado de empatía con los demás, temperamento\n",
    "\n",
    "“ne” = Neuroticism, – grado de neuroticismo, nervioso, irritabilidad, seguridad en sí mismo.\n",
    "\n",
    "Wordcount – Cantidad promedio de palabras usadas en sus tweets\n",
    "\n",
    "Categoria – Actividad laboral del usuario (actor, cantante, etc.). Las categorias son: 1-actores 2-cantantes 3-modelo 4-TV 5-radio 6-tecnología 7-deportes 8-politica 9-escritor"
   ]
  },
  {
   "cell_type": "code",
   "execution_count": null,
   "metadata": {
    "colab": {
     "base_uri": "https://localhost:8080/",
     "height": 204
    },
    "id": "odNmYWDDgQSP",
    "outputId": "d48dfe72-bad2-412e-ec49-2d80ed88c9f4"
   },
   "outputs": [],
   "source": [
    "df = pd.read_csv(\"analisis.csv\")\n",
    "df.head()"
   ]
  },
  {
   "cell_type": "code",
   "execution_count": null,
   "metadata": {},
   "outputs": [],
   "source": [
    "df.describe()"
   ]
  },
  {
   "cell_type": "code",
   "execution_count": null,
   "metadata": {},
   "outputs": [],
   "source": [
    "#vemos cuantos usuarios hay de cada categoria\n",
    "print(df.groupby('categoria').size())"
   ]
  },
  {
   "cell_type": "code",
   "execution_count": null,
   "metadata": {},
   "outputs": [],
   "source": [
    "#visualizamos los datos\n",
    "df.drop(['categoria'],1).hist()\n",
    "plt.show()"
   ]
  },
  {
   "cell_type": "code",
   "execution_count": null,
   "metadata": {
    "colab": {
     "base_uri": "https://localhost:8080/"
    },
    "id": "V6cBE7favjHd",
    "outputId": "48992dcd-0233-4dee-ffec-cdf2b35c87ab"
   },
   "outputs": [],
   "source": [
    "#Para el ejercicio, sólo seleccionamos 3 dimensiones, para poder graficarlo\n",
    "X = np.array(df[[\"op\",\"ex\",\"ag\"]])\n",
    "y = np.array(df['categoria'])"
   ]
  },
  {
   "cell_type": "code",
   "execution_count": null,
   "metadata": {
    "colab": {
     "base_uri": "https://localhost:8080/",
     "height": 336
    },
    "id": "tKbFLW_mwT-O",
    "outputId": "20a9be5e-0bdc-46d3-d4f3-139713547493"
   },
   "outputs": [],
   "source": [
    "fig = plt.figure()\n",
    "ax = Axes3D(fig)\n",
    "colores=['blue','red','green','blue','cyan','yellow','orange','black','pink','brown','purple']\n",
    "#NOTA: asignamos la posición cero del array repetida pues las categorias comienzan en id 1. \n",
    "asignar=[]\n",
    "for row in y:\n",
    "    asignar.append(colores[row])\n",
    "ax.scatter(X[:, 0], X[:, 1], X[:, 2], c=asignar,s=60)"
   ]
  },
  {
   "cell_type": "markdown",
   "metadata": {
    "id": "paWUOar0wy-V"
   },
   "source": [
    "## 3. Clustering"
   ]
  },
  {
   "cell_type": "code",
   "execution_count": null,
   "metadata": {
    "colab": {
     "base_uri": "https://localhost:8080/"
    },
    "id": "AViKmf3kw5VY",
    "outputId": "0e69fe6a-cbea-4424-b2aa-ddb16b59b559"
   },
   "outputs": [],
   "source": [
    "# Para el ejercicio, elijo 4 como un buen valor de K. Pero podría ser otro.\n",
    "kmeans = KMeans(n_clusters=4).fit(X)\n",
    "centroids = kmeans.cluster_centers_\n",
    "print(centroids)"
   ]
  },
  {
   "cell_type": "code",
   "execution_count": null,
   "metadata": {
    "colab": {
     "base_uri": "https://localhost:8080/",
     "height": 336
    },
    "id": "ljyUGPuUxa6b",
    "outputId": "3af4fb91-b791-4c21-8967-6b07742cf9ad"
   },
   "outputs": [],
   "source": [
    "# Obtenemos las etiquetas de cada punto de nuestros datos\n",
    "labels = kmeans.predict(X)\n",
    "# Obtenemos los centroids\n",
    "C = kmeans.cluster_centers_\n",
    "colores=['red','green','blue','yellow']\n",
    "asignar=[]\n",
    "for row in labels:\n",
    "    asignar.append(colores[row])\n",
    "\n",
    "fig = plt.figure()\n",
    "ax = Axes3D(fig)\n",
    "ax.scatter(X[:, 0], X[:, 1], X[:, 2], c=asignar,s=60)\n",
    "ax.scatter(C[:, 0], C[:, 1], C[:, 2], marker='*', c=colores, s=1000)"
   ]
  },
  {
   "cell_type": "markdown",
   "metadata": {
    "id": "VSU0C35_x3q7"
   },
   "source": [
    "## 4. Interpretación"
   ]
  },
  {
   "cell_type": "code",
   "execution_count": null,
   "metadata": {
    "colab": {
     "base_uri": "https://localhost:8080/",
     "height": 265
    },
    "id": "2Skf9CXzx7BB",
    "outputId": "49d1957a-6a35-4038-a868-f868612cb29a"
   },
   "outputs": [],
   "source": [
    "# Hacemos una proyección a 2D con los diversos ejes \n",
    "f1 = df['op'].values\n",
    "f2 = df['ex'].values\n",
    "\n",
    "plt.scatter(f1, f2, c=asignar, s=70)\n",
    "plt.scatter(C[:, 0], C[:, 1], marker='*', c=colores, s=1000)\n",
    "plt.show()"
   ]
  },
  {
   "cell_type": "code",
   "execution_count": null,
   "metadata": {
    "colab": {
     "base_uri": "https://localhost:8080/",
     "height": 265
    },
    "id": "iHBbL0JWyQII",
    "outputId": "bd768e9b-6336-4988-af01-796da36ed0af"
   },
   "outputs": [],
   "source": [
    "# Hacemos una proyección a 2D con los diversos ejes \n",
    "f1 = df['op'].values\n",
    "f2 = df['ag'].values\n",
    "\n",
    "plt.scatter(f1, f2, c=asignar, s=70)\n",
    "plt.scatter(C[:, 0], C[:, 1], marker='*', c=colores, s=1000)\n",
    "plt.show()"
   ]
  },
  {
   "cell_type": "code",
   "execution_count": null,
   "metadata": {
    "colab": {
     "base_uri": "https://localhost:8080/",
     "height": 265
    },
    "id": "ehOtpSkHyYso",
    "outputId": "f9ce9c93-b9eb-4100-a0d8-fc93960a39a1"
   },
   "outputs": [],
   "source": [
    "# Hacemos una proyección a 2D con los diversos ejes \n",
    "f1 = df['ex'].values\n",
    "f2 = df['ag'].values\n",
    "\n",
    "plt.scatter(f1, f2, c=asignar, s=70)\n",
    "plt.scatter(C[:, 0], C[:, 1], marker='*', c=colores, s=1000)\n",
    "plt.show()"
   ]
  },
  {
   "cell_type": "code",
   "execution_count": null,
   "metadata": {
    "colab": {
     "base_uri": "https://localhost:8080/",
     "height": 173
    },
    "id": "o3VOoFjGzMDR",
    "outputId": "eb2c3ed2-f837-4b45-9b7b-160e716839f5"
   },
   "outputs": [],
   "source": [
    "# contamos cuantos usuarios hay en cada grupo\n",
    "copy =  pd.DataFrame()\n",
    "copy['usuario']=df['usuario'].values\n",
    "copy['categoria']=df['categoria'].values\n",
    "copy['label'] = labels;\n",
    "cantidadGrupo =  pd.DataFrame()\n",
    "cantidadGrupo['color']=colores\n",
    "cantidadGrupo['cantidad']=copy.groupby('label').size()\n",
    "cantidadGrupo"
   ]
  },
  {
   "cell_type": "code",
   "execution_count": null,
   "metadata": {
    "colab": {
     "base_uri": "https://localhost:8080/",
     "height": 359
    },
    "id": "5LfvMHTwzhs2",
    "outputId": "a8339554-c95b-4431-9af7-ea343d74db12"
   },
   "outputs": [],
   "source": [
    "# Veamos cuantos usuarios en cada categoria hay en el grupo 0\n",
    "group_referrer_index = copy['label'] ==0\n",
    "group_referrals = copy[group_referrer_index]\n",
    "\n",
    "diversidadGrupo =  pd.DataFrame()\n",
    "diversidadGrupo['categoria']=[0,1,2,3,4,5,6,7,8,9]\n",
    "diversidadGrupo['cantidad']=group_referrals.groupby('categoria').size()\n",
    "diversidadGrupo"
   ]
  },
  {
   "cell_type": "code",
   "execution_count": null,
   "metadata": {
    "colab": {
     "base_uri": "https://localhost:8080/"
    },
    "id": "dC-2zFPLy2AO",
    "outputId": "b95f0554-3643-4a9d-d217-6579394c0006"
   },
   "outputs": [],
   "source": [
    "#imprimimos en pantalla los usuarios con categoria 2 del grupo\n",
    "for index, row in group_referrals.iterrows():\n",
    "    if row[\"categoria\"] == 2:\n",
    "        print (row[\"usuario\"], row[\"categoria\"],row[\"label\"])"
   ]
  },
  {
   "cell_type": "code",
   "execution_count": null,
   "metadata": {},
   "outputs": [],
   "source": [
    "#vemos el representante del grupo, el usuario cercano a su centroid\n",
    "closest, _ = pairwise_distances_argmin_min(kmeans.cluster_centers_, X)\n",
    "closest\n",
    "users=df['usuario'].values\n",
    "for row in closest:\n",
    "    print(users[row])"
   ]
  },
  {
   "cell_type": "markdown",
   "metadata": {
    "id": "UxOi6cDx0kOD"
   },
   "source": [
    "## 6. Agrupación de nuevos usuarios"
   ]
  },
  {
   "cell_type": "code",
   "execution_count": null,
   "metadata": {
    "colab": {
     "base_uri": "https://localhost:8080/"
    },
    "id": "jxlNx4K90t84",
    "outputId": "41b847aa-01e0-4027-d969-6d47a2a2ccfd"
   },
   "outputs": [],
   "source": [
    "X_new = np.array([[45.92,57.74,15.66]]) #davidguetta personality traits\n",
    "new_labels = kmeans.predict(X_new)\n",
    "print(new_labels)\n",
    "\n",
    "#NOTA: en el array podemos poner más de un array para evaluar a varios usuarios nuevos a la vez"
   ]
  }
 ],
 "metadata": {
  "colab": {
   "name": "Clustering.ipynb",
   "provenance": [],
   "toc_visible": true
  },
  "kernelspec": {
   "display_name": "Python 3",
   "language": "python",
   "name": "python3"
  },
  "language_info": {
   "codemirror_mode": {
    "name": "ipython",
    "version": 3
   },
   "file_extension": ".py",
   "mimetype": "text/x-python",
   "name": "python",
   "nbconvert_exporter": "python",
   "pygments_lexer": "ipython3",
   "version": "3.7.3"
  }
 },
 "nbformat": 4,
 "nbformat_minor": 1
}
