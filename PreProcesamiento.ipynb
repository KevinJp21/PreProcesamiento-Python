{
 "cells": [
  {
   "cell_type": "markdown",
   "id": "d4495395-9ee2-4198-9c42-eeca4d18296f",
   "metadata": {},
   "source": [
    "Practica 2 Procesamiento de datos\n",
    "--"
   ]
  },
  {
   "cell_type": "markdown",
   "id": "24cd8827-105d-4ca8-b40f-a0eb5d62821e",
   "metadata": {},
   "source": [
    "# 1.Importar librerias\n",
    "--"
   ]
  },
  {
   "cell_type": "code",
   "execution_count": 1,
   "id": "27d1836d-1b49-40d7-bad7-cfa27c6b73e3",
   "metadata": {},
   "outputs": [
    {
     "name": "stdout",
     "output_type": "stream",
     "text": [
      "Defaulting to user installation because normal site-packages is not writeable\n",
      "Requirement already satisfied: numpy in c:\\programdata\\anaconda3\\lib\\site-packages (1.26.4)\n",
      "Defaulting to user installation because normal site-packages is not writeable\n",
      "Requirement already satisfied: pandas in c:\\programdata\\anaconda3\\lib\\site-packages (2.1.4)\n",
      "Requirement already satisfied: numpy<2,>=1.23.2 in c:\\programdata\\anaconda3\\lib\\site-packages (from pandas) (1.26.4)\n",
      "Requirement already satisfied: python-dateutil>=2.8.2 in c:\\programdata\\anaconda3\\lib\\site-packages (from pandas) (2.8.2)\n",
      "Requirement already satisfied: pytz>=2020.1 in c:\\programdata\\anaconda3\\lib\\site-packages (from pandas) (2023.3.post1)\n",
      "Requirement already satisfied: tzdata>=2022.1 in c:\\programdata\\anaconda3\\lib\\site-packages (from pandas) (2023.3)\n",
      "Requirement already satisfied: six>=1.5 in c:\\programdata\\anaconda3\\lib\\site-packages (from python-dateutil>=2.8.2->pandas) (1.16.0)\n",
      "Defaulting to user installation because normal site-packages is not writeable\n",
      "Requirement already satisfied: seaborn in c:\\programdata\\anaconda3\\lib\\site-packages (0.12.2)\n",
      "Requirement already satisfied: numpy!=1.24.0,>=1.17 in c:\\programdata\\anaconda3\\lib\\site-packages (from seaborn) (1.26.4)\n",
      "Requirement already satisfied: pandas>=0.25 in c:\\programdata\\anaconda3\\lib\\site-packages (from seaborn) (2.1.4)\n",
      "Requirement already satisfied: matplotlib!=3.6.1,>=3.1 in c:\\programdata\\anaconda3\\lib\\site-packages (from seaborn) (3.8.0)\n",
      "Requirement already satisfied: contourpy>=1.0.1 in c:\\programdata\\anaconda3\\lib\\site-packages (from matplotlib!=3.6.1,>=3.1->seaborn) (1.2.0)\n",
      "Requirement already satisfied: cycler>=0.10 in c:\\programdata\\anaconda3\\lib\\site-packages (from matplotlib!=3.6.1,>=3.1->seaborn) (0.11.0)\n",
      "Requirement already satisfied: fonttools>=4.22.0 in c:\\programdata\\anaconda3\\lib\\site-packages (from matplotlib!=3.6.1,>=3.1->seaborn) (4.25.0)\n",
      "Requirement already satisfied: kiwisolver>=1.0.1 in c:\\programdata\\anaconda3\\lib\\site-packages (from matplotlib!=3.6.1,>=3.1->seaborn) (1.4.4)\n",
      "Requirement already satisfied: packaging>=20.0 in c:\\programdata\\anaconda3\\lib\\site-packages (from matplotlib!=3.6.1,>=3.1->seaborn) (23.1)\n",
      "Requirement already satisfied: pillow>=6.2.0 in c:\\programdata\\anaconda3\\lib\\site-packages (from matplotlib!=3.6.1,>=3.1->seaborn) (10.2.0)\n",
      "Requirement already satisfied: pyparsing>=2.3.1 in c:\\programdata\\anaconda3\\lib\\site-packages (from matplotlib!=3.6.1,>=3.1->seaborn) (3.0.9)\n",
      "Requirement already satisfied: python-dateutil>=2.7 in c:\\programdata\\anaconda3\\lib\\site-packages (from matplotlib!=3.6.1,>=3.1->seaborn) (2.8.2)\n",
      "Requirement already satisfied: pytz>=2020.1 in c:\\programdata\\anaconda3\\lib\\site-packages (from pandas>=0.25->seaborn) (2023.3.post1)\n",
      "Requirement already satisfied: tzdata>=2022.1 in c:\\programdata\\anaconda3\\lib\\site-packages (from pandas>=0.25->seaborn) (2023.3)\n",
      "Requirement already satisfied: six>=1.5 in c:\\programdata\\anaconda3\\lib\\site-packages (from python-dateutil>=2.7->matplotlib!=3.6.1,>=3.1->seaborn) (1.16.0)\n",
      "Defaulting to user installation because normal site-packages is not writeable\n",
      "Requirement already satisfied: matplotlib in c:\\programdata\\anaconda3\\lib\\site-packages (3.8.0)\n",
      "Requirement already satisfied: contourpy>=1.0.1 in c:\\programdata\\anaconda3\\lib\\site-packages (from matplotlib) (1.2.0)\n",
      "Requirement already satisfied: cycler>=0.10 in c:\\programdata\\anaconda3\\lib\\site-packages (from matplotlib) (0.11.0)\n",
      "Requirement already satisfied: fonttools>=4.22.0 in c:\\programdata\\anaconda3\\lib\\site-packages (from matplotlib) (4.25.0)\n",
      "Requirement already satisfied: kiwisolver>=1.0.1 in c:\\programdata\\anaconda3\\lib\\site-packages (from matplotlib) (1.4.4)\n",
      "Requirement already satisfied: numpy<2,>=1.21 in c:\\programdata\\anaconda3\\lib\\site-packages (from matplotlib) (1.26.4)\n",
      "Requirement already satisfied: packaging>=20.0 in c:\\programdata\\anaconda3\\lib\\site-packages (from matplotlib) (23.1)\n",
      "Requirement already satisfied: pillow>=6.2.0 in c:\\programdata\\anaconda3\\lib\\site-packages (from matplotlib) (10.2.0)\n",
      "Requirement already satisfied: pyparsing>=2.3.1 in c:\\programdata\\anaconda3\\lib\\site-packages (from matplotlib) (3.0.9)\n",
      "Requirement already satisfied: python-dateutil>=2.7 in c:\\programdata\\anaconda3\\lib\\site-packages (from matplotlib) (2.8.2)\n",
      "Requirement already satisfied: six>=1.5 in c:\\programdata\\anaconda3\\lib\\site-packages (from python-dateutil>=2.7->matplotlib) (1.16.0)\n",
      "Defaulting to user installation because normal site-packages is not writeable\n",
      "Requirement already satisfied: pandas_profiling in c:\\users\\multimedia\\appdata\\roaming\\python\\python311\\site-packages (3.2.0)\n",
      "Requirement already satisfied: joblib~=1.1.0 in c:\\users\\multimedia\\appdata\\roaming\\python\\python311\\site-packages (from pandas_profiling) (1.1.1)\n",
      "Requirement already satisfied: scipy>=1.4.1 in c:\\programdata\\anaconda3\\lib\\site-packages (from pandas_profiling) (1.11.4)\n",
      "Requirement already satisfied: pandas!=1.0.0,!=1.0.1,!=1.0.2,!=1.1.0,>=0.25.3 in c:\\programdata\\anaconda3\\lib\\site-packages (from pandas_profiling) (2.1.4)\n",
      "Requirement already satisfied: matplotlib>=3.2.0 in c:\\programdata\\anaconda3\\lib\\site-packages (from pandas_profiling) (3.8.0)\n",
      "Requirement already satisfied: pydantic>=1.8.1 in c:\\programdata\\anaconda3\\lib\\site-packages (from pandas_profiling) (1.10.12)\n",
      "Requirement already satisfied: PyYAML>=5.0.0 in c:\\programdata\\anaconda3\\lib\\site-packages (from pandas_profiling) (6.0.1)\n",
      "Requirement already satisfied: jinja2>=2.11.1 in c:\\programdata\\anaconda3\\lib\\site-packages (from pandas_profiling) (3.1.3)\n",
      "Requirement already satisfied: markupsafe~=2.1.1 in c:\\programdata\\anaconda3\\lib\\site-packages (from pandas_profiling) (2.1.3)\n",
      "Requirement already satisfied: visions==0.7.4 in c:\\users\\multimedia\\appdata\\roaming\\python\\python311\\site-packages (from visions[type_image_path]==0.7.4->pandas_profiling) (0.7.4)\n",
      "Requirement already satisfied: numpy>=1.16.0 in c:\\programdata\\anaconda3\\lib\\site-packages (from pandas_profiling) (1.26.4)\n",
      "Requirement already satisfied: htmlmin>=0.1.12 in c:\\users\\multimedia\\appdata\\roaming\\python\\python311\\site-packages (from pandas_profiling) (0.1.12)\n",
      "Requirement already satisfied: missingno>=0.4.2 in c:\\users\\multimedia\\appdata\\roaming\\python\\python311\\site-packages (from pandas_profiling) (0.5.2)\n",
      "Requirement already satisfied: phik>=0.11.1 in c:\\users\\multimedia\\appdata\\roaming\\python\\python311\\site-packages (from pandas_profiling) (0.12.4)\n",
      "Requirement already satisfied: tangled-up-in-unicode==0.2.0 in c:\\users\\multimedia\\appdata\\roaming\\python\\python311\\site-packages (from pandas_profiling) (0.2.0)\n",
      "Requirement already satisfied: requests>=2.24.0 in c:\\programdata\\anaconda3\\lib\\site-packages (from pandas_profiling) (2.31.0)\n",
      "Requirement already satisfied: tqdm>=4.48.2 in c:\\programdata\\anaconda3\\lib\\site-packages (from pandas_profiling) (4.65.0)\n",
      "Requirement already satisfied: seaborn>=0.10.1 in c:\\programdata\\anaconda3\\lib\\site-packages (from pandas_profiling) (0.12.2)\n",
      "Requirement already satisfied: multimethod>=1.4 in c:\\users\\multimedia\\appdata\\roaming\\python\\python311\\site-packages (from pandas_profiling) (1.11.2)\n",
      "Requirement already satisfied: attrs>=19.3.0 in c:\\programdata\\anaconda3\\lib\\site-packages (from visions==0.7.4->visions[type_image_path]==0.7.4->pandas_profiling) (23.1.0)\n",
      "Requirement already satisfied: networkx>=2.4 in c:\\programdata\\anaconda3\\lib\\site-packages (from visions==0.7.4->visions[type_image_path]==0.7.4->pandas_profiling) (3.1)\n",
      "Requirement already satisfied: imagehash in c:\\users\\multimedia\\appdata\\roaming\\python\\python311\\site-packages (from visions[type_image_path]==0.7.4->pandas_profiling) (4.3.1)\n",
      "Requirement already satisfied: Pillow in c:\\programdata\\anaconda3\\lib\\site-packages (from visions[type_image_path]==0.7.4->pandas_profiling) (10.2.0)\n",
      "Requirement already satisfied: contourpy>=1.0.1 in c:\\programdata\\anaconda3\\lib\\site-packages (from matplotlib>=3.2.0->pandas_profiling) (1.2.0)\n",
      "Requirement already satisfied: cycler>=0.10 in c:\\programdata\\anaconda3\\lib\\site-packages (from matplotlib>=3.2.0->pandas_profiling) (0.11.0)\n",
      "Requirement already satisfied: fonttools>=4.22.0 in c:\\programdata\\anaconda3\\lib\\site-packages (from matplotlib>=3.2.0->pandas_profiling) (4.25.0)\n",
      "Requirement already satisfied: kiwisolver>=1.0.1 in c:\\programdata\\anaconda3\\lib\\site-packages (from matplotlib>=3.2.0->pandas_profiling) (1.4.4)\n",
      "Requirement already satisfied: packaging>=20.0 in c:\\programdata\\anaconda3\\lib\\site-packages (from matplotlib>=3.2.0->pandas_profiling) (23.1)\n",
      "Requirement already satisfied: pyparsing>=2.3.1 in c:\\programdata\\anaconda3\\lib\\site-packages (from matplotlib>=3.2.0->pandas_profiling) (3.0.9)\n",
      "Requirement already satisfied: python-dateutil>=2.7 in c:\\programdata\\anaconda3\\lib\\site-packages (from matplotlib>=3.2.0->pandas_profiling) (2.8.2)\n",
      "Requirement already satisfied: pytz>=2020.1 in c:\\programdata\\anaconda3\\lib\\site-packages (from pandas!=1.0.0,!=1.0.1,!=1.0.2,!=1.1.0,>=0.25.3->pandas_profiling) (2023.3.post1)\n",
      "Requirement already satisfied: tzdata>=2022.1 in c:\\programdata\\anaconda3\\lib\\site-packages (from pandas!=1.0.0,!=1.0.1,!=1.0.2,!=1.1.0,>=0.25.3->pandas_profiling) (2023.3)\n",
      "Requirement already satisfied: typing-extensions>=4.2.0 in c:\\programdata\\anaconda3\\lib\\site-packages (from pydantic>=1.8.1->pandas_profiling) (4.9.0)\n",
      "Requirement already satisfied: charset-normalizer<4,>=2 in c:\\programdata\\anaconda3\\lib\\site-packages (from requests>=2.24.0->pandas_profiling) (2.0.4)\n",
      "Requirement already satisfied: idna<4,>=2.5 in c:\\programdata\\anaconda3\\lib\\site-packages (from requests>=2.24.0->pandas_profiling) (3.4)\n",
      "Requirement already satisfied: urllib3<3,>=1.21.1 in c:\\programdata\\anaconda3\\lib\\site-packages (from requests>=2.24.0->pandas_profiling) (2.0.7)\n",
      "Requirement already satisfied: certifi>=2017.4.17 in c:\\programdata\\anaconda3\\lib\\site-packages (from requests>=2.24.0->pandas_profiling) (2024.2.2)\n",
      "Requirement already satisfied: colorama in c:\\programdata\\anaconda3\\lib\\site-packages (from tqdm>=4.48.2->pandas_profiling) (0.4.6)\n",
      "Requirement already satisfied: six>=1.5 in c:\\programdata\\anaconda3\\lib\\site-packages (from python-dateutil>=2.7->matplotlib>=3.2.0->pandas_profiling) (1.16.0)\n",
      "Requirement already satisfied: PyWavelets in c:\\programdata\\anaconda3\\lib\\site-packages (from imagehash->visions[type_image_path]==0.7.4->pandas_profiling) (1.5.0)\n"
     ]
    }
   ],
   "source": [
    "!pip install numpy\n",
    "!pip install pandas\n",
    "!pip install seaborn\n",
    "!pip install matplotlib\n",
    "!pip install pandas_profiling"
   ]
  },
  {
   "cell_type": "code",
   "execution_count": 2,
   "id": "29d04051-3159-47aa-ae97-69c12f1dbe15",
   "metadata": {},
   "outputs": [],
   "source": [
    "import numpy as np\n",
    "import pandas as pd\n",
    "import seaborn as sns\n",
    "import matplotlib.pyplot as plt\n",
    "from sklearn import preprocessing\n",
    "from sklearn.preprocessing import LabelEncoder"
   ]
  },
  {
   "cell_type": "code",
   "execution_count": 3,
   "id": "e3ec3502-e9d5-4bd3-8b46-f6d37a623121",
   "metadata": {},
   "outputs": [
    {
     "data": {
      "text/html": [
       "<div>\n",
       "<style scoped>\n",
       "    .dataframe tbody tr th:only-of-type {\n",
       "        vertical-align: middle;\n",
       "    }\n",
       "\n",
       "    .dataframe tbody tr th {\n",
       "        vertical-align: top;\n",
       "    }\n",
       "\n",
       "    .dataframe thead th {\n",
       "        text-align: right;\n",
       "    }\n",
       "</style>\n",
       "<table border=\"1\" class=\"dataframe\">\n",
       "  <thead>\n",
       "    <tr style=\"text-align: right;\">\n",
       "      <th></th>\n",
       "      <th>Unnamed: 0</th>\n",
       "      <th>index</th>\n",
       "      <th>Job Title</th>\n",
       "      <th>Job Description</th>\n",
       "      <th>Rating</th>\n",
       "      <th>Company Name</th>\n",
       "      <th>Founded</th>\n",
       "      <th>Type of ownership</th>\n",
       "      <th>Industry</th>\n",
       "      <th>Sector</th>\n",
       "      <th>...</th>\n",
       "      <th>Location City</th>\n",
       "      <th>Location State</th>\n",
       "      <th>Headquarters City</th>\n",
       "      <th>Headquarters State</th>\n",
       "      <th>Minimum Revenue</th>\n",
       "      <th>Maximum Revenue</th>\n",
       "      <th>Minimum Size</th>\n",
       "      <th>Maximum Size</th>\n",
       "      <th>Average Revenue</th>\n",
       "      <th>Average Salary</th>\n",
       "    </tr>\n",
       "  </thead>\n",
       "  <tbody>\n",
       "    <tr>\n",
       "      <th>0</th>\n",
       "      <td>0</td>\n",
       "      <td>0</td>\n",
       "      <td>Senior Data Scientist</td>\n",
       "      <td>ABOUT HOPPER\\n\\nAt Hopper, we’re on a mission ...</td>\n",
       "      <td>3.5</td>\n",
       "      <td>Hopper\\n3.5</td>\n",
       "      <td>2007.0</td>\n",
       "      <td>Company - Private</td>\n",
       "      <td>Travel Agencies</td>\n",
       "      <td>Travel &amp; Tourism</td>\n",
       "      <td>...</td>\n",
       "      <td>New York</td>\n",
       "      <td>NY</td>\n",
       "      <td>Montreal</td>\n",
       "      <td>Canada</td>\n",
       "      <td>NaN</td>\n",
       "      <td>NaN</td>\n",
       "      <td>501.0</td>\n",
       "      <td>1000.0</td>\n",
       "      <td>NaN</td>\n",
       "      <td>146.0</td>\n",
       "    </tr>\n",
       "    <tr>\n",
       "      <th>1</th>\n",
       "      <td>1</td>\n",
       "      <td>1</td>\n",
       "      <td>Data Scientist</td>\n",
       "      <td>At Noom, we use scientifically proven methods ...</td>\n",
       "      <td>4.5</td>\n",
       "      <td>Noom US\\n4.5</td>\n",
       "      <td>2008.0</td>\n",
       "      <td>Company - Private</td>\n",
       "      <td>Health, Beauty, &amp; Fitness</td>\n",
       "      <td>Consumer Services</td>\n",
       "      <td>...</td>\n",
       "      <td>New York</td>\n",
       "      <td>NY</td>\n",
       "      <td>New York</td>\n",
       "      <td>NY</td>\n",
       "      <td>NaN</td>\n",
       "      <td>NaN</td>\n",
       "      <td>1001.0</td>\n",
       "      <td>5000.0</td>\n",
       "      <td>NaN</td>\n",
       "      <td>146.0</td>\n",
       "    </tr>\n",
       "    <tr>\n",
       "      <th>2</th>\n",
       "      <td>2</td>\n",
       "      <td>2</td>\n",
       "      <td>Data Science Manager</td>\n",
       "      <td>Decode_M\\n\\nhttps://www.decode-m.com/\\n\\nData ...</td>\n",
       "      <td>NaN</td>\n",
       "      <td>Decode_M</td>\n",
       "      <td>NaN</td>\n",
       "      <td>Unknown</td>\n",
       "      <td>NaN</td>\n",
       "      <td>NaN</td>\n",
       "      <td>...</td>\n",
       "      <td>New York</td>\n",
       "      <td>NY</td>\n",
       "      <td>New York</td>\n",
       "      <td>NY</td>\n",
       "      <td>NaN</td>\n",
       "      <td>NaN</td>\n",
       "      <td>1.0</td>\n",
       "      <td>50.0</td>\n",
       "      <td>NaN</td>\n",
       "      <td>146.0</td>\n",
       "    </tr>\n",
       "    <tr>\n",
       "      <th>3</th>\n",
       "      <td>3</td>\n",
       "      <td>3</td>\n",
       "      <td>Data Analyst</td>\n",
       "      <td>Sapphire Digital seeks a dynamic and driven mi...</td>\n",
       "      <td>3.4</td>\n",
       "      <td>Sapphire Digital\\n3.4</td>\n",
       "      <td>2019.0</td>\n",
       "      <td>Company - Private</td>\n",
       "      <td>Internet</td>\n",
       "      <td>Information Technology</td>\n",
       "      <td>...</td>\n",
       "      <td>Lyndhurst</td>\n",
       "      <td>NJ</td>\n",
       "      <td>Lyndhurst</td>\n",
       "      <td>NJ</td>\n",
       "      <td>NaN</td>\n",
       "      <td>NaN</td>\n",
       "      <td>201.0</td>\n",
       "      <td>500.0</td>\n",
       "      <td>NaN</td>\n",
       "      <td>146.0</td>\n",
       "    </tr>\n",
       "    <tr>\n",
       "      <th>4</th>\n",
       "      <td>4</td>\n",
       "      <td>4</td>\n",
       "      <td>Director</td>\n",
       "      <td>Director, Data Science - (200537)\\nDescription...</td>\n",
       "      <td>3.4</td>\n",
       "      <td>United Entertainment Group\\n3.4</td>\n",
       "      <td>2007.0</td>\n",
       "      <td>Company - Private</td>\n",
       "      <td>Advertising &amp; Marketing</td>\n",
       "      <td>Business Services</td>\n",
       "      <td>...</td>\n",
       "      <td>New York</td>\n",
       "      <td>NY</td>\n",
       "      <td>New York</td>\n",
       "      <td>NY</td>\n",
       "      <td>NaN</td>\n",
       "      <td>NaN</td>\n",
       "      <td>51.0</td>\n",
       "      <td>200.0</td>\n",
       "      <td>NaN</td>\n",
       "      <td>146.0</td>\n",
       "    </tr>\n",
       "  </tbody>\n",
       "</table>\n",
       "<p>5 rows × 25 columns</p>\n",
       "</div>"
      ],
      "text/plain": [
       "   Unnamed: 0  index              Job Title  \\\n",
       "0           0      0  Senior Data Scientist   \n",
       "1           1      1         Data Scientist   \n",
       "2           2      2   Data Science Manager   \n",
       "3           3      3           Data Analyst   \n",
       "4           4      4               Director   \n",
       "\n",
       "                                     Job Description  Rating  \\\n",
       "0  ABOUT HOPPER\\n\\nAt Hopper, we’re on a mission ...     3.5   \n",
       "1  At Noom, we use scientifically proven methods ...     4.5   \n",
       "2  Decode_M\\n\\nhttps://www.decode-m.com/\\n\\nData ...     NaN   \n",
       "3  Sapphire Digital seeks a dynamic and driven mi...     3.4   \n",
       "4  Director, Data Science - (200537)\\nDescription...     3.4   \n",
       "\n",
       "                      Company Name  Founded  Type of ownership  \\\n",
       "0                      Hopper\\n3.5   2007.0  Company - Private   \n",
       "1                     Noom US\\n4.5   2008.0  Company - Private   \n",
       "2                         Decode_M      NaN            Unknown   \n",
       "3            Sapphire Digital\\n3.4   2019.0  Company - Private   \n",
       "4  United Entertainment Group\\n3.4   2007.0  Company - Private   \n",
       "\n",
       "                    Industry                  Sector  ... Location City  \\\n",
       "0            Travel Agencies        Travel & Tourism  ...      New York   \n",
       "1  Health, Beauty, & Fitness       Consumer Services  ...      New York   \n",
       "2                        NaN                     NaN  ...      New York   \n",
       "3                   Internet  Information Technology  ...     Lyndhurst   \n",
       "4    Advertising & Marketing       Business Services  ...      New York   \n",
       "\n",
       "   Location State  Headquarters City  Headquarters State  Minimum Revenue  \\\n",
       "0              NY           Montreal              Canada              NaN   \n",
       "1              NY           New York                  NY              NaN   \n",
       "2              NY           New York                  NY              NaN   \n",
       "3              NJ          Lyndhurst                  NJ              NaN   \n",
       "4              NY           New York                  NY              NaN   \n",
       "\n",
       "  Maximum Revenue Minimum Size Maximum Size Average Revenue  Average Salary  \n",
       "0             NaN        501.0       1000.0             NaN           146.0  \n",
       "1             NaN       1001.0       5000.0             NaN           146.0  \n",
       "2             NaN          1.0         50.0             NaN           146.0  \n",
       "3             NaN        201.0        500.0             NaN           146.0  \n",
       "4             NaN         51.0        200.0             NaN           146.0  \n",
       "\n",
       "[5 rows x 25 columns]"
      ]
     },
     "execution_count": 3,
     "metadata": {},
     "output_type": "execute_result"
    }
   ],
   "source": [
    "df= pd.read_csv('DataScientist.csv')\n",
    "df.head()"
   ]
  },
  {
   "cell_type": "markdown",
   "id": "d46d9b8e-7318-45f4-8cfe-f8922a8bbc9e",
   "metadata": {},
   "source": [
    "2.2 Seleccionar datos\n",
    "--\n"
   ]
  },
  {
   "cell_type": "code",
   "execution_count": 4,
   "id": "dca20e6b-8fda-4dc6-a263-2e61809ead31",
   "metadata": {},
   "outputs": [
    {
     "data": {
      "text/plain": [
       "Index(['Unnamed: 0', 'index', 'Job Title', 'Job Description', 'Rating',\n",
       "       'Company Name', 'Founded', 'Type of ownership', 'Industry', 'Sector',\n",
       "       'Competitors', 'Easy Apply', 'Minimum Salary', 'Maximum Salary',\n",
       "       'Est_Salary', 'Location City', 'Location State', 'Headquarters City',\n",
       "       'Headquarters State', 'Minimum Revenue', 'Maximum Revenue',\n",
       "       'Minimum Size', 'Maximum Size', 'Average Revenue', 'Average Salary'],\n",
       "      dtype='object')"
      ]
     },
     "execution_count": 4,
     "metadata": {},
     "output_type": "execute_result"
    }
   ],
   "source": [
    "df.columns\n"
   ]
  },
  {
   "cell_type": "code",
   "execution_count": 5,
   "id": "d9a865ea-7907-4c40-ad91-61035c3459c6",
   "metadata": {},
   "outputs": [
    {
     "data": {
      "text/html": [
       "<div>\n",
       "<style scoped>\n",
       "    .dataframe tbody tr th:only-of-type {\n",
       "        vertical-align: middle;\n",
       "    }\n",
       "\n",
       "    .dataframe tbody tr th {\n",
       "        vertical-align: top;\n",
       "    }\n",
       "\n",
       "    .dataframe thead th {\n",
       "        text-align: right;\n",
       "    }\n",
       "</style>\n",
       "<table border=\"1\" class=\"dataframe\">\n",
       "  <thead>\n",
       "    <tr style=\"text-align: right;\">\n",
       "      <th></th>\n",
       "      <th>Job Title</th>\n",
       "      <th>Rating</th>\n",
       "      <th>Type of ownership</th>\n",
       "      <th>Sector</th>\n",
       "      <th>Easy Apply</th>\n",
       "      <th>Location State</th>\n",
       "      <th>Average Revenue</th>\n",
       "      <th>Average Salary</th>\n",
       "    </tr>\n",
       "  </thead>\n",
       "  <tbody>\n",
       "    <tr>\n",
       "      <th>0</th>\n",
       "      <td>Senior Data Scientist</td>\n",
       "      <td>3.5</td>\n",
       "      <td>Company - Private</td>\n",
       "      <td>Travel &amp; Tourism</td>\n",
       "      <td>True</td>\n",
       "      <td>NY</td>\n",
       "      <td>NaN</td>\n",
       "      <td>146.0</td>\n",
       "    </tr>\n",
       "    <tr>\n",
       "      <th>1</th>\n",
       "      <td>Data Scientist</td>\n",
       "      <td>4.5</td>\n",
       "      <td>Company - Private</td>\n",
       "      <td>Consumer Services</td>\n",
       "      <td>True</td>\n",
       "      <td>NY</td>\n",
       "      <td>NaN</td>\n",
       "      <td>146.0</td>\n",
       "    </tr>\n",
       "    <tr>\n",
       "      <th>2</th>\n",
       "      <td>Data Science Manager</td>\n",
       "      <td>NaN</td>\n",
       "      <td>Unknown</td>\n",
       "      <td>NaN</td>\n",
       "      <td>True</td>\n",
       "      <td>NY</td>\n",
       "      <td>NaN</td>\n",
       "      <td>146.0</td>\n",
       "    </tr>\n",
       "    <tr>\n",
       "      <th>3</th>\n",
       "      <td>Data Analyst</td>\n",
       "      <td>3.4</td>\n",
       "      <td>Company - Private</td>\n",
       "      <td>Information Technology</td>\n",
       "      <td>True</td>\n",
       "      <td>NJ</td>\n",
       "      <td>NaN</td>\n",
       "      <td>146.0</td>\n",
       "    </tr>\n",
       "    <tr>\n",
       "      <th>4</th>\n",
       "      <td>Director</td>\n",
       "      <td>3.4</td>\n",
       "      <td>Company - Private</td>\n",
       "      <td>Business Services</td>\n",
       "      <td>True</td>\n",
       "      <td>NY</td>\n",
       "      <td>NaN</td>\n",
       "      <td>146.0</td>\n",
       "    </tr>\n",
       "  </tbody>\n",
       "</table>\n",
       "</div>"
      ],
      "text/plain": [
       "               Job Title  Rating  Type of ownership                  Sector  \\\n",
       "0  Senior Data Scientist     3.5  Company - Private        Travel & Tourism   \n",
       "1         Data Scientist     4.5  Company - Private       Consumer Services   \n",
       "2   Data Science Manager     NaN            Unknown                     NaN   \n",
       "3           Data Analyst     3.4  Company - Private  Information Technology   \n",
       "4               Director     3.4  Company - Private       Business Services   \n",
       "\n",
       "   Easy Apply Location State  Average Revenue  Average Salary  \n",
       "0        True             NY              NaN           146.0  \n",
       "1        True             NY              NaN           146.0  \n",
       "2        True             NY              NaN           146.0  \n",
       "3        True             NJ              NaN           146.0  \n",
       "4        True             NY              NaN           146.0  "
      ]
     },
     "execution_count": 5,
     "metadata": {},
     "output_type": "execute_result"
    }
   ],
   "source": [
    "df = df[['Job Title', 'Rating',\n",
    "        'Type of ownership', 'Sector',\n",
    "        'Easy Apply',\n",
    "        'Location State',\n",
    "        'Average Revenue', 'Average Salary']]\n",
    "df.head()"
   ]
  },
  {
   "cell_type": "markdown",
   "id": "b3ae65cf-23ce-433c-9af4-af0e618a4d11",
   "metadata": {},
   "source": [
    "2.3 Renombrar columnas\n",
    "--"
   ]
  },
  {
   "cell_type": "code",
   "execution_count": 6,
   "id": "215fa590-f167-4afb-8ef9-6ebe0e2dd688",
   "metadata": {},
   "outputs": [
    {
     "data": {
      "text/html": [
       "<div>\n",
       "<style scoped>\n",
       "    .dataframe tbody tr th:only-of-type {\n",
       "        vertical-align: middle;\n",
       "    }\n",
       "\n",
       "    .dataframe tbody tr th {\n",
       "        vertical-align: top;\n",
       "    }\n",
       "\n",
       "    .dataframe thead th {\n",
       "        text-align: right;\n",
       "    }\n",
       "</style>\n",
       "<table border=\"1\" class=\"dataframe\">\n",
       "  <thead>\n",
       "    <tr style=\"text-align: right;\">\n",
       "      <th></th>\n",
       "      <th>cargo</th>\n",
       "      <th>rating</th>\n",
       "      <th>tipo</th>\n",
       "      <th>sector</th>\n",
       "      <th>aplicacion</th>\n",
       "      <th>estado</th>\n",
       "      <th>ingreso</th>\n",
       "      <th>salario</th>\n",
       "    </tr>\n",
       "  </thead>\n",
       "  <tbody>\n",
       "    <tr>\n",
       "      <th>0</th>\n",
       "      <td>Senior Data Scientist</td>\n",
       "      <td>3.5</td>\n",
       "      <td>Company - Private</td>\n",
       "      <td>Travel &amp; Tourism</td>\n",
       "      <td>True</td>\n",
       "      <td>NY</td>\n",
       "      <td>NaN</td>\n",
       "      <td>146.0</td>\n",
       "    </tr>\n",
       "    <tr>\n",
       "      <th>1</th>\n",
       "      <td>Data Scientist</td>\n",
       "      <td>4.5</td>\n",
       "      <td>Company - Private</td>\n",
       "      <td>Consumer Services</td>\n",
       "      <td>True</td>\n",
       "      <td>NY</td>\n",
       "      <td>NaN</td>\n",
       "      <td>146.0</td>\n",
       "    </tr>\n",
       "    <tr>\n",
       "      <th>2</th>\n",
       "      <td>Data Science Manager</td>\n",
       "      <td>NaN</td>\n",
       "      <td>Unknown</td>\n",
       "      <td>NaN</td>\n",
       "      <td>True</td>\n",
       "      <td>NY</td>\n",
       "      <td>NaN</td>\n",
       "      <td>146.0</td>\n",
       "    </tr>\n",
       "    <tr>\n",
       "      <th>3</th>\n",
       "      <td>Data Analyst</td>\n",
       "      <td>3.4</td>\n",
       "      <td>Company - Private</td>\n",
       "      <td>Information Technology</td>\n",
       "      <td>True</td>\n",
       "      <td>NJ</td>\n",
       "      <td>NaN</td>\n",
       "      <td>146.0</td>\n",
       "    </tr>\n",
       "    <tr>\n",
       "      <th>4</th>\n",
       "      <td>Director</td>\n",
       "      <td>3.4</td>\n",
       "      <td>Company - Private</td>\n",
       "      <td>Business Services</td>\n",
       "      <td>True</td>\n",
       "      <td>NY</td>\n",
       "      <td>NaN</td>\n",
       "      <td>146.0</td>\n",
       "    </tr>\n",
       "  </tbody>\n",
       "</table>\n",
       "</div>"
      ],
      "text/plain": [
       "                   cargo  rating               tipo                  sector  \\\n",
       "0  Senior Data Scientist     3.5  Company - Private        Travel & Tourism   \n",
       "1         Data Scientist     4.5  Company - Private       Consumer Services   \n",
       "2   Data Science Manager     NaN            Unknown                     NaN   \n",
       "3           Data Analyst     3.4  Company - Private  Information Technology   \n",
       "4               Director     3.4  Company - Private       Business Services   \n",
       "\n",
       "   aplicacion estado  ingreso  salario  \n",
       "0        True     NY      NaN    146.0  \n",
       "1        True     NY      NaN    146.0  \n",
       "2        True     NY      NaN    146.0  \n",
       "3        True     NJ      NaN    146.0  \n",
       "4        True     NY      NaN    146.0  "
      ]
     },
     "execution_count": 6,
     "metadata": {},
     "output_type": "execute_result"
    }
   ],
   "source": [
    "df.columns = ['cargo', 'rating', 'tipo', 'sector', 'aplicacion', 'estado', 'ingreso', 'salario']\n",
    "df.head()"
   ]
  },
  {
   "cell_type": "markdown",
   "id": "afb17196-dfc5-4943-bfd2-59806d4ec064",
   "metadata": {},
   "source": [
    "# 3. Limpieza de datos"
   ]
  },
  {
   "cell_type": "markdown",
   "id": "9cb300d4-f7aa-4d76-ab1e-2847508a446e",
   "metadata": {},
   "source": [
    "# Consultar si hay datos perdidos\n",
    "df.isnull().any()"
   ]
  },
  {
   "cell_type": "code",
   "execution_count": 7,
   "id": "edd739b4-1f71-4db5-b099-8f254d058ac4",
   "metadata": {},
   "outputs": [
    {
     "data": {
      "text/plain": [
       "cargo            0\n",
       "rating         409\n",
       "tipo           229\n",
       "sector         546\n",
       "aplicacion       0\n",
       "estado           0\n",
       "ingreso       1392\n",
       "salario          0\n",
       "dtype: int64"
      ]
     },
     "execution_count": 7,
     "metadata": {},
     "output_type": "execute_result"
    }
   ],
   "source": [
    "#Consultar cuantos datos perdidos por columna hay\n",
    "df.isnull().sum()"
   ]
  },
  {
   "cell_type": "code",
   "execution_count": 8,
   "id": "21d53d2e-5875-4f32-abc1-ea301c41bf8f",
   "metadata": {},
   "outputs": [
    {
     "data": {
      "text/plain": [
       "(3909, 8)"
      ]
     },
     "execution_count": 8,
     "metadata": {},
     "output_type": "execute_result"
    }
   ],
   "source": [
    "df.shape"
   ]
  },
  {
   "cell_type": "markdown",
   "id": "47f4d6ec-b2b8-4a3a-a5ab-bb0652953bd2",
   "metadata": {},
   "source": [
    "# 3.1 Eliminar todos los registros perdidos"
   ]
  },
  {
   "cell_type": "code",
   "execution_count": 9,
   "id": "e63886f6-26a0-42fd-b2f2-f52dc940893c",
   "metadata": {},
   "outputs": [
    {
     "data": {
      "text/plain": [
       "(2417, 8)"
      ]
     },
     "execution_count": 9,
     "metadata": {},
     "output_type": "execute_result"
    }
   ],
   "source": [
    "df1 = df.dropna(axis=0) #0 = columnas\n",
    "df1.shape"
   ]
  },
  {
   "cell_type": "code",
   "execution_count": 10,
   "id": "c896c92f-8276-4f67-823f-012ec13ba934",
   "metadata": {},
   "outputs": [
    {
     "data": {
      "text/plain": [
       "cargo         0\n",
       "rating        0\n",
       "tipo          0\n",
       "sector        0\n",
       "aplicacion    0\n",
       "estado        0\n",
       "ingreso       0\n",
       "salario       0\n",
       "dtype: int64"
      ]
     },
     "execution_count": 10,
     "metadata": {},
     "output_type": "execute_result"
    }
   ],
   "source": [
    "df1.isnull().sum()"
   ]
  },
  {
   "cell_type": "markdown",
   "id": "ded3d6ce-4560-4c57-a9b1-0c5942c88995",
   "metadata": {},
   "source": [
    "### 3.2 Eliminar todas las columnas con registros pérdidos"
   ]
  },
  {
   "cell_type": "code",
   "execution_count": 11,
   "id": "4ec64426-f948-4e3c-836d-fb5b6e9cc4be",
   "metadata": {},
   "outputs": [
    {
     "data": {
      "text/html": [
       "<div>\n",
       "<style scoped>\n",
       "    .dataframe tbody tr th:only-of-type {\n",
       "        vertical-align: middle;\n",
       "    }\n",
       "\n",
       "    .dataframe tbody tr th {\n",
       "        vertical-align: top;\n",
       "    }\n",
       "\n",
       "    .dataframe thead th {\n",
       "        text-align: right;\n",
       "    }\n",
       "</style>\n",
       "<table border=\"1\" class=\"dataframe\">\n",
       "  <thead>\n",
       "    <tr style=\"text-align: right;\">\n",
       "      <th></th>\n",
       "      <th>cargo</th>\n",
       "      <th>aplicacion</th>\n",
       "      <th>estado</th>\n",
       "      <th>salario</th>\n",
       "    </tr>\n",
       "  </thead>\n",
       "  <tbody>\n",
       "    <tr>\n",
       "      <th>0</th>\n",
       "      <td>Senior Data Scientist</td>\n",
       "      <td>True</td>\n",
       "      <td>NY</td>\n",
       "      <td>146.0</td>\n",
       "    </tr>\n",
       "    <tr>\n",
       "      <th>1</th>\n",
       "      <td>Data Scientist</td>\n",
       "      <td>True</td>\n",
       "      <td>NY</td>\n",
       "      <td>146.0</td>\n",
       "    </tr>\n",
       "    <tr>\n",
       "      <th>2</th>\n",
       "      <td>Data Science Manager</td>\n",
       "      <td>True</td>\n",
       "      <td>NY</td>\n",
       "      <td>146.0</td>\n",
       "    </tr>\n",
       "    <tr>\n",
       "      <th>3</th>\n",
       "      <td>Data Analyst</td>\n",
       "      <td>True</td>\n",
       "      <td>NJ</td>\n",
       "      <td>146.0</td>\n",
       "    </tr>\n",
       "    <tr>\n",
       "      <th>4</th>\n",
       "      <td>Director</td>\n",
       "      <td>True</td>\n",
       "      <td>NY</td>\n",
       "      <td>146.0</td>\n",
       "    </tr>\n",
       "  </tbody>\n",
       "</table>\n",
       "</div>"
      ],
      "text/plain": [
       "                   cargo  aplicacion estado  salario\n",
       "0  Senior Data Scientist        True     NY    146.0\n",
       "1         Data Scientist        True     NY    146.0\n",
       "2   Data Science Manager        True     NY    146.0\n",
       "3           Data Analyst        True     NJ    146.0\n",
       "4               Director        True     NY    146.0"
      ]
     },
     "execution_count": 11,
     "metadata": {},
     "output_type": "execute_result"
    }
   ],
   "source": [
    "df2 = df.dropna(axis=1) # 1 = FIlas\n",
    "df2.head()"
   ]
  },
  {
   "cell_type": "markdown",
   "id": "95aa8e9d-c1cb-4edf-8fcf-4c91bf3271d6",
   "metadata": {},
   "source": [
    "### 3.3 Eliminar columnas seleccionadas con valores perdidos"
   ]
  },
  {
   "cell_type": "code",
   "execution_count": 12,
   "id": "6b6c6c78-1979-412c-8b66-67d6a65085fc",
   "metadata": {},
   "outputs": [
    {
     "data": {
      "text/plain": [
       "(2517, 8)"
      ]
     },
     "execution_count": 12,
     "metadata": {},
     "output_type": "execute_result"
    }
   ],
   "source": [
    "df3 = df.dropna(subset=['ingreso'],axis=0)\n",
    "df3.shape"
   ]
  },
  {
   "cell_type": "markdown",
   "id": "e4efe5b0-9f71-47cc-be96-086ca27c207b",
   "metadata": {},
   "source": [
    "### 3.4 Reemplazar registros perdidos con media"
   ]
  },
  {
   "cell_type": "code",
   "execution_count": 13,
   "id": "f862f8cb-1ab0-4c2b-b55a-0f1e399e607d",
   "metadata": {
    "scrolled": true
   },
   "outputs": [
    {
     "data": {
      "text/plain": [
       "cargo          object\n",
       "rating        float64\n",
       "tipo           object\n",
       "sector         object\n",
       "aplicacion       bool\n",
       "estado         object\n",
       "ingreso       float64\n",
       "salario       float64\n",
       "dtype: object"
      ]
     },
     "execution_count": 13,
     "metadata": {},
     "output_type": "execute_result"
    }
   ],
   "source": [
    "df.dtypes"
   ]
  },
  {
   "cell_type": "code",
   "execution_count": 14,
   "id": "fc4e03e6-dd90-4a51-9b52-95f96e58391c",
   "metadata": {},
   "outputs": [
    {
     "name": "stdout",
     "output_type": "stream",
     "text": [
      "3.7841428571428573\n"
     ]
    }
   ],
   "source": [
    "PromRating = df['rating'].mean()\n",
    "print(PromRating)"
   ]
  },
  {
   "cell_type": "code",
   "execution_count": 15,
   "id": "17450aca-8c8a-4441-8031-c05a4f721628",
   "metadata": {},
   "outputs": [
    {
     "name": "stdout",
     "output_type": "stream",
     "text": [
      "3212.7133492252683\n"
     ]
    }
   ],
   "source": [
    "PromIngreso = df['ingreso'].mean()\n",
    "print(PromIngreso)"
   ]
  },
  {
   "cell_type": "code",
   "execution_count": 16,
   "id": "755c1477-9c3e-41af-bcc3-471fe0cc263d",
   "metadata": {},
   "outputs": [
    {
     "data": {
      "text/html": [
       "<div>\n",
       "<style scoped>\n",
       "    .dataframe tbody tr th:only-of-type {\n",
       "        vertical-align: middle;\n",
       "    }\n",
       "\n",
       "    .dataframe tbody tr th {\n",
       "        vertical-align: top;\n",
       "    }\n",
       "\n",
       "    .dataframe thead th {\n",
       "        text-align: right;\n",
       "    }\n",
       "</style>\n",
       "<table border=\"1\" class=\"dataframe\">\n",
       "  <thead>\n",
       "    <tr style=\"text-align: right;\">\n",
       "      <th></th>\n",
       "      <th>cargo</th>\n",
       "      <th>rating</th>\n",
       "      <th>tipo</th>\n",
       "      <th>sector</th>\n",
       "      <th>aplicacion</th>\n",
       "      <th>estado</th>\n",
       "      <th>ingreso</th>\n",
       "      <th>salario</th>\n",
       "    </tr>\n",
       "  </thead>\n",
       "  <tbody>\n",
       "    <tr>\n",
       "      <th>0</th>\n",
       "      <td>Senior Data Scientist</td>\n",
       "      <td>3.500000</td>\n",
       "      <td>Company - Private</td>\n",
       "      <td>Travel &amp; Tourism</td>\n",
       "      <td>True</td>\n",
       "      <td>NY</td>\n",
       "      <td>3212.713349</td>\n",
       "      <td>146.0</td>\n",
       "    </tr>\n",
       "    <tr>\n",
       "      <th>1</th>\n",
       "      <td>Data Scientist</td>\n",
       "      <td>4.500000</td>\n",
       "      <td>Company - Private</td>\n",
       "      <td>Consumer Services</td>\n",
       "      <td>True</td>\n",
       "      <td>NY</td>\n",
       "      <td>3212.713349</td>\n",
       "      <td>146.0</td>\n",
       "    </tr>\n",
       "    <tr>\n",
       "      <th>2</th>\n",
       "      <td>Data Science Manager</td>\n",
       "      <td>3.784143</td>\n",
       "      <td>Unknown</td>\n",
       "      <td>NaN</td>\n",
       "      <td>True</td>\n",
       "      <td>NY</td>\n",
       "      <td>3212.713349</td>\n",
       "      <td>146.0</td>\n",
       "    </tr>\n",
       "    <tr>\n",
       "      <th>3</th>\n",
       "      <td>Data Analyst</td>\n",
       "      <td>3.400000</td>\n",
       "      <td>Company - Private</td>\n",
       "      <td>Information Technology</td>\n",
       "      <td>True</td>\n",
       "      <td>NJ</td>\n",
       "      <td>3212.713349</td>\n",
       "      <td>146.0</td>\n",
       "    </tr>\n",
       "    <tr>\n",
       "      <th>4</th>\n",
       "      <td>Director</td>\n",
       "      <td>3.400000</td>\n",
       "      <td>Company - Private</td>\n",
       "      <td>Business Services</td>\n",
       "      <td>True</td>\n",
       "      <td>NY</td>\n",
       "      <td>3212.713349</td>\n",
       "      <td>146.0</td>\n",
       "    </tr>\n",
       "  </tbody>\n",
       "</table>\n",
       "</div>"
      ],
      "text/plain": [
       "                   cargo    rating               tipo                  sector  \\\n",
       "0  Senior Data Scientist  3.500000  Company - Private        Travel & Tourism   \n",
       "1         Data Scientist  4.500000  Company - Private       Consumer Services   \n",
       "2   Data Science Manager  3.784143            Unknown                     NaN   \n",
       "3           Data Analyst  3.400000  Company - Private  Information Technology   \n",
       "4               Director  3.400000  Company - Private       Business Services   \n",
       "\n",
       "   aplicacion estado      ingreso  salario  \n",
       "0        True     NY  3212.713349    146.0  \n",
       "1        True     NY  3212.713349    146.0  \n",
       "2        True     NY  3212.713349    146.0  \n",
       "3        True     NJ  3212.713349    146.0  \n",
       "4        True     NY  3212.713349    146.0  "
      ]
     },
     "execution_count": 16,
     "metadata": {},
     "output_type": "execute_result"
    }
   ],
   "source": [
    "df['rating'] = df['rating'].replace(np.nan, PromRating)\n",
    "df['ingreso'] = df['ingreso'].replace(np.nan, PromIngreso)\n",
    "df.head()"
   ]
  },
  {
   "cell_type": "markdown",
   "id": "a8e30c3f-3173-4730-a99b-9ddc428b2a69",
   "metadata": {},
   "source": [
    "### 3.5 Remplazar registros perdidos en columnas categoricas con moda"
   ]
  },
  {
   "cell_type": "code",
   "execution_count": 17,
   "id": "f47cc50b-bb7d-4219-93fa-10782b6fbc6d",
   "metadata": {},
   "outputs": [
    {
     "name": "stdout",
     "output_type": "stream",
     "text": [
      "0    Company - Private\n",
      "Name: tipo, dtype: object\n",
      "0    Information Technology\n",
      "Name: sector, dtype: object\n"
     ]
    }
   ],
   "source": [
    "ModaTipo = df['tipo'].mode()\n",
    "print(ModaTipo)\n",
    "\n",
    "ModaSector = df['sector'].mode()\n",
    "print(ModaSector)"
   ]
  },
  {
   "cell_type": "code",
   "execution_count": 18,
   "id": "150ea821-cc55-4807-83cb-0c3779859cd7",
   "metadata": {},
   "outputs": [
    {
     "data": {
      "text/plain": [
       "cargo         0\n",
       "rating        0\n",
       "tipo          0\n",
       "sector        0\n",
       "aplicacion    0\n",
       "estado        0\n",
       "ingreso       0\n",
       "salario       0\n",
       "dtype: int64"
      ]
     },
     "execution_count": 18,
     "metadata": {},
     "output_type": "execute_result"
    }
   ],
   "source": [
    "df['tipo'] = df['tipo'].fillna('Company - Private')\n",
    "df['sector'] = df ['sector'].fillna('Information Technology')\n",
    "\n",
    "df.isnull().sum()"
   ]
  },
  {
   "cell_type": "markdown",
   "id": "637eeef1-332b-44ae-a27a-bbb53d027bec",
   "metadata": {},
   "source": [
    "## 4. Transformación de datos"
   ]
  },
  {
   "cell_type": "code",
   "execution_count": 19,
   "id": "486610af-d8d1-4eed-b01e-7f24c4024ba1",
   "metadata": {},
   "outputs": [
    {
     "data": {
      "text/plain": [
       "cargo          object\n",
       "rating        float64\n",
       "tipo           object\n",
       "sector         object\n",
       "aplicacion       bool\n",
       "estado         object\n",
       "ingreso       float64\n",
       "salario       float64\n",
       "dtype: object"
      ]
     },
     "execution_count": 19,
     "metadata": {},
     "output_type": "execute_result"
    }
   ],
   "source": [
    "df.dtypes"
   ]
  },
  {
   "cell_type": "code",
   "execution_count": 24,
   "id": "e625f71f-d49a-4275-9dd9-74f22e3ea38f",
   "metadata": {
    "scrolled": true
   },
   "outputs": [
    {
     "data": {
      "text/html": [
       "<div>\n",
       "<style scoped>\n",
       "    .dataframe tbody tr th:only-of-type {\n",
       "        vertical-align: middle;\n",
       "    }\n",
       "\n",
       "    .dataframe tbody tr th {\n",
       "        vertical-align: top;\n",
       "    }\n",
       "\n",
       "    .dataframe thead th {\n",
       "        text-align: right;\n",
       "    }\n",
       "</style>\n",
       "<table border=\"1\" class=\"dataframe\">\n",
       "  <thead>\n",
       "    <tr style=\"text-align: right;\">\n",
       "      <th></th>\n",
       "      <th>cargo</th>\n",
       "      <th>rating</th>\n",
       "      <th>tipo</th>\n",
       "      <th>sector</th>\n",
       "      <th>aplicacion</th>\n",
       "      <th>estado</th>\n",
       "      <th>ingreso</th>\n",
       "      <th>salario</th>\n",
       "    </tr>\n",
       "  </thead>\n",
       "  <tbody>\n",
       "    <tr>\n",
       "      <th>0</th>\n",
       "      <td>1509</td>\n",
       "      <td>3.500000</td>\n",
       "      <td>Company - Private</td>\n",
       "      <td>Travel &amp; Tourism</td>\n",
       "      <td>True</td>\n",
       "      <td>NY</td>\n",
       "      <td>3212.713349</td>\n",
       "      <td>146.0</td>\n",
       "    </tr>\n",
       "    <tr>\n",
       "      <th>1</th>\n",
       "      <td>601</td>\n",
       "      <td>4.500000</td>\n",
       "      <td>Company - Private</td>\n",
       "      <td>Consumer Services</td>\n",
       "      <td>True</td>\n",
       "      <td>NY</td>\n",
       "      <td>3212.713349</td>\n",
       "      <td>146.0</td>\n",
       "    </tr>\n",
       "    <tr>\n",
       "      <th>2</th>\n",
       "      <td>582</td>\n",
       "      <td>3.784143</td>\n",
       "      <td>Unknown</td>\n",
       "      <td>Informacion Technology</td>\n",
       "      <td>True</td>\n",
       "      <td>NY</td>\n",
       "      <td>3212.713349</td>\n",
       "      <td>146.0</td>\n",
       "    </tr>\n",
       "    <tr>\n",
       "      <th>3</th>\n",
       "      <td>344</td>\n",
       "      <td>3.400000</td>\n",
       "      <td>Company - Private</td>\n",
       "      <td>Information Technology</td>\n",
       "      <td>True</td>\n",
       "      <td>NJ</td>\n",
       "      <td>3212.713349</td>\n",
       "      <td>146.0</td>\n",
       "    </tr>\n",
       "    <tr>\n",
       "      <th>4</th>\n",
       "      <td>769</td>\n",
       "      <td>3.400000</td>\n",
       "      <td>Company - Private</td>\n",
       "      <td>Business Services</td>\n",
       "      <td>True</td>\n",
       "      <td>NY</td>\n",
       "      <td>3212.713349</td>\n",
       "      <td>146.0</td>\n",
       "    </tr>\n",
       "  </tbody>\n",
       "</table>\n",
       "</div>"
      ],
      "text/plain": [
       "   cargo    rating               tipo                  sector  aplicacion  \\\n",
       "0   1509  3.500000  Company - Private        Travel & Tourism        True   \n",
       "1    601  4.500000  Company - Private       Consumer Services        True   \n",
       "2    582  3.784143            Unknown  Informacion Technology        True   \n",
       "3    344  3.400000  Company - Private  Information Technology        True   \n",
       "4    769  3.400000  Company - Private       Business Services        True   \n",
       "\n",
       "  estado      ingreso  salario  \n",
       "0     NY  3212.713349    146.0  \n",
       "1     NY  3212.713349    146.0  \n",
       "2     NY  3212.713349    146.0  \n",
       "3     NJ  3212.713349    146.0  \n",
       "4     NY  3212.713349    146.0  "
      ]
     },
     "execution_count": 24,
     "metadata": {},
     "output_type": "execute_result"
    }
   ],
   "source": [
    "encoder = preprocessing.LabelEncoder()\n",
    "encoder.fit(df['cargo'])\n",
    "df['cargo'] = encoder.transform(df['cargo'])\n",
    "\n",
    "df.head()"
   ]
  },
  {
   "cell_type": "code",
   "execution_count": 28,
   "id": "d7d04e23-eaf0-4070-a382-2f45832f9e70",
   "metadata": {},
   "outputs": [
    {
     "name": "stdout",
     "output_type": "stream",
     "text": [
      "Index(['tipo', 'sector', 'aplicacion', 'estado'], dtype='object')\n"
     ]
    }
   ],
   "source": [
    "ObjList = df.select_dtypes(include = ('object', 'bool')).columns\n",
    "print(ObjList)"
   ]
  },
  {
   "cell_type": "code",
   "execution_count": 32,
   "id": "67a71dc1-7b25-469a-85cf-f1caf32a804e",
   "metadata": {},
   "outputs": [
    {
     "data": {
      "text/html": [
       "<div>\n",
       "<style scoped>\n",
       "    .dataframe tbody tr th:only-of-type {\n",
       "        vertical-align: middle;\n",
       "    }\n",
       "\n",
       "    .dataframe tbody tr th {\n",
       "        vertical-align: top;\n",
       "    }\n",
       "\n",
       "    .dataframe thead th {\n",
       "        text-align: right;\n",
       "    }\n",
       "</style>\n",
       "<table border=\"1\" class=\"dataframe\">\n",
       "  <thead>\n",
       "    <tr style=\"text-align: right;\">\n",
       "      <th></th>\n",
       "      <th>cargo</th>\n",
       "      <th>rating</th>\n",
       "      <th>tipo</th>\n",
       "      <th>sector</th>\n",
       "      <th>aplicacion</th>\n",
       "      <th>estado</th>\n",
       "      <th>ingreso</th>\n",
       "      <th>salario</th>\n",
       "    </tr>\n",
       "  </thead>\n",
       "  <tbody>\n",
       "    <tr>\n",
       "      <th>0</th>\n",
       "      <td>1509</td>\n",
       "      <td>3.500000</td>\n",
       "      <td>1</td>\n",
       "      <td>10</td>\n",
       "      <td>0</td>\n",
       "      <td>8</td>\n",
       "      <td>3212.713349</td>\n",
       "      <td>146.0</td>\n",
       "    </tr>\n",
       "    <tr>\n",
       "      <th>1</th>\n",
       "      <td>601</td>\n",
       "      <td>4.500000</td>\n",
       "      <td>1</td>\n",
       "      <td>16</td>\n",
       "      <td>0</td>\n",
       "      <td>8</td>\n",
       "      <td>3212.713349</td>\n",
       "      <td>146.0</td>\n",
       "    </tr>\n",
       "    <tr>\n",
       "      <th>2</th>\n",
       "      <td>582</td>\n",
       "      <td>3.784143</td>\n",
       "      <td>9</td>\n",
       "      <td>20</td>\n",
       "      <td>0</td>\n",
       "      <td>8</td>\n",
       "      <td>3212.713349</td>\n",
       "      <td>146.0</td>\n",
       "    </tr>\n",
       "    <tr>\n",
       "      <th>3</th>\n",
       "      <td>344</td>\n",
       "      <td>3.400000</td>\n",
       "      <td>1</td>\n",
       "      <td>21</td>\n",
       "      <td>0</td>\n",
       "      <td>7</td>\n",
       "      <td>3212.713349</td>\n",
       "      <td>146.0</td>\n",
       "    </tr>\n",
       "    <tr>\n",
       "      <th>4</th>\n",
       "      <td>769</td>\n",
       "      <td>3.400000</td>\n",
       "      <td>1</td>\n",
       "      <td>14</td>\n",
       "      <td>0</td>\n",
       "      <td>8</td>\n",
       "      <td>3212.713349</td>\n",
       "      <td>146.0</td>\n",
       "    </tr>\n",
       "  </tbody>\n",
       "</table>\n",
       "</div>"
      ],
      "text/plain": [
       "   cargo    rating tipo sector aplicacion estado      ingreso  salario\n",
       "0   1509  3.500000    1     10          0      8  3212.713349    146.0\n",
       "1    601  4.500000    1     16          0      8  3212.713349    146.0\n",
       "2    582  3.784143    9     20          0      8  3212.713349    146.0\n",
       "3    344  3.400000    1     21          0      7  3212.713349    146.0\n",
       "4    769  3.400000    1     14          0      8  3212.713349    146.0"
      ]
     },
     "execution_count": 32,
     "metadata": {},
     "output_type": "execute_result"
    }
   ],
   "source": [
    "for feat in ObjList:\n",
    "    df[feat] = encoder.fit_transform(df[feat]).astype(str)\n",
    "df.head()"
   ]
  },
  {
   "cell_type": "markdown",
   "id": "128a167e-08bc-4211-8a2a-493260770922",
   "metadata": {},
   "source": [
    "## 5. Eliminar duplicados"
   ]
  },
  {
   "cell_type": "code",
   "execution_count": 33,
   "id": "a1e6909b-9688-4d8c-8c2c-679de21841e0",
   "metadata": {},
   "outputs": [
    {
     "data": {
      "text/plain": [
       "True"
      ]
     },
     "execution_count": 33,
     "metadata": {},
     "output_type": "execute_result"
    }
   ],
   "source": [
    "#Buscar duplicado\n",
    "df.duplicated().any()"
   ]
  },
  {
   "cell_type": "code",
   "execution_count": 41,
   "id": "0c93fcc1-f188-4c14-8b3d-89064f99066a",
   "metadata": {},
   "outputs": [
    {
     "data": {
      "text/plain": [
       "56"
      ]
     },
     "execution_count": 41,
     "metadata": {},
     "output_type": "execute_result"
    }
   ],
   "source": [
    "df.duplicated().sum()"
   ]
  },
  {
   "cell_type": "code",
   "execution_count": 42,
   "id": "7ed0d43f-79ff-4201-beeb-cee2db1d60eb",
   "metadata": {},
   "outputs": [
    {
     "name": "stdout",
     "output_type": "stream",
     "text": [
      "      cargo    rating tipo sector aplicacion estado      ingreso  salario\n",
      "0      1509  3.500000    1     10          0      8  3212.713349    146.0\n",
      "1       601  4.500000    1     16          0      8  3212.713349    146.0\n",
      "2       582  3.784143    9     20          0      8  3212.713349    146.0\n",
      "3       344  3.400000    1     21          0      7  3212.713349    146.0\n",
      "4       769  3.400000    1     14          0      8  3212.713349    146.0\n",
      "...     ...       ...  ...    ...        ...    ...          ...      ...\n",
      "3904     38  4.400000    1     21          0      9    17.500000     83.5\n",
      "3905    419  5.000000    1     21          0      9    75.000000     83.5\n",
      "3906   1425  3.800000    1     14          0      9   300.000000     83.5\n",
      "3907   1425  4.000000    1      0          0      9     0.500000     83.5\n",
      "3908   1130  3.700000   10     13          0      9  3500.000000     83.5\n",
      "\n",
      "[3853 rows x 8 columns]\n"
     ]
    }
   ],
   "source": [
    "#Eliminar duplicados\n",
    "df_sinduplicados = df.drop_duplicates(keep='last')\n",
    "print(df_sinduplicados)"
   ]
  },
  {
   "cell_type": "code",
   "execution_count": 43,
   "id": "1d8ffe4c-f69d-42be-be64-77c0370834ad",
   "metadata": {},
   "outputs": [
    {
     "data": {
      "text/plain": [
       "(3853, 8)"
      ]
     },
     "execution_count": 43,
     "metadata": {},
     "output_type": "execute_result"
    }
   ],
   "source": [
    "df_sinduplicados.shape"
   ]
  },
  {
   "cell_type": "code",
   "execution_count": null,
   "id": "6cf123d0-d151-4e90-8d3a-319261eb05d9",
   "metadata": {},
   "outputs": [],
   "source": []
  }
 ],
 "metadata": {
  "kernelspec": {
   "display_name": "Python 3 (ipykernel)",
   "language": "python",
   "name": "python3"
  },
  "language_info": {
   "codemirror_mode": {
    "name": "ipython",
    "version": 3
   },
   "file_extension": ".py",
   "mimetype": "text/x-python",
   "name": "python",
   "nbconvert_exporter": "python",
   "pygments_lexer": "ipython3",
   "version": "3.11.7"
  }
 },
 "nbformat": 4,
 "nbformat_minor": 5
}
