{
 "cells": [
  {
   "cell_type": "markdown",
   "id": "de186da7-c7d9-4de2-b2e2-ea81df56e984",
   "metadata": {},
   "source": [
    "# Práctica 4: Modelado de Datos - Regresión"
   ]
  },
  {
   "cell_type": "markdown",
   "id": "28825600-fa41-4876-b57f-87ccd6607a82",
   "metadata": {},
   "source": [
    "1. Cargas librerias\n",
    "2. Leer/seleccioar/renombrar datos\n",
    "3. Limpieza de Datos\n",
    "4. Transformacion de Datos\n",
    "5. Correlacion\n",
    "6. Partición del conjunto de datos\n",
    "7. Entrenamiento y predicción\n",
    "8. Predecir nuevos registros"
   ]
  },
  {
   "cell_type": "markdown",
   "id": "a2d6c638-84f5-4087-8e92-eff6c2959351",
   "metadata": {},
   "source": [
    "## 1. Cargar librerias"
   ]
  },
  {
   "cell_type": "markdown",
   "id": "8d10e09b-8ea3-4c57-88c2-facbdf1fd5e6",
   "metadata": {},
   "source": [
    "import numpy as np\n",
    "import pandas as pd\n",
    "import seaborn as sns\n",
    "import matplotlib.pyplot as plt\n",
    "from sklearn import preprocessing #para la limpieza\n",
    "from sklearn.preprocessing import LabelEncoder #Para la renovacion\n",
    "from sklearn import linear_model #para la regresion lineal\n",
    "from sklearn.neural_network import MLPRegressor #Para la red neuronal\n",
    "from sklearn.model_selection import train_test_split #Para particionar el conjunto de datos"
   ]
  },
  {
   "cell_type": "markdown",
   "id": "9a1f540f-92f7-4944-b17e-225a8ba3624b",
   "metadata": {},
   "source": [
    "## 2. Leer/seleccionar/renombrar datos"
   ]
  },
  {
   "cell_type": "code",
   "execution_count": 4,
   "id": "b959d91a-20b3-4376-9fa7-bbaf52bf44c5",
   "metadata": {},
   "outputs": [
    {
     "data": {
      "text/html": [
       "<div>\n",
       "<style scoped>\n",
       "    .dataframe tbody tr th:only-of-type {\n",
       "        vertical-align: middle;\n",
       "    }\n",
       "\n",
       "    .dataframe tbody tr th {\n",
       "        vertical-align: top;\n",
       "    }\n",
       "\n",
       "    .dataframe thead th {\n",
       "        text-align: right;\n",
       "    }\n",
       "</style>\n",
       "<table border=\"1\" class=\"dataframe\">\n",
       "  <thead>\n",
       "    <tr style=\"text-align: right;\">\n",
       "      <th></th>\n",
       "      <th>record_id</th>\n",
       "      <th>month</th>\n",
       "      <th>day</th>\n",
       "      <th>year</th>\n",
       "      <th>plot_id</th>\n",
       "      <th>species_id</th>\n",
       "      <th>sex</th>\n",
       "      <th>hindfoot_length</th>\n",
       "      <th>weight</th>\n",
       "    </tr>\n",
       "  </thead>\n",
       "  <tbody>\n",
       "    <tr>\n",
       "      <th>0</th>\n",
       "      <td>1</td>\n",
       "      <td>7</td>\n",
       "      <td>16</td>\n",
       "      <td>1977</td>\n",
       "      <td>2</td>\n",
       "      <td>NL</td>\n",
       "      <td>M</td>\n",
       "      <td>32.0</td>\n",
       "      <td>NaN</td>\n",
       "    </tr>\n",
       "    <tr>\n",
       "      <th>1</th>\n",
       "      <td>2</td>\n",
       "      <td>7</td>\n",
       "      <td>16</td>\n",
       "      <td>1977</td>\n",
       "      <td>3</td>\n",
       "      <td>NL</td>\n",
       "      <td>M</td>\n",
       "      <td>33.0</td>\n",
       "      <td>NaN</td>\n",
       "    </tr>\n",
       "    <tr>\n",
       "      <th>2</th>\n",
       "      <td>3</td>\n",
       "      <td>7</td>\n",
       "      <td>16</td>\n",
       "      <td>1977</td>\n",
       "      <td>2</td>\n",
       "      <td>DM</td>\n",
       "      <td>F</td>\n",
       "      <td>37.0</td>\n",
       "      <td>NaN</td>\n",
       "    </tr>\n",
       "    <tr>\n",
       "      <th>3</th>\n",
       "      <td>4</td>\n",
       "      <td>7</td>\n",
       "      <td>16</td>\n",
       "      <td>1977</td>\n",
       "      <td>7</td>\n",
       "      <td>DM</td>\n",
       "      <td>M</td>\n",
       "      <td>36.0</td>\n",
       "      <td>NaN</td>\n",
       "    </tr>\n",
       "    <tr>\n",
       "      <th>4</th>\n",
       "      <td>5</td>\n",
       "      <td>7</td>\n",
       "      <td>16</td>\n",
       "      <td>1977</td>\n",
       "      <td>3</td>\n",
       "      <td>DM</td>\n",
       "      <td>M</td>\n",
       "      <td>35.0</td>\n",
       "      <td>NaN</td>\n",
       "    </tr>\n",
       "  </tbody>\n",
       "</table>\n",
       "</div>"
      ],
      "text/plain": [
       "   record_id  month  day  year  plot_id species_id sex  hindfoot_length  \\\n",
       "0          1      7   16  1977        2         NL   M             32.0   \n",
       "1          2      7   16  1977        3         NL   M             33.0   \n",
       "2          3      7   16  1977        2         DM   F             37.0   \n",
       "3          4      7   16  1977        7         DM   M             36.0   \n",
       "4          5      7   16  1977        3         DM   M             35.0   \n",
       "\n",
       "   weight  \n",
       "0     NaN  \n",
       "1     NaN  \n",
       "2     NaN  \n",
       "3     NaN  \n",
       "4     NaN  "
      ]
     },
     "execution_count": 4,
     "metadata": {},
     "output_type": "execute_result"
    }
   ],
   "source": [
    "#Leer Datos\n",
    "df = pd.read_csv('surveys.csv')\n",
    "df.head()"
   ]
  },
  {
   "cell_type": "code",
   "execution_count": 11,
   "id": "f30826dd-7f19-4eb5-905b-9aa0b03b7820",
   "metadata": {},
   "outputs": [
    {
     "data": {
      "text/html": [
       "<div>\n",
       "<style scoped>\n",
       "    .dataframe tbody tr th:only-of-type {\n",
       "        vertical-align: middle;\n",
       "    }\n",
       "\n",
       "    .dataframe tbody tr th {\n",
       "        vertical-align: top;\n",
       "    }\n",
       "\n",
       "    .dataframe thead th {\n",
       "        text-align: right;\n",
       "    }\n",
       "</style>\n",
       "<table border=\"1\" class=\"dataframe\">\n",
       "  <thead>\n",
       "    <tr style=\"text-align: right;\">\n",
       "      <th></th>\n",
       "      <th>especie</th>\n",
       "      <th>sexo</th>\n",
       "      <th>tamaño_pata</th>\n",
       "      <th>peso</th>\n",
       "    </tr>\n",
       "  </thead>\n",
       "  <tbody>\n",
       "    <tr>\n",
       "      <th>0</th>\n",
       "      <td>NL</td>\n",
       "      <td>M</td>\n",
       "      <td>32.0</td>\n",
       "      <td>NaN</td>\n",
       "    </tr>\n",
       "    <tr>\n",
       "      <th>1</th>\n",
       "      <td>NL</td>\n",
       "      <td>M</td>\n",
       "      <td>33.0</td>\n",
       "      <td>NaN</td>\n",
       "    </tr>\n",
       "    <tr>\n",
       "      <th>2</th>\n",
       "      <td>DM</td>\n",
       "      <td>F</td>\n",
       "      <td>37.0</td>\n",
       "      <td>NaN</td>\n",
       "    </tr>\n",
       "    <tr>\n",
       "      <th>3</th>\n",
       "      <td>DM</td>\n",
       "      <td>M</td>\n",
       "      <td>36.0</td>\n",
       "      <td>NaN</td>\n",
       "    </tr>\n",
       "    <tr>\n",
       "      <th>4</th>\n",
       "      <td>DM</td>\n",
       "      <td>M</td>\n",
       "      <td>35.0</td>\n",
       "      <td>NaN</td>\n",
       "    </tr>\n",
       "  </tbody>\n",
       "</table>\n",
       "</div>"
      ],
      "text/plain": [
       "  especie sexo  tamaño_pata  peso\n",
       "0      NL    M         32.0   NaN\n",
       "1      NL    M         33.0   NaN\n",
       "2      DM    F         37.0   NaN\n",
       "3      DM    M         36.0   NaN\n",
       "4      DM    M         35.0   NaN"
      ]
     },
     "execution_count": 11,
     "metadata": {},
     "output_type": "execute_result"
    }
   ],
   "source": [
    "# Seleccion de datos\n",
    "df = df[['species_id','sex','hindfoot_length','weight']]\n",
    "# Renombre de Datos\n",
    "df.columns = ['especie','sexo','tamaño_pata','peso']\n",
    "df.head()\n"
   ]
  },
  {
   "cell_type": "markdown",
   "id": "71ce4c11-2f16-427e-90a8-fde60fb078a5",
   "metadata": {},
   "source": [
    "## 3. Limpieza de Datos"
   ]
  },
  {
   "cell_type": "code",
   "execution_count": 12,
   "id": "ac836973-19c9-42e0-ab44-e5c9809c3a5d",
   "metadata": {},
   "outputs": [
    {
     "data": {
      "text/plain": [
       "especie         763\n",
       "sexo           2511\n",
       "tamaño_pata    4111\n",
       "peso           3266\n",
       "dtype: int64"
      ]
     },
     "execution_count": 12,
     "metadata": {},
     "output_type": "execute_result"
    }
   ],
   "source": [
    "df.isnull().sum()"
   ]
  },
  {
   "cell_type": "code",
   "execution_count": 13,
   "id": "e79e931a-760e-4a6c-983b-2bdf33d92738",
   "metadata": {},
   "outputs": [
    {
     "data": {
      "text/plain": [
       "(35549, 4)"
      ]
     },
     "execution_count": 13,
     "metadata": {},
     "output_type": "execute_result"
    }
   ],
   "source": [
    "df.shape"
   ]
  },
  {
   "cell_type": "code",
   "execution_count": 14,
   "id": "c65167a8-c80b-4616-9284-5017ffbaf8c0",
   "metadata": {},
   "outputs": [
    {
     "data": {
      "text/plain": [
       "especie         object\n",
       "sexo            object\n",
       "tamaño_pata    float64\n",
       "peso           float64\n",
       "dtype: object"
      ]
     },
     "execution_count": 14,
     "metadata": {},
     "output_type": "execute_result"
    }
   ],
   "source": [
    "df.dtypes"
   ]
  },
  {
   "cell_type": "markdown",
   "id": "f075ba47-68fe-4593-8569-4ebcabdaf87b",
   "metadata": {},
   "source": [
    "# 3.1 Reemplazar valores perdidos con moda"
   ]
  },
  {
   "cell_type": "code",
   "execution_count": 16,
   "id": "9b1a8528-d815-4df4-9228-4298c288b36b",
   "metadata": {},
   "outputs": [
    {
     "data": {
      "text/html": [
       "<div>\n",
       "<style scoped>\n",
       "    .dataframe tbody tr th:only-of-type {\n",
       "        vertical-align: middle;\n",
       "    }\n",
       "\n",
       "    .dataframe tbody tr th {\n",
       "        vertical-align: top;\n",
       "    }\n",
       "\n",
       "    .dataframe thead th {\n",
       "        text-align: right;\n",
       "    }\n",
       "</style>\n",
       "<table border=\"1\" class=\"dataframe\">\n",
       "  <thead>\n",
       "    <tr style=\"text-align: right;\">\n",
       "      <th></th>\n",
       "      <th>especie</th>\n",
       "      <th>sexo</th>\n",
       "      <th>tamaño_pata</th>\n",
       "      <th>peso</th>\n",
       "    </tr>\n",
       "  </thead>\n",
       "  <tbody>\n",
       "    <tr>\n",
       "      <th>0</th>\n",
       "      <td>NL</td>\n",
       "      <td>M</td>\n",
       "      <td>32.0</td>\n",
       "      <td>42.672428</td>\n",
       "    </tr>\n",
       "    <tr>\n",
       "      <th>1</th>\n",
       "      <td>NL</td>\n",
       "      <td>M</td>\n",
       "      <td>33.0</td>\n",
       "      <td>42.672428</td>\n",
       "    </tr>\n",
       "    <tr>\n",
       "      <th>2</th>\n",
       "      <td>DM</td>\n",
       "      <td>F</td>\n",
       "      <td>37.0</td>\n",
       "      <td>42.672428</td>\n",
       "    </tr>\n",
       "    <tr>\n",
       "      <th>3</th>\n",
       "      <td>DM</td>\n",
       "      <td>M</td>\n",
       "      <td>36.0</td>\n",
       "      <td>42.672428</td>\n",
       "    </tr>\n",
       "    <tr>\n",
       "      <th>4</th>\n",
       "      <td>DM</td>\n",
       "      <td>M</td>\n",
       "      <td>35.0</td>\n",
       "      <td>42.672428</td>\n",
       "    </tr>\n",
       "  </tbody>\n",
       "</table>\n",
       "</div>"
      ],
      "text/plain": [
       "  especie sexo  tamaño_pata       peso\n",
       "0      NL    M         32.0  42.672428\n",
       "1      NL    M         33.0  42.672428\n",
       "2      DM    F         37.0  42.672428\n",
       "3      DM    M         36.0  42.672428\n",
       "4      DM    M         35.0  42.672428"
      ]
     },
     "execution_count": 16,
     "metadata": {},
     "output_type": "execute_result"
    }
   ],
   "source": [
    "PromTamPata = df['tamaño_pata'].mean()\n",
    "\n",
    "PromPeso = df['peso'].mean()\n",
    "\n",
    "df['tamaño_pata'] =  df['tamaño_pata'].replace(np.nan, PromTamPata)\n",
    "\n",
    "df['peso'] = df['peso'].replace(np.nan, PromPeso)\n",
    "df.head()"
   ]
  },
  {
   "cell_type": "markdown",
   "id": "021bf4b7-0b51-46cf-8a5f-02ebd5bf984b",
   "metadata": {},
   "source": [
    "## 3.2 Reemplazar valores perdidos con moda"
   ]
  },
  {
   "cell_type": "code",
   "execution_count": 19,
   "id": "6311bd1b-cad7-4cde-9b8f-30b80ca99c2b",
   "metadata": {},
   "outputs": [
    {
     "name": "stdout",
     "output_type": "stream",
     "text": [
      "0    M\n",
      "Name: sexo, dtype: object\n",
      "0    DM\n",
      "Name: especie, dtype: object\n"
     ]
    }
   ],
   "source": [
    "ModaSexo = df['sexo'].mode()\n",
    "print(ModaSexo)\n",
    "\n",
    "ModaEspecie = df['especie'].mode()\n",
    "print(ModaEspecie)"
   ]
  },
  {
   "cell_type": "code",
   "execution_count": 20,
   "id": "d32eef0e-61a0-4988-b94e-bfc8dc904f28",
   "metadata": {},
   "outputs": [
    {
     "data": {
      "text/html": [
       "<div>\n",
       "<style scoped>\n",
       "    .dataframe tbody tr th:only-of-type {\n",
       "        vertical-align: middle;\n",
       "    }\n",
       "\n",
       "    .dataframe tbody tr th {\n",
       "        vertical-align: top;\n",
       "    }\n",
       "\n",
       "    .dataframe thead th {\n",
       "        text-align: right;\n",
       "    }\n",
       "</style>\n",
       "<table border=\"1\" class=\"dataframe\">\n",
       "  <thead>\n",
       "    <tr style=\"text-align: right;\">\n",
       "      <th></th>\n",
       "      <th>especie</th>\n",
       "      <th>sexo</th>\n",
       "      <th>tamaño_pata</th>\n",
       "      <th>peso</th>\n",
       "    </tr>\n",
       "  </thead>\n",
       "  <tbody>\n",
       "    <tr>\n",
       "      <th>0</th>\n",
       "      <td>NL</td>\n",
       "      <td>M</td>\n",
       "      <td>32.0</td>\n",
       "      <td>42.672428</td>\n",
       "    </tr>\n",
       "    <tr>\n",
       "      <th>1</th>\n",
       "      <td>NL</td>\n",
       "      <td>M</td>\n",
       "      <td>33.0</td>\n",
       "      <td>42.672428</td>\n",
       "    </tr>\n",
       "    <tr>\n",
       "      <th>2</th>\n",
       "      <td>DM</td>\n",
       "      <td>F</td>\n",
       "      <td>37.0</td>\n",
       "      <td>42.672428</td>\n",
       "    </tr>\n",
       "    <tr>\n",
       "      <th>3</th>\n",
       "      <td>DM</td>\n",
       "      <td>M</td>\n",
       "      <td>36.0</td>\n",
       "      <td>42.672428</td>\n",
       "    </tr>\n",
       "    <tr>\n",
       "      <th>4</th>\n",
       "      <td>DM</td>\n",
       "      <td>M</td>\n",
       "      <td>35.0</td>\n",
       "      <td>42.672428</td>\n",
       "    </tr>\n",
       "  </tbody>\n",
       "</table>\n",
       "</div>"
      ],
      "text/plain": [
       "  especie sexo  tamaño_pata       peso\n",
       "0      NL    M         32.0  42.672428\n",
       "1      NL    M         33.0  42.672428\n",
       "2      DM    F         37.0  42.672428\n",
       "3      DM    M         36.0  42.672428\n",
       "4      DM    M         35.0  42.672428"
      ]
     },
     "execution_count": 20,
     "metadata": {},
     "output_type": "execute_result"
    }
   ],
   "source": [
    "df['sexo'] = df['sexo'].fillna('M')\n",
    "\n",
    "df['especie'] = df['especie'].fillna('DM')\n",
    "\n",
    "df.head()"
   ]
  },
  {
   "cell_type": "markdown",
   "id": "a47d89dd-07a9-4b24-9e52-719dc1ae7cd8",
   "metadata": {},
   "source": [
    "# 4. Transformación de Datos"
   ]
  },
  {
   "cell_type": "code",
   "execution_count": 22,
   "id": "3fbbcbc2-06c9-467a-bc97-45f91462b95c",
   "metadata": {},
   "outputs": [
    {
     "data": {
      "text/html": [
       "<div>\n",
       "<style scoped>\n",
       "    .dataframe tbody tr th:only-of-type {\n",
       "        vertical-align: middle;\n",
       "    }\n",
       "\n",
       "    .dataframe tbody tr th {\n",
       "        vertical-align: top;\n",
       "    }\n",
       "\n",
       "    .dataframe thead th {\n",
       "        text-align: right;\n",
       "    }\n",
       "</style>\n",
       "<table border=\"1\" class=\"dataframe\">\n",
       "  <thead>\n",
       "    <tr style=\"text-align: right;\">\n",
       "      <th></th>\n",
       "      <th>especie</th>\n",
       "      <th>sexo</th>\n",
       "      <th>tamaño_pata</th>\n",
       "      <th>peso</th>\n",
       "    </tr>\n",
       "  </thead>\n",
       "  <tbody>\n",
       "    <tr>\n",
       "      <th>0</th>\n",
       "      <td>15</td>\n",
       "      <td>1</td>\n",
       "      <td>32.0</td>\n",
       "      <td>42.672428</td>\n",
       "    </tr>\n",
       "    <tr>\n",
       "      <th>1</th>\n",
       "      <td>15</td>\n",
       "      <td>1</td>\n",
       "      <td>33.0</td>\n",
       "      <td>42.672428</td>\n",
       "    </tr>\n",
       "    <tr>\n",
       "      <th>2</th>\n",
       "      <td>11</td>\n",
       "      <td>0</td>\n",
       "      <td>37.0</td>\n",
       "      <td>42.672428</td>\n",
       "    </tr>\n",
       "    <tr>\n",
       "      <th>3</th>\n",
       "      <td>11</td>\n",
       "      <td>1</td>\n",
       "      <td>36.0</td>\n",
       "      <td>42.672428</td>\n",
       "    </tr>\n",
       "    <tr>\n",
       "      <th>4</th>\n",
       "      <td>11</td>\n",
       "      <td>1</td>\n",
       "      <td>35.0</td>\n",
       "      <td>42.672428</td>\n",
       "    </tr>\n",
       "  </tbody>\n",
       "</table>\n",
       "</div>"
      ],
      "text/plain": [
       "   especie  sexo  tamaño_pata       peso\n",
       "0       15     1         32.0  42.672428\n",
       "1       15     1         33.0  42.672428\n",
       "2       11     0         37.0  42.672428\n",
       "3       11     1         36.0  42.672428\n",
       "4       11     1         35.0  42.672428"
      ]
     },
     "execution_count": 22,
     "metadata": {},
     "output_type": "execute_result"
    }
   ],
   "source": [
    "\n",
    "encoder = preprocessing.LabelEncoder()\n",
    "encoder.fit(df['sexo'])\n",
    "\n",
    "df['sexo'] = encoder.transform(df['sexo'])\n",
    "encoder.fit(df['especie'])\n",
    "\n",
    "df['especie'] = encoder.transform(df['especie'])\n",
    "df.head()\n"
   ]
  },
  {
   "cell_type": "markdown",
   "id": "f84e6c32-1390-4fae-9579-5cc6be814286",
   "metadata": {},
   "source": [
    "# 5. Correlacion"
   ]
  },
  {
   "cell_type": "code",
   "execution_count": 26,
   "id": "8e0c74ff-c497-48ef-88ae-25bffa7861ae",
   "metadata": {},
   "outputs": [
    {
     "data": {
      "image/png": "[encoded data removed]",
      "text/plain": [
       "<Figure size 640x480 with 2 Axes>"
      ]
     },
     "metadata": {},
     "output_type": "display_data"
    }
   ],
   "source": [
    "# Calcular matriz de correlación\n",
    "corre_mat = df.corr()\n",
    "\n",
    "#Graficar matriz de correlacion\n",
    "sns.heatmap(corre_mat, annot = True)\n",
    "plt.show()"
   ]
  },
  {
   "cell_type": "code",
   "execution_count": null,
   "id": "9fa35b05-0d3a-45f4-916c-8068fc92614c",
   "metadata": {},
   "outputs": [],
   "source": []
  }
 ],
 "metadata": {
  "kernelspec": {
   "display_name": "Python 3 (ipykernel)",
   "language": "python",
   "name": "python3"
  },
  "language_info": {
   "codemirror_mode": {
    "name": "ipython",
    "version": 3
   },
   "file_extension": ".py",
   "mimetype": "text/x-python",
   "name": "python",
   "nbconvert_exporter": "python",
   "pygments_lexer": "ipython3",
   "version": "3.11.7"
  }
 },
 "nbformat": 4,
 "nbformat_minor": 5
}
