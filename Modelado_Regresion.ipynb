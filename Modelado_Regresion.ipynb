{
 "cells": [
  {
   "cell_type": "markdown",
   "id": "de186da7-c7d9-4de2-b2e2-ea81df56e984",
   "metadata": {},
   "source": [
    "# Práctica 4: Modelado de Datos - Regresión"
   ]
  },
  {
   "cell_type": "markdown",
   "id": "28825600-fa41-4876-b57f-87ccd6607a82",
   "metadata": {},
   "source": [
    "1. Cargas librerias\n",
    "2. Leer/seleccioar/renombrar datos\n",
    "3. Limpieza de Datos\n",
    "4. Transformacion de Datos\n",
    "5. Correlacion\n",
    "6. Partición del conjunto de datos\n",
    "7. Entrenamiento y predicción\n",
    "8. Predecir nuevos registros"
   ]
  },
  {
   "cell_type": "markdown",
   "id": "a2d6c638-84f5-4087-8e92-eff6c2959351",
   "metadata": {},
   "source": [
    "## 1. Cargar librerias"
   ]
  },
  {
   "cell_type": "code",
   "execution_count": 2,
   "id": "d1adeeed-2b68-4fe3-a17d-6991b579d061",
   "metadata": {},
   "outputs": [
    {
     "name": "stdout",
     "output_type": "stream",
     "text": [
      "Defaulting to user installation because normal site-packages is not writeable\n",
      "Requirement already satisfied: numpy in c:\\programdata\\anaconda3\\lib\\site-packages (1.26.4)\n",
      "Defaulting to user installation because normal site-packages is not writeable\n",
      "Requirement already satisfied: pandas in c:\\programdata\\anaconda3\\lib\\site-packages (2.1.4)\n",
      "Requirement already satisfied: numpy<2,>=1.23.2 in c:\\programdata\\anaconda3\\lib\\site-packages (from pandas) (1.26.4)\n",
      "Requirement already satisfied: python-dateutil>=2.8.2 in c:\\programdata\\anaconda3\\lib\\site-packages (from pandas) (2.8.2)\n",
      "Requirement already satisfied: pytz>=2020.1 in c:\\programdata\\anaconda3\\lib\\site-packages (from pandas) (2023.3.post1)\n",
      "Requirement already satisfied: tzdata>=2022.1 in c:\\programdata\\anaconda3\\lib\\site-packages (from pandas) (2023.3)\n",
      "Requirement already satisfied: six>=1.5 in c:\\programdata\\anaconda3\\lib\\site-packages (from python-dateutil>=2.8.2->pandas) (1.16.0)\n",
      "Defaulting to user installation because normal site-packages is not writeable\n",
      "Requirement already satisfied: seaborn in c:\\programdata\\anaconda3\\lib\\site-packages (0.12.2)\n",
      "Requirement already satisfied: numpy!=1.24.0,>=1.17 in c:\\programdata\\anaconda3\\lib\\site-packages (from seaborn) (1.26.4)\n",
      "Requirement already satisfied: pandas>=0.25 in c:\\programdata\\anaconda3\\lib\\site-packages (from seaborn) (2.1.4)\n",
      "Requirement already satisfied: matplotlib!=3.6.1,>=3.1 in c:\\users\\multimedia\\appdata\\roaming\\python\\python311\\site-packages (from seaborn) (3.7.3)\n",
      "Requirement already satisfied: contourpy>=1.0.1 in c:\\programdata\\anaconda3\\lib\\site-packages (from matplotlib!=3.6.1,>=3.1->seaborn) (1.2.0)\n",
      "Requirement already satisfied: cycler>=0.10 in c:\\programdata\\anaconda3\\lib\\site-packages (from matplotlib!=3.6.1,>=3.1->seaborn) (0.11.0)\n",
      "Requirement already satisfied: fonttools>=4.22.0 in c:\\programdata\\anaconda3\\lib\\site-packages (from matplotlib!=3.6.1,>=3.1->seaborn) (4.25.0)\n",
      "Requirement already satisfied: kiwisolver>=1.0.1 in c:\\programdata\\anaconda3\\lib\\site-packages (from matplotlib!=3.6.1,>=3.1->seaborn) (1.4.4)\n",
      "Requirement already satisfied: packaging>=20.0 in c:\\programdata\\anaconda3\\lib\\site-packages (from matplotlib!=3.6.1,>=3.1->seaborn) (23.1)\n",
      "Requirement already satisfied: pillow>=6.2.0 in c:\\programdata\\anaconda3\\lib\\site-packages (from matplotlib!=3.6.1,>=3.1->seaborn) (10.2.0)\n",
      "Requirement already satisfied: pyparsing>=2.3.1 in c:\\programdata\\anaconda3\\lib\\site-packages (from matplotlib!=3.6.1,>=3.1->seaborn) (3.0.9)\n",
      "Requirement already satisfied: python-dateutil>=2.7 in c:\\programdata\\anaconda3\\lib\\site-packages (from matplotlib!=3.6.1,>=3.1->seaborn) (2.8.2)\n",
      "Requirement already satisfied: pytz>=2020.1 in c:\\programdata\\anaconda3\\lib\\site-packages (from pandas>=0.25->seaborn) (2023.3.post1)\n",
      "Requirement already satisfied: tzdata>=2022.1 in c:\\programdata\\anaconda3\\lib\\site-packages (from pandas>=0.25->seaborn) (2023.3)\n",
      "Requirement already satisfied: six>=1.5 in c:\\programdata\\anaconda3\\lib\\site-packages (from python-dateutil>=2.7->matplotlib!=3.6.1,>=3.1->seaborn) (1.16.0)\n",
      "Defaulting to user installation because normal site-packages is not writeable\n",
      "Requirement already satisfied: matplotlib in c:\\users\\multimedia\\appdata\\roaming\\python\\python311\\site-packages (3.7.3)\n",
      "Requirement already satisfied: contourpy>=1.0.1 in c:\\programdata\\anaconda3\\lib\\site-packages (from matplotlib) (1.2.0)\n",
      "Requirement already satisfied: cycler>=0.10 in c:\\programdata\\anaconda3\\lib\\site-packages (from matplotlib) (0.11.0)\n",
      "Requirement already satisfied: fonttools>=4.22.0 in c:\\programdata\\anaconda3\\lib\\site-packages (from matplotlib) (4.25.0)\n",
      "Requirement already satisfied: kiwisolver>=1.0.1 in c:\\programdata\\anaconda3\\lib\\site-packages (from matplotlib) (1.4.4)\n",
      "Requirement already satisfied: numpy<2,>=1.20 in c:\\programdata\\anaconda3\\lib\\site-packages (from matplotlib) (1.26.4)\n",
      "Requirement already satisfied: packaging>=20.0 in c:\\programdata\\anaconda3\\lib\\site-packages (from matplotlib) (23.1)\n",
      "Requirement already satisfied: pillow>=6.2.0 in c:\\programdata\\anaconda3\\lib\\site-packages (from matplotlib) (10.2.0)\n",
      "Requirement already satisfied: pyparsing>=2.3.1 in c:\\programdata\\anaconda3\\lib\\site-packages (from matplotlib) (3.0.9)\n",
      "Requirement already satisfied: python-dateutil>=2.7 in c:\\programdata\\anaconda3\\lib\\site-packages (from matplotlib) (2.8.2)\n",
      "Requirement already satisfied: six>=1.5 in c:\\programdata\\anaconda3\\lib\\site-packages (from python-dateutil>=2.7->matplotlib) (1.16.0)\n",
      "Defaulting to user installation because normal site-packages is not writeable\n",
      "Requirement already satisfied: pandas_profiling in c:\\users\\multimedia\\appdata\\roaming\\python\\python311\\site-packages (3.2.0)\n",
      "Requirement already satisfied: joblib~=1.1.0 in c:\\users\\multimedia\\appdata\\roaming\\python\\python311\\site-packages (from pandas_profiling) (1.1.1)\n",
      "Requirement already satisfied: scipy>=1.4.1 in c:\\programdata\\anaconda3\\lib\\site-packages (from pandas_profiling) (1.11.4)\n",
      "Requirement already satisfied: pandas!=1.0.0,!=1.0.1,!=1.0.2,!=1.1.0,>=0.25.3 in c:\\programdata\\anaconda3\\lib\\site-packages (from pandas_profiling) (2.1.4)\n",
      "Requirement already satisfied: matplotlib>=3.2.0 in c:\\users\\multimedia\\appdata\\roaming\\python\\python311\\site-packages (from pandas_profiling) (3.7.3)\n",
      "Requirement already satisfied: pydantic>=1.8.1 in c:\\programdata\\anaconda3\\lib\\site-packages (from pandas_profiling) (1.10.12)\n",
      "Requirement already satisfied: PyYAML>=5.0.0 in c:\\programdata\\anaconda3\\lib\\site-packages (from pandas_profiling) (6.0.1)\n",
      "Requirement already satisfied: jinja2>=2.11.1 in c:\\programdata\\anaconda3\\lib\\site-packages (from pandas_profiling) (3.1.3)\n",
      "Requirement already satisfied: markupsafe~=2.1.1 in c:\\programdata\\anaconda3\\lib\\site-packages (from pandas_profiling) (2.1.3)\n",
      "Requirement already satisfied: visions==0.7.4 in c:\\users\\multimedia\\appdata\\roaming\\python\\python311\\site-packages (from visions[type_image_path]==0.7.4->pandas_profiling) (0.7.4)\n",
      "Requirement already satisfied: numpy>=1.16.0 in c:\\programdata\\anaconda3\\lib\\site-packages (from pandas_profiling) (1.26.4)\n",
      "Requirement already satisfied: htmlmin>=0.1.12 in c:\\users\\multimedia\\appdata\\roaming\\python\\python311\\site-packages (from pandas_profiling) (0.1.12)\n",
      "Requirement already satisfied: missingno>=0.4.2 in c:\\users\\multimedia\\appdata\\roaming\\python\\python311\\site-packages (from pandas_profiling) (0.5.2)\n",
      "Requirement already satisfied: phik>=0.11.1 in c:\\users\\multimedia\\appdata\\roaming\\python\\python311\\site-packages (from pandas_profiling) (0.12.4)\n",
      "Requirement already satisfied: tangled-up-in-unicode==0.2.0 in c:\\users\\multimedia\\appdata\\roaming\\python\\python311\\site-packages (from pandas_profiling) (0.2.0)\n",
      "Requirement already satisfied: requests>=2.24.0 in c:\\programdata\\anaconda3\\lib\\site-packages (from pandas_profiling) (2.31.0)\n",
      "Requirement already satisfied: tqdm>=4.48.2 in c:\\programdata\\anaconda3\\lib\\site-packages (from pandas_profiling) (4.65.0)\n",
      "Requirement already satisfied: seaborn>=0.10.1 in c:\\programdata\\anaconda3\\lib\\site-packages (from pandas_profiling) (0.12.2)\n",
      "Requirement already satisfied: multimethod>=1.4 in c:\\users\\multimedia\\appdata\\roaming\\python\\python311\\site-packages (from pandas_profiling) (1.11.2)\n",
      "Requirement already satisfied: attrs>=19.3.0 in c:\\programdata\\anaconda3\\lib\\site-packages (from visions==0.7.4->visions[type_image_path]==0.7.4->pandas_profiling) (23.1.0)\n",
      "Requirement already satisfied: networkx>=2.4 in c:\\programdata\\anaconda3\\lib\\site-packages (from visions==0.7.4->visions[type_image_path]==0.7.4->pandas_profiling) (3.1)\n",
      "Requirement already satisfied: imagehash in c:\\users\\multimedia\\appdata\\roaming\\python\\python311\\site-packages (from visions[type_image_path]==0.7.4->pandas_profiling) (4.3.1)\n",
      "Requirement already satisfied: Pillow in c:\\programdata\\anaconda3\\lib\\site-packages (from visions[type_image_path]==0.7.4->pandas_profiling) (10.2.0)\n",
      "Requirement already satisfied: contourpy>=1.0.1 in c:\\programdata\\anaconda3\\lib\\site-packages (from matplotlib>=3.2.0->pandas_profiling) (1.2.0)\n",
      "Requirement already satisfied: cycler>=0.10 in c:\\programdata\\anaconda3\\lib\\site-packages (from matplotlib>=3.2.0->pandas_profiling) (0.11.0)\n",
      "Requirement already satisfied: fonttools>=4.22.0 in c:\\programdata\\anaconda3\\lib\\site-packages (from matplotlib>=3.2.0->pandas_profiling) (4.25.0)\n",
      "Requirement already satisfied: kiwisolver>=1.0.1 in c:\\programdata\\anaconda3\\lib\\site-packages (from matplotlib>=3.2.0->pandas_profiling) (1.4.4)\n",
      "Requirement already satisfied: packaging>=20.0 in c:\\programdata\\anaconda3\\lib\\site-packages (from matplotlib>=3.2.0->pandas_profiling) (23.1)\n",
      "Requirement already satisfied: pyparsing>=2.3.1 in c:\\programdata\\anaconda3\\lib\\site-packages (from matplotlib>=3.2.0->pandas_profiling) (3.0.9)\n",
      "Requirement already satisfied: python-dateutil>=2.7 in c:\\programdata\\anaconda3\\lib\\site-packages (from matplotlib>=3.2.0->pandas_profiling) (2.8.2)\n",
      "Requirement already satisfied: pytz>=2020.1 in c:\\programdata\\anaconda3\\lib\\site-packages (from pandas!=1.0.0,!=1.0.1,!=1.0.2,!=1.1.0,>=0.25.3->pandas_profiling) (2023.3.post1)\n",
      "Requirement already satisfied: tzdata>=2022.1 in c:\\programdata\\anaconda3\\lib\\site-packages (from pandas!=1.0.0,!=1.0.1,!=1.0.2,!=1.1.0,>=0.25.3->pandas_profiling) (2023.3)\n",
      "Requirement already satisfied: typing-extensions>=4.2.0 in c:\\programdata\\anaconda3\\lib\\site-packages (from pydantic>=1.8.1->pandas_profiling) (4.9.0)\n",
      "Requirement already satisfied: charset-normalizer<4,>=2 in c:\\programdata\\anaconda3\\lib\\site-packages (from requests>=2.24.0->pandas_profiling) (2.0.4)\n",
      "Requirement already satisfied: idna<4,>=2.5 in c:\\programdata\\anaconda3\\lib\\site-packages (from requests>=2.24.0->pandas_profiling) (3.4)\n",
      "Requirement already satisfied: urllib3<3,>=1.21.1 in c:\\programdata\\anaconda3\\lib\\site-packages (from requests>=2.24.0->pandas_profiling) (2.0.7)\n",
      "Requirement already satisfied: certifi>=2017.4.17 in c:\\programdata\\anaconda3\\lib\\site-packages (from requests>=2.24.0->pandas_profiling) (2024.2.2)\n",
      "Requirement already satisfied: colorama in c:\\programdata\\anaconda3\\lib\\site-packages (from tqdm>=4.48.2->pandas_profiling) (0.4.6)\n",
      "Requirement already satisfied: six>=1.5 in c:\\programdata\\anaconda3\\lib\\site-packages (from python-dateutil>=2.7->matplotlib>=3.2.0->pandas_profiling) (1.16.0)\n",
      "Requirement already satisfied: PyWavelets in c:\\programdata\\anaconda3\\lib\\site-packages (from imagehash->visions[type_image_path]==0.7.4->pandas_profiling) (1.5.0)\n"
     ]
    }
   ],
   "source": [
    "!pip install numpy\n",
    "!pip install pandas\n",
    "!pip install seaborn\n",
    "!pip install matplotlib\n",
    "!pip install pandas_profiling"
   ]
  },
  {
   "cell_type": "code",
   "execution_count": 3,
   "id": "8830c943-f4ec-4d73-8726-407106c45075",
   "metadata": {},
   "outputs": [],
   "source": [
    "import numpy as np\n",
    "import pandas as pd\n",
    "import seaborn as sns\n",
    "import matplotlib.pyplot as plt\n",
    "from sklearn import preprocessing #para la limpieza\n",
    "from sklearn.preprocessing import LabelEncoder #Para la renovacion\n",
    "from sklearn import linear_model #para la regresion lineal\n",
    "from sklearn.neural_network import MLPRegressor #Para la red neuronal\n",
    "from sklearn.model_selection import train_test_split #Para particionar el conjunto de datos"
   ]
  },
  {
   "cell_type": "markdown",
   "id": "9a1f540f-92f7-4944-b17e-225a8ba3624b",
   "metadata": {},
   "source": [
    "## 2. Leer/seleccionar/renombrar datos"
   ]
  },
  {
   "cell_type": "code",
   "execution_count": 4,
   "id": "b959d91a-20b3-4376-9fa7-bbaf52bf44c5",
   "metadata": {},
   "outputs": [
    {
     "data": {
      "text/html": [
       "<div>\n",
       "<style scoped>\n",
       "    .dataframe tbody tr th:only-of-type {\n",
       "        vertical-align: middle;\n",
       "    }\n",
       "\n",
       "    .dataframe tbody tr th {\n",
       "        vertical-align: top;\n",
       "    }\n",
       "\n",
       "    .dataframe thead th {\n",
       "        text-align: right;\n",
       "    }\n",
       "</style>\n",
       "<table border=\"1\" class=\"dataframe\">\n",
       "  <thead>\n",
       "    <tr style=\"text-align: right;\">\n",
       "      <th></th>\n",
       "      <th>record_id</th>\n",
       "      <th>month</th>\n",
       "      <th>day</th>\n",
       "      <th>year</th>\n",
       "      <th>plot_id</th>\n",
       "      <th>species_id</th>\n",
       "      <th>sex</th>\n",
       "      <th>hindfoot_length</th>\n",
       "      <th>weight</th>\n",
       "    </tr>\n",
       "  </thead>\n",
       "  <tbody>\n",
       "    <tr>\n",
       "      <th>0</th>\n",
       "      <td>1</td>\n",
       "      <td>7</td>\n",
       "      <td>16</td>\n",
       "      <td>1977</td>\n",
       "      <td>2</td>\n",
       "      <td>NL</td>\n",
       "      <td>M</td>\n",
       "      <td>32.0</td>\n",
       "      <td>NaN</td>\n",
       "    </tr>\n",
       "    <tr>\n",
       "      <th>1</th>\n",
       "      <td>2</td>\n",
       "      <td>7</td>\n",
       "      <td>16</td>\n",
       "      <td>1977</td>\n",
       "      <td>3</td>\n",
       "      <td>NL</td>\n",
       "      <td>M</td>\n",
       "      <td>33.0</td>\n",
       "      <td>NaN</td>\n",
       "    </tr>\n",
       "    <tr>\n",
       "      <th>2</th>\n",
       "      <td>3</td>\n",
       "      <td>7</td>\n",
       "      <td>16</td>\n",
       "      <td>1977</td>\n",
       "      <td>2</td>\n",
       "      <td>DM</td>\n",
       "      <td>F</td>\n",
       "      <td>37.0</td>\n",
       "      <td>NaN</td>\n",
       "    </tr>\n",
       "    <tr>\n",
       "      <th>3</th>\n",
       "      <td>4</td>\n",
       "      <td>7</td>\n",
       "      <td>16</td>\n",
       "      <td>1977</td>\n",
       "      <td>7</td>\n",
       "      <td>DM</td>\n",
       "      <td>M</td>\n",
       "      <td>36.0</td>\n",
       "      <td>NaN</td>\n",
       "    </tr>\n",
       "    <tr>\n",
       "      <th>4</th>\n",
       "      <td>5</td>\n",
       "      <td>7</td>\n",
       "      <td>16</td>\n",
       "      <td>1977</td>\n",
       "      <td>3</td>\n",
       "      <td>DM</td>\n",
       "      <td>M</td>\n",
       "      <td>35.0</td>\n",
       "      <td>NaN</td>\n",
       "    </tr>\n",
       "  </tbody>\n",
       "</table>\n",
       "</div>"
      ],
      "text/plain": [
       "   record_id  month  day  year  plot_id species_id sex  hindfoot_length  \\\n",
       "0          1      7   16  1977        2         NL   M             32.0   \n",
       "1          2      7   16  1977        3         NL   M             33.0   \n",
       "2          3      7   16  1977        2         DM   F             37.0   \n",
       "3          4      7   16  1977        7         DM   M             36.0   \n",
       "4          5      7   16  1977        3         DM   M             35.0   \n",
       "\n",
       "   weight  \n",
       "0     NaN  \n",
       "1     NaN  \n",
       "2     NaN  \n",
       "3     NaN  \n",
       "4     NaN  "
      ]
     },
     "execution_count": 4,
     "metadata": {},
     "output_type": "execute_result"
    }
   ],
   "source": [
    "#Leer Datos\n",
    "df = pd.read_csv('surveys.csv')\n",
    "df.head()"
   ]
  },
  {
   "cell_type": "code",
   "execution_count": 5,
   "id": "f30826dd-7f19-4eb5-905b-9aa0b03b7820",
   "metadata": {},
   "outputs": [
    {
     "data": {
      "text/html": [
       "<div>\n",
       "<style scoped>\n",
       "    .dataframe tbody tr th:only-of-type {\n",
       "        vertical-align: middle;\n",
       "    }\n",
       "\n",
       "    .dataframe tbody tr th {\n",
       "        vertical-align: top;\n",
       "    }\n",
       "\n",
       "    .dataframe thead th {\n",
       "        text-align: right;\n",
       "    }\n",
       "</style>\n",
       "<table border=\"1\" class=\"dataframe\">\n",
       "  <thead>\n",
       "    <tr style=\"text-align: right;\">\n",
       "      <th></th>\n",
       "      <th>especie</th>\n",
       "      <th>sexo</th>\n",
       "      <th>tamaño_pata</th>\n",
       "      <th>peso</th>\n",
       "    </tr>\n",
       "  </thead>\n",
       "  <tbody>\n",
       "    <tr>\n",
       "      <th>0</th>\n",
       "      <td>NL</td>\n",
       "      <td>M</td>\n",
       "      <td>32.0</td>\n",
       "      <td>NaN</td>\n",
       "    </tr>\n",
       "    <tr>\n",
       "      <th>1</th>\n",
       "      <td>NL</td>\n",
       "      <td>M</td>\n",
       "      <td>33.0</td>\n",
       "      <td>NaN</td>\n",
       "    </tr>\n",
       "    <tr>\n",
       "      <th>2</th>\n",
       "      <td>DM</td>\n",
       "      <td>F</td>\n",
       "      <td>37.0</td>\n",
       "      <td>NaN</td>\n",
       "    </tr>\n",
       "    <tr>\n",
       "      <th>3</th>\n",
       "      <td>DM</td>\n",
       "      <td>M</td>\n",
       "      <td>36.0</td>\n",
       "      <td>NaN</td>\n",
       "    </tr>\n",
       "    <tr>\n",
       "      <th>4</th>\n",
       "      <td>DM</td>\n",
       "      <td>M</td>\n",
       "      <td>35.0</td>\n",
       "      <td>NaN</td>\n",
       "    </tr>\n",
       "  </tbody>\n",
       "</table>\n",
       "</div>"
      ],
      "text/plain": [
       "  especie sexo  tamaño_pata  peso\n",
       "0      NL    M         32.0   NaN\n",
       "1      NL    M         33.0   NaN\n",
       "2      DM    F         37.0   NaN\n",
       "3      DM    M         36.0   NaN\n",
       "4      DM    M         35.0   NaN"
      ]
     },
     "execution_count": 5,
     "metadata": {},
     "output_type": "execute_result"
    }
   ],
   "source": [
    "# Seleccion de datos\n",
    "df = df[['species_id','sex','hindfoot_length','weight']]\n",
    "# Renombre de Datos\n",
    "df.columns = ['especie','sexo','tamaño_pata','peso']\n",
    "df.head()\n"
   ]
  },
  {
   "cell_type": "markdown",
   "id": "71ce4c11-2f16-427e-90a8-fde60fb078a5",
   "metadata": {},
   "source": [
    "## 3. Limpieza de Datos"
   ]
  },
  {
   "cell_type": "code",
   "execution_count": 6,
   "id": "ac836973-19c9-42e0-ab44-e5c9809c3a5d",
   "metadata": {},
   "outputs": [
    {
     "data": {
      "text/plain": [
       "especie         763\n",
       "sexo           2511\n",
       "tamaño_pata    4111\n",
       "peso           3266\n",
       "dtype: int64"
      ]
     },
     "execution_count": 6,
     "metadata": {},
     "output_type": "execute_result"
    }
   ],
   "source": [
    "df.isnull().sum()"
   ]
  },
  {
   "cell_type": "code",
   "execution_count": 7,
   "id": "e79e931a-760e-4a6c-983b-2bdf33d92738",
   "metadata": {},
   "outputs": [
    {
     "data": {
      "text/plain": [
       "(35549, 4)"
      ]
     },
     "execution_count": 7,
     "metadata": {},
     "output_type": "execute_result"
    }
   ],
   "source": [
    "df.shape"
   ]
  },
  {
   "cell_type": "code",
   "execution_count": 8,
   "id": "c65167a8-c80b-4616-9284-5017ffbaf8c0",
   "metadata": {},
   "outputs": [
    {
     "data": {
      "text/plain": [
       "especie         object\n",
       "sexo            object\n",
       "tamaño_pata    float64\n",
       "peso           float64\n",
       "dtype: object"
      ]
     },
     "execution_count": 8,
     "metadata": {},
     "output_type": "execute_result"
    }
   ],
   "source": [
    "df.dtypes"
   ]
  },
  {
   "cell_type": "markdown",
   "id": "f075ba47-68fe-4593-8569-4ebcabdaf87b",
   "metadata": {},
   "source": [
    "# 3.1 Reemplazar valores perdidos con moda"
   ]
  },
  {
   "cell_type": "code",
   "execution_count": 9,
   "id": "9b1a8528-d815-4df4-9228-4298c288b36b",
   "metadata": {},
   "outputs": [
    {
     "data": {
      "text/html": [
       "<div>\n",
       "<style scoped>\n",
       "    .dataframe tbody tr th:only-of-type {\n",
       "        vertical-align: middle;\n",
       "    }\n",
       "\n",
       "    .dataframe tbody tr th {\n",
       "        vertical-align: top;\n",
       "    }\n",
       "\n",
       "    .dataframe thead th {\n",
       "        text-align: right;\n",
       "    }\n",
       "</style>\n",
       "<table border=\"1\" class=\"dataframe\">\n",
       "  <thead>\n",
       "    <tr style=\"text-align: right;\">\n",
       "      <th></th>\n",
       "      <th>especie</th>\n",
       "      <th>sexo</th>\n",
       "      <th>tamaño_pata</th>\n",
       "      <th>peso</th>\n",
       "    </tr>\n",
       "  </thead>\n",
       "  <tbody>\n",
       "    <tr>\n",
       "      <th>0</th>\n",
       "      <td>NL</td>\n",
       "      <td>M</td>\n",
       "      <td>32.0</td>\n",
       "      <td>42.672428</td>\n",
       "    </tr>\n",
       "    <tr>\n",
       "      <th>1</th>\n",
       "      <td>NL</td>\n",
       "      <td>M</td>\n",
       "      <td>33.0</td>\n",
       "      <td>42.672428</td>\n",
       "    </tr>\n",
       "    <tr>\n",
       "      <th>2</th>\n",
       "      <td>DM</td>\n",
       "      <td>F</td>\n",
       "      <td>37.0</td>\n",
       "      <td>42.672428</td>\n",
       "    </tr>\n",
       "    <tr>\n",
       "      <th>3</th>\n",
       "      <td>DM</td>\n",
       "      <td>M</td>\n",
       "      <td>36.0</td>\n",
       "      <td>42.672428</td>\n",
       "    </tr>\n",
       "    <tr>\n",
       "      <th>4</th>\n",
       "      <td>DM</td>\n",
       "      <td>M</td>\n",
       "      <td>35.0</td>\n",
       "      <td>42.672428</td>\n",
       "    </tr>\n",
       "  </tbody>\n",
       "</table>\n",
       "</div>"
      ],
      "text/plain": [
       "  especie sexo  tamaño_pata       peso\n",
       "0      NL    M         32.0  42.672428\n",
       "1      NL    M         33.0  42.672428\n",
       "2      DM    F         37.0  42.672428\n",
       "3      DM    M         36.0  42.672428\n",
       "4      DM    M         35.0  42.672428"
      ]
     },
     "execution_count": 9,
     "metadata": {},
     "output_type": "execute_result"
    }
   ],
   "source": [
    "PromTamPata = df['tamaño_pata'].mean()\n",
    "\n",
    "PromPeso = df['peso'].mean()\n",
    "\n",
    "df['tamaño_pata'] =  df['tamaño_pata'].replace(np.nan, PromTamPata)\n",
    "\n",
    "df['peso'] = df['peso'].replace(np.nan, PromPeso)\n",
    "df.head()"
   ]
  },
  {
   "cell_type": "markdown",
   "id": "021bf4b7-0b51-46cf-8a5f-02ebd5bf984b",
   "metadata": {},
   "source": [
    "## 3.2 Reemplazar valores perdidos con moda"
   ]
  },
  {
   "cell_type": "code",
   "execution_count": 10,
   "id": "6311bd1b-cad7-4cde-9b8f-30b80ca99c2b",
   "metadata": {},
   "outputs": [
    {
     "name": "stdout",
     "output_type": "stream",
     "text": [
      "0    M\n",
      "Name: sexo, dtype: object\n",
      "0    DM\n",
      "Name: especie, dtype: object\n"
     ]
    }
   ],
   "source": [
    "ModaSexo = df['sexo'].mode()\n",
    "print(ModaSexo)\n",
    "\n",
    "ModaEspecie = df['especie'].mode()\n",
    "print(ModaEspecie)"
   ]
  },
  {
   "cell_type": "code",
   "execution_count": 11,
   "id": "d32eef0e-61a0-4988-b94e-bfc8dc904f28",
   "metadata": {},
   "outputs": [
    {
     "data": {
      "text/html": [
       "<div>\n",
       "<style scoped>\n",
       "    .dataframe tbody tr th:only-of-type {\n",
       "        vertical-align: middle;\n",
       "    }\n",
       "\n",
       "    .dataframe tbody tr th {\n",
       "        vertical-align: top;\n",
       "    }\n",
       "\n",
       "    .dataframe thead th {\n",
       "        text-align: right;\n",
       "    }\n",
       "</style>\n",
       "<table border=\"1\" class=\"dataframe\">\n",
       "  <thead>\n",
       "    <tr style=\"text-align: right;\">\n",
       "      <th></th>\n",
       "      <th>especie</th>\n",
       "      <th>sexo</th>\n",
       "      <th>tamaño_pata</th>\n",
       "      <th>peso</th>\n",
       "    </tr>\n",
       "  </thead>\n",
       "  <tbody>\n",
       "    <tr>\n",
       "      <th>0</th>\n",
       "      <td>NL</td>\n",
       "      <td>M</td>\n",
       "      <td>32.0</td>\n",
       "      <td>42.672428</td>\n",
       "    </tr>\n",
       "    <tr>\n",
       "      <th>1</th>\n",
       "      <td>NL</td>\n",
       "      <td>M</td>\n",
       "      <td>33.0</td>\n",
       "      <td>42.672428</td>\n",
       "    </tr>\n",
       "    <tr>\n",
       "      <th>2</th>\n",
       "      <td>DM</td>\n",
       "      <td>F</td>\n",
       "      <td>37.0</td>\n",
       "      <td>42.672428</td>\n",
       "    </tr>\n",
       "    <tr>\n",
       "      <th>3</th>\n",
       "      <td>DM</td>\n",
       "      <td>M</td>\n",
       "      <td>36.0</td>\n",
       "      <td>42.672428</td>\n",
       "    </tr>\n",
       "    <tr>\n",
       "      <th>4</th>\n",
       "      <td>DM</td>\n",
       "      <td>M</td>\n",
       "      <td>35.0</td>\n",
       "      <td>42.672428</td>\n",
       "    </tr>\n",
       "  </tbody>\n",
       "</table>\n",
       "</div>"
      ],
      "text/plain": [
       "  especie sexo  tamaño_pata       peso\n",
       "0      NL    M         32.0  42.672428\n",
       "1      NL    M         33.0  42.672428\n",
       "2      DM    F         37.0  42.672428\n",
       "3      DM    M         36.0  42.672428\n",
       "4      DM    M         35.0  42.672428"
      ]
     },
     "execution_count": 11,
     "metadata": {},
     "output_type": "execute_result"
    }
   ],
   "source": [
    "df['sexo'] = df['sexo'].fillna('M')\n",
    "\n",
    "df['especie'] = df['especie'].fillna('DM')\n",
    "\n",
    "df.head()"
   ]
  },
  {
   "cell_type": "markdown",
   "id": "a47d89dd-07a9-4b24-9e52-719dc1ae7cd8",
   "metadata": {},
   "source": [
    "# 4. Transformación de Datos"
   ]
  },
  {
   "cell_type": "code",
   "execution_count": 12,
   "id": "3fbbcbc2-06c9-467a-bc97-45f91462b95c",
   "metadata": {},
   "outputs": [
    {
     "data": {
      "text/html": [
       "<div>\n",
       "<style scoped>\n",
       "    .dataframe tbody tr th:only-of-type {\n",
       "        vertical-align: middle;\n",
       "    }\n",
       "\n",
       "    .dataframe tbody tr th {\n",
       "        vertical-align: top;\n",
       "    }\n",
       "\n",
       "    .dataframe thead th {\n",
       "        text-align: right;\n",
       "    }\n",
       "</style>\n",
       "<table border=\"1\" class=\"dataframe\">\n",
       "  <thead>\n",
       "    <tr style=\"text-align: right;\">\n",
       "      <th></th>\n",
       "      <th>especie</th>\n",
       "      <th>sexo</th>\n",
       "      <th>tamaño_pata</th>\n",
       "      <th>peso</th>\n",
       "    </tr>\n",
       "  </thead>\n",
       "  <tbody>\n",
       "    <tr>\n",
       "      <th>0</th>\n",
       "      <td>15</td>\n",
       "      <td>1</td>\n",
       "      <td>32.0</td>\n",
       "      <td>42.672428</td>\n",
       "    </tr>\n",
       "    <tr>\n",
       "      <th>1</th>\n",
       "      <td>15</td>\n",
       "      <td>1</td>\n",
       "      <td>33.0</td>\n",
       "      <td>42.672428</td>\n",
       "    </tr>\n",
       "    <tr>\n",
       "      <th>2</th>\n",
       "      <td>11</td>\n",
       "      <td>0</td>\n",
       "      <td>37.0</td>\n",
       "      <td>42.672428</td>\n",
       "    </tr>\n",
       "    <tr>\n",
       "      <th>3</th>\n",
       "      <td>11</td>\n",
       "      <td>1</td>\n",
       "      <td>36.0</td>\n",
       "      <td>42.672428</td>\n",
       "    </tr>\n",
       "    <tr>\n",
       "      <th>4</th>\n",
       "      <td>11</td>\n",
       "      <td>1</td>\n",
       "      <td>35.0</td>\n",
       "      <td>42.672428</td>\n",
       "    </tr>\n",
       "  </tbody>\n",
       "</table>\n",
       "</div>"
      ],
      "text/plain": [
       "   especie  sexo  tamaño_pata       peso\n",
       "0       15     1         32.0  42.672428\n",
       "1       15     1         33.0  42.672428\n",
       "2       11     0         37.0  42.672428\n",
       "3       11     1         36.0  42.672428\n",
       "4       11     1         35.0  42.672428"
      ]
     },
     "execution_count": 12,
     "metadata": {},
     "output_type": "execute_result"
    }
   ],
   "source": [
    "\n",
    "encoder = preprocessing.LabelEncoder()\n",
    "encoder.fit(df['sexo'])\n",
    "\n",
    "df['sexo'] = encoder.transform(df['sexo'])\n",
    "encoder.fit(df['especie'])\n",
    "\n",
    "df['especie'] = encoder.transform(df['especie'])\n",
    "df.head()\n"
   ]
  },
  {
   "cell_type": "markdown",
   "id": "f84e6c32-1390-4fae-9579-5cc6be814286",
   "metadata": {},
   "source": [
    "# 5. Correlacion"
   ]
  },
  {
   "cell_type": "code",
   "execution_count": 16,
   "id": "d436718f-e0d0-4fe5-a902-b918df2a6114",
   "metadata": {},
   "outputs": [
    {
     "data": {
      "image/png": "[encoded data removed]",
      "text/plain": [
       "<Figure size 640x480 with 2 Axes>"
      ]
     },
     "metadata": {},
     "output_type": "display_data"
    }
   ],
   "source": [
    "# Calcular matriz de correlación\n",
    "corre_mat = df.corr()\n",
    "\n",
    "#Graficar matriz de correlacion\n",
    "sns.heatmap(corre_mat, annot = True) #annot = true para mostrar valores en cada cuadro\n",
    "plt.show()\n"
   ]
  },
  {
   "cell_type": "markdown",
   "id": "79979f89-b1b1-432e-a526-4b4c5e816297",
   "metadata": {},
   "source": [
    "1. en las variables explicativas busca valores mayores a .9 o menores a -.9.\r",
    "2.  si hay algun valor en ese rango identifica las variables que se relacionan a ese valo. 3. - decidir cual de las dos variables debe permanecer en la relación, para eso se fija en cual influencia mas la variable respuesta es decir, cual tiene corelación mas alta en la variable respuesta "
   ]
  },
  {
   "cell_type": "markdown",
   "id": "967d09c0-de85-4ba7-84bd-118cc4d93391",
   "metadata": {},
   "source": [
    "## 6. Partición del conjunto de Datos "
   ]
  },
  {
   "cell_type": "code",
   "execution_count": 50,
   "id": "f4b0e746-f821-44cf-8734-96bc73088aee",
   "metadata": {},
   "outputs": [],
   "source": [
    "# definir X y Y \n",
    "X1 = df[['tamaño_pata']]\n",
    "y1 = df[['peso']]\n",
    "X2 = df[['especie', 'sexo', 'tamaño_pata']]\n",
    "y2 = df[['peso']]\n",
    "# Separar los conjuntos de datos en entrenamiento \"train\" y prueba \"test\"\n",
    "X1_train, X1_test, y1_train, y1_test =train_test_split(X1, y1, test_size=0.2)\n",
    "X2_train, X2_test, y2_train, y2_test =train_test_split(X2, y2, test_size=0.2)\n"
   ]
  },
  {
   "cell_type": "markdown",
   "id": "96642adc-320e-447c-b7bc-672d8c19196d",
   "metadata": {},
   "source": [
    "## 7. Entrenamiento"
   ]
  },
  {
   "cell_type": "markdown",
   "id": "a2604e4b-5840-4a2c-819e-ccdd297cd6a0",
   "metadata": {},
   "source": [
    "### 7.1 Regresion lineal simple"
   ]
  },
  {
   "cell_type": "code",
   "execution_count": 51,
   "id": "c885bfd8-359d-44f2-a529-0b69ca62a9e1",
   "metadata": {},
   "outputs": [
    {
     "name": "stdout",
     "output_type": "stream",
     "text": [
      "\n",
      "La precision del modelo de regresión lineal smple es: \n",
      "0.38017797216483107\n"
     ]
    }
   ],
   "source": [
    "#Definir el algoritmo\n",
    "RLS = linear_model.LinearRegression()\n",
    "\n",
    "#Entrenar el modelo\n",
    "RLS.fit(X1_train, y1_train)\n",
    "\n",
    "#Realizar predicción\n",
    "RLS.predict(X1_test)\n",
    "\n",
    "#Calcular precisión\n",
    "r2_RLS = RLS.score(X1_test, y1_test)\n",
    "print()\n",
    "print('La precision del modelo de regresión lineal smple es: ')\n",
    "print(r2_RLS)\n"
   ]
  },
  {
   "cell_type": "markdown",
   "id": "53f3340f-5f96-443f-879d-995dfb159f77",
   "metadata": {},
   "source": [
    "## 7.2 Regresión lineal múltiple"
   ]
  },
  {
   "cell_type": "code",
   "execution_count": 52,
   "id": "50239670-5f7c-4658-a667-4ccdc9f5c10d",
   "metadata": {},
   "outputs": [
    {
     "name": "stdout",
     "output_type": "stream",
     "text": [
      "\n",
      "La precision del modelo de regresión lineal multiple es: \n",
      "0.4197701891971739\n"
     ]
    }
   ],
   "source": [
    "#Definir el algoritmo\n",
    "RLM = linear_model.LinearRegression()\n",
    "\n",
    "#Entrenar el modelo\n",
    "RLM.fit(X2_train, y2_train)\n",
    "\n",
    "#Realizar predicción\n",
    "RLM.predict(X2_test)\n",
    "\n",
    "#Calcular precisión\n",
    "r2_RLM = RLM.score(X2_test, y2_test)\n",
    "print()\n",
    "print('La precision del modelo de regresión lineal multiple es: ')\n",
    "print(r2_RLM)\n"
   ]
  },
  {
   "cell_type": "markdown",
   "id": "9804c168-9d59-48fa-99c6-3ff943cedf1e",
   "metadata": {},
   "source": [
    "## 7.3 Red Neuronal"
   ]
  },
  {
   "cell_type": "code",
   "execution_count": 57,
   "id": "cb702382-83b2-417b-b2c7-9a57912d7880",
   "metadata": {},
   "outputs": [
    {
     "name": "stderr",
     "output_type": "stream",
     "text": [
      "C:\\ProgramData\\anaconda3\\Lib\\site-packages\\sklearn\\neural_network\\_multilayer_perceptron.py:1623: DataConversionWarning: A column-vector y was passed when a 1d array was expected. Please change the shape of y to (n_samples, ), for example using ravel().\n",
      "  y = column_or_1d(y, warn=True)\n"
     ]
    },
    {
     "name": "stdout",
     "output_type": "stream",
     "text": [
      "\n",
      "La precisión del modelo de Red Neuronal : \n",
      "0.8413419542345957\n"
     ]
    }
   ],
   "source": [
    "# Definir el algoritmo\n",
    "NN = MLPRegressor(hidden_layer_sizes=(100,100,200))\n",
    "\n",
    "# Entrenar el modelo \n",
    "NN.fit(X2_train, y2_train)\n",
    "\n",
    "#Realizar predicción \n",
    "NN.predict(X2_test)\n",
    "\n",
    "#Calcular precisión \n",
    "r2_NN = NN.score(X2_test, y2_test)\n",
    "print()\n",
    "print('La precisión del modelo de Red Neuronal : ')\n",
    "print(r2_NN)\n"
   ]
  },
  {
   "cell_type": "markdown",
   "id": "3d438c56-3d98-49e6-bc4c-f6d361234d7d",
   "metadata": {},
   "source": [
    "## 8. Predecir con nuevos registros"
   ]
  },
  {
   "cell_type": "code",
   "execution_count": 62,
   "id": "424f138f-67c9-40fa-9c0e-dd3c95cdbd16",
   "metadata": {},
   "outputs": [
    {
     "name": "stdout",
     "output_type": "stream",
     "text": [
      "El peso de la esecie X-new es:  [43.84571784]\n"
     ]
    },
    {
     "name": "stderr",
     "output_type": "stream",
     "text": [
      "C:\\ProgramData\\anaconda3\\Lib\\site-packages\\sklearn\\base.py:439: UserWarning: X does not have valid feature names, but MLPRegressor was fitted with feature names\n",
      "  warnings.warn(\n"
     ]
    }
   ],
   "source": [
    "# Predecir cual será el peso de una nueva especie X_new\n",
    "# X2 = df[['especie', 'sexo', 'tamaño_pata']]\n",
    "\n",
    "X_new = np.array([[11, 0, 25]])\n",
    "Prediccion = NN.predict(X_new)\n",
    "\n",
    "print('El peso de la esecie X-new es: ', Prediccion)"
   ]
  },
  {
   "cell_type": "code",
   "execution_count": null,
   "id": "3a86f565-c518-4f4d-8161-ba570c68f06c",
   "metadata": {},
   "outputs": [],
   "source": []
  }
 ],
 "metadata": {
  "kernelspec": {
   "display_name": "Python 3 (ipykernel)",
   "language": "python",
   "name": "python3"
  },
  "language_info": {
   "codemirror_mode": {
    "name": "ipython",
    "version": 3
   },
   "file_extension": ".py",
   "mimetype": "text/x-python",
   "name": "python",
   "nbconvert_exporter": "python",
   "pygments_lexer": "ipython3",
   "version": "3.11.7"
  }
 },
 "nbformat": 4,
 "nbformat_minor": 5
}
