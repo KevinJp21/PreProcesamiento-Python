{
 "cells": [
  {
   "cell_type": "markdown",
   "metadata": {
    "id": "i7AKTtvrx30B"
   },
   "source": [
    "# Kevin julio, Jesus gimenez y jose pertuz\n",
    "# Taller 2: Modelos de regresión y Clasificación\n",
    "\n",
    "\n",
    "**Objetivo:** Dar cuenta de las competencias adquiridas en el uso y análisis de modelos de regresión y clasificación\n",
    "\n",
    " \n",
    "\n",
    "**Descripción:** Para la realización del trabajo cada equipo debe seleccionar una base de datos de las incluidas en la lista acorde a la tarea que se desarrolla (una para regresión y una para clasificación). \n",
    "\n",
    "Realice los pasos descritos a continuación:\n",
    "\n",
    "**General**\n",
    "\n",
    "1.       Realice procesos de carga, selección y renombre de variables para cada una de las bases de datos seleccionadas. La última columna equivale a la variable respuesta, las columnas restantes son variables explicativas.\n",
    "\n",
    "2.       Realice procesos de limpieza de datos, si es necesario. (Criterios a seguir: Si menos del 15% son perdidos elimine registros, si más del 80% son perdidos elimine columna, Si entre 15% y 80% son perdidos sustituya valores).\n",
    "\n",
    "3.       Realice procesos de transformación de variables categóricas a numéricas, si es necesario.\n",
    "\n",
    "**Parte 1: Modelos de regresión**\n",
    "\n",
    "4.       Construya matriz de correlación y decida sobre las variables explicativas. Realice un corto análisis de la selección de variables.\n",
    "\n",
    "5.       Realice partición del conjunto de datos. Utilice como criterio 80-20.\n",
    "\n",
    "6.       Construya modelos de regresión lineal simple, regresión lineal múltiple y redes neuronales, eligiendo en cada caso la combinación que mejor se ajuste a los datos. Esto es, por ejemplo: para la regresión lineal simple debe elegir la variable explicativa que mejor precisión ofrezca, para esto realice todas las pruebas pertinentes.\n",
    "\n",
    "Calcule precisión de cada uno de los modelos. Realice un corto análisis de la precisión.\n",
    "\n",
    "**Parte 2: Modelos de clasificación**\n",
    "\n",
    "7.       Construya tres (3) modelos de clasificación diferentes que permitan dar cuenta de su comparación, eligiendo en cada caso la combinación que mejor se ajuste a los datos. Escriba un análisis comparativo de los modelos.\n",
    "\n",
    "8.   Calcule 3 diferentes medidas de desempeño para cada modelo y compare resultados. . Realice un corto análisis de las medidas de desempeño.\n",
    "\n",
    "9.   Calcule para el mejor modelo 3 predicciones. Realice un corto análisis de resultados\n",
    "\n",
    "10. Genere un archivo ipynb y súbalo como resultado del trabajo."
   ]
  },
  {
   "cell_type": "markdown",
   "metadata": {
    "id": "KnwgAHcEzEXE"
   },
   "source": [
    "##Integrates del Equipo\n",
    "\n",
    "-----\n",
    "\n",
    "Liste aquí los integrantes\n",
    "\n",
    "------"
   ]
  },
  {
   "cell_type": "markdown",
   "metadata": {
    "id": "iWnkm0dl_m6t"
   },
   "source": [
    "# General"
   ]
  },
  {
   "cell_type": "markdown",
   "metadata": {
    "id": "6pP9Li3FzPRb"
   },
   "source": [
    "## Importar librerias"
   ]
  },
  {
   "cell_type": "code",
   "execution_count": 1,
   "metadata": {
    "id": "OlF-ecSSzV9b"
   },
   "outputs": [],
   "source": [
    "# Cargar librerias\n",
    "import numpy as np\n",
    "import pandas as pd\n",
    "import seaborn as sns\n",
    "import matplotlib.pyplot as plt\n",
    "from sklearn import preprocessing #para limpieza\n",
    "from sklearn.preprocessing import LabelEncoder # Para la transformacion\n",
    "from sklearn import linear_model  #para regresión lineal\n",
    "from sklearn.model_selection import train_test_split # Para particionar el conjunto de datos\n",
    "from sklearn import tree #Para el modelo del arbol de desición\n",
    "from sklearn.linear_model import LogisticRegressionCV #Para modelo de regresion logistica\n",
    "from sklearn.neighbors import KNeighborsClassifier #Para modelo KNN\n",
    "from sklearn.neural_network import MLPClassifier #Para modelo de red neuronal\n",
    "from sklearn.metrics import classification_report #Para el reporte de clasificacion\n",
    "from sklearn.neural_network import MLPRegressor #Para el procesamiento de la red neuronal"
   ]
  },
  {
   "cell_type": "markdown",
   "metadata": {
    "id": "1hfDp0N_zg0D"
   },
   "source": [
    "## 1. Carga, selección y renombre de datos"
   ]
  },
  {
   "cell_type": "code",
   "execution_count": 2,
   "metadata": {
    "id": "QgQxJo_d9q1c"
   },
   "outputs": [
    {
     "data": {
      "text/html": [
       "<div>\n",
       "<style scoped>\n",
       "    .dataframe tbody tr th:only-of-type {\n",
       "        vertical-align: middle;\n",
       "    }\n",
       "\n",
       "    .dataframe tbody tr th {\n",
       "        vertical-align: top;\n",
       "    }\n",
       "\n",
       "    .dataframe thead th {\n",
       "        text-align: right;\n",
       "    }\n",
       "</style>\n",
       "<table border=\"1\" class=\"dataframe\">\n",
       "  <thead>\n",
       "    <tr style=\"text-align: right;\">\n",
       "      <th></th>\n",
       "      <th>price</th>\n",
       "      <th>area</th>\n",
       "      <th>bedrooms</th>\n",
       "      <th>bathrooms</th>\n",
       "      <th>stories</th>\n",
       "      <th>mainroad</th>\n",
       "      <th>guestroom</th>\n",
       "      <th>basement</th>\n",
       "      <th>hotwaterheating</th>\n",
       "      <th>airconditioning</th>\n",
       "      <th>parking</th>\n",
       "      <th>prefarea</th>\n",
       "      <th>furnishingstatus</th>\n",
       "    </tr>\n",
       "  </thead>\n",
       "  <tbody>\n",
       "    <tr>\n",
       "      <th>0</th>\n",
       "      <td>13300000</td>\n",
       "      <td>7420</td>\n",
       "      <td>4</td>\n",
       "      <td>2</td>\n",
       "      <td>3</td>\n",
       "      <td>yes</td>\n",
       "      <td>no</td>\n",
       "      <td>no</td>\n",
       "      <td>no</td>\n",
       "      <td>yes</td>\n",
       "      <td>2</td>\n",
       "      <td>yes</td>\n",
       "      <td>furnished</td>\n",
       "    </tr>\n",
       "    <tr>\n",
       "      <th>1</th>\n",
       "      <td>12250000</td>\n",
       "      <td>8960</td>\n",
       "      <td>4</td>\n",
       "      <td>4</td>\n",
       "      <td>4</td>\n",
       "      <td>yes</td>\n",
       "      <td>no</td>\n",
       "      <td>no</td>\n",
       "      <td>no</td>\n",
       "      <td>yes</td>\n",
       "      <td>3</td>\n",
       "      <td>no</td>\n",
       "      <td>furnished</td>\n",
       "    </tr>\n",
       "    <tr>\n",
       "      <th>2</th>\n",
       "      <td>12250000</td>\n",
       "      <td>9960</td>\n",
       "      <td>3</td>\n",
       "      <td>2</td>\n",
       "      <td>2</td>\n",
       "      <td>yes</td>\n",
       "      <td>no</td>\n",
       "      <td>yes</td>\n",
       "      <td>no</td>\n",
       "      <td>no</td>\n",
       "      <td>2</td>\n",
       "      <td>yes</td>\n",
       "      <td>semi-furnished</td>\n",
       "    </tr>\n",
       "    <tr>\n",
       "      <th>3</th>\n",
       "      <td>12215000</td>\n",
       "      <td>7500</td>\n",
       "      <td>4</td>\n",
       "      <td>2</td>\n",
       "      <td>2</td>\n",
       "      <td>yes</td>\n",
       "      <td>no</td>\n",
       "      <td>yes</td>\n",
       "      <td>no</td>\n",
       "      <td>yes</td>\n",
       "      <td>3</td>\n",
       "      <td>yes</td>\n",
       "      <td>furnished</td>\n",
       "    </tr>\n",
       "    <tr>\n",
       "      <th>4</th>\n",
       "      <td>11410000</td>\n",
       "      <td>7420</td>\n",
       "      <td>4</td>\n",
       "      <td>1</td>\n",
       "      <td>2</td>\n",
       "      <td>yes</td>\n",
       "      <td>yes</td>\n",
       "      <td>yes</td>\n",
       "      <td>no</td>\n",
       "      <td>yes</td>\n",
       "      <td>2</td>\n",
       "      <td>no</td>\n",
       "      <td>furnished</td>\n",
       "    </tr>\n",
       "  </tbody>\n",
       "</table>\n",
       "</div>"
      ],
      "text/plain": [
       "      price  area  bedrooms  bathrooms  stories mainroad guestroom basement  \\\n",
       "0  13300000  7420         4          2        3      yes        no       no   \n",
       "1  12250000  8960         4          4        4      yes        no       no   \n",
       "2  12250000  9960         3          2        2      yes        no      yes   \n",
       "3  12215000  7500         4          2        2      yes        no      yes   \n",
       "4  11410000  7420         4          1        2      yes       yes      yes   \n",
       "\n",
       "  hotwaterheating airconditioning  parking prefarea furnishingstatus  \n",
       "0              no             yes        2      yes        furnished  \n",
       "1              no             yes        3       no        furnished  \n",
       "2              no              no        2      yes   semi-furnished  \n",
       "3              no             yes        3      yes        furnished  \n",
       "4              no             yes        2       no        furnished  "
      ]
     },
     "execution_count": 2,
     "metadata": {},
     "output_type": "execute_result"
    }
   ],
   "source": [
    "#Cargue BD para modelos de regresión\n",
    "df_reg = pd.read_csv('BD/Housing.csv')\n",
    "df_reg.head()"
   ]
  },
  {
   "cell_type": "code",
   "execution_count": 3,
   "metadata": {
    "id": "uafpyr349zw0"
   },
   "outputs": [
    {
     "data": {
      "text/html": [
       "<div>\n",
       "<style scoped>\n",
       "    .dataframe tbody tr th:only-of-type {\n",
       "        vertical-align: middle;\n",
       "    }\n",
       "\n",
       "    .dataframe tbody tr th {\n",
       "        vertical-align: top;\n",
       "    }\n",
       "\n",
       "    .dataframe thead th {\n",
       "        text-align: right;\n",
       "    }\n",
       "</style>\n",
       "<table border=\"1\" class=\"dataframe\">\n",
       "  <thead>\n",
       "    <tr style=\"text-align: right;\">\n",
       "      <th></th>\n",
       "      <th>Temperature (K)</th>\n",
       "      <th>Luminosity(L/Lo)</th>\n",
       "      <th>Radius(R/Ro)</th>\n",
       "      <th>Absolute magnitude(Mv)</th>\n",
       "      <th>Star type</th>\n",
       "      <th>Star color</th>\n",
       "      <th>Spectral Class</th>\n",
       "    </tr>\n",
       "  </thead>\n",
       "  <tbody>\n",
       "    <tr>\n",
       "      <th>0</th>\n",
       "      <td>3068</td>\n",
       "      <td>0.002400</td>\n",
       "      <td>0.1700</td>\n",
       "      <td>16.12</td>\n",
       "      <td>0</td>\n",
       "      <td>Red</td>\n",
       "      <td>M</td>\n",
       "    </tr>\n",
       "    <tr>\n",
       "      <th>1</th>\n",
       "      <td>3042</td>\n",
       "      <td>0.000500</td>\n",
       "      <td>0.1542</td>\n",
       "      <td>16.60</td>\n",
       "      <td>0</td>\n",
       "      <td>Red</td>\n",
       "      <td>M</td>\n",
       "    </tr>\n",
       "    <tr>\n",
       "      <th>2</th>\n",
       "      <td>2600</td>\n",
       "      <td>0.000300</td>\n",
       "      <td>0.1020</td>\n",
       "      <td>18.70</td>\n",
       "      <td>0</td>\n",
       "      <td>Red</td>\n",
       "      <td>M</td>\n",
       "    </tr>\n",
       "    <tr>\n",
       "      <th>3</th>\n",
       "      <td>2800</td>\n",
       "      <td>0.000200</td>\n",
       "      <td>0.1600</td>\n",
       "      <td>16.65</td>\n",
       "      <td>0</td>\n",
       "      <td>Red</td>\n",
       "      <td>M</td>\n",
       "    </tr>\n",
       "    <tr>\n",
       "      <th>4</th>\n",
       "      <td>1939</td>\n",
       "      <td>0.000138</td>\n",
       "      <td>0.1030</td>\n",
       "      <td>20.06</td>\n",
       "      <td>0</td>\n",
       "      <td>Red</td>\n",
       "      <td>M</td>\n",
       "    </tr>\n",
       "  </tbody>\n",
       "</table>\n",
       "</div>"
      ],
      "text/plain": [
       "   Temperature (K)  Luminosity(L/Lo)  Radius(R/Ro)  Absolute magnitude(Mv)  \\\n",
       "0             3068          0.002400        0.1700                   16.12   \n",
       "1             3042          0.000500        0.1542                   16.60   \n",
       "2             2600          0.000300        0.1020                   18.70   \n",
       "3             2800          0.000200        0.1600                   16.65   \n",
       "4             1939          0.000138        0.1030                   20.06   \n",
       "\n",
       "   Star type Star color Spectral Class  \n",
       "0          0        Red              M  \n",
       "1          0        Red              M  \n",
       "2          0        Red              M  \n",
       "3          0        Red              M  \n",
       "4          0        Red              M  "
      ]
     },
     "execution_count": 3,
     "metadata": {},
     "output_type": "execute_result"
    }
   ],
   "source": [
    "#Cargue BD para modelos de clasificación\n",
    "df_clas = pd.read_csv('BD/6 class csv.csv')\n",
    "df_clas.head()\n",
    "\n",
    "###-----"
   ]
  },
  {
   "cell_type": "code",
   "execution_count": 4,
   "metadata": {
    "id": "nEoeW5CN-LKQ"
   },
   "outputs": [
    {
     "data": {
      "text/html": [
       "<div>\n",
       "<style scoped>\n",
       "    .dataframe tbody tr th:only-of-type {\n",
       "        vertical-align: middle;\n",
       "    }\n",
       "\n",
       "    .dataframe tbody tr th {\n",
       "        vertical-align: top;\n",
       "    }\n",
       "\n",
       "    .dataframe thead th {\n",
       "        text-align: right;\n",
       "    }\n",
       "</style>\n",
       "<table border=\"1\" class=\"dataframe\">\n",
       "  <thead>\n",
       "    <tr style=\"text-align: right;\">\n",
       "      <th></th>\n",
       "      <th>precio</th>\n",
       "      <th>area</th>\n",
       "      <th>dormitorios</th>\n",
       "      <th>baños</th>\n",
       "      <th>pisos</th>\n",
       "      <th>carretera_principal</th>\n",
       "      <th>aire_acondicionado</th>\n",
       "      <th>estacionamiento</th>\n",
       "    </tr>\n",
       "  </thead>\n",
       "  <tbody>\n",
       "    <tr>\n",
       "      <th>0</th>\n",
       "      <td>13300000</td>\n",
       "      <td>7420</td>\n",
       "      <td>4</td>\n",
       "      <td>2</td>\n",
       "      <td>3</td>\n",
       "      <td>yes</td>\n",
       "      <td>yes</td>\n",
       "      <td>2</td>\n",
       "    </tr>\n",
       "    <tr>\n",
       "      <th>1</th>\n",
       "      <td>12250000</td>\n",
       "      <td>8960</td>\n",
       "      <td>4</td>\n",
       "      <td>4</td>\n",
       "      <td>4</td>\n",
       "      <td>yes</td>\n",
       "      <td>yes</td>\n",
       "      <td>3</td>\n",
       "    </tr>\n",
       "    <tr>\n",
       "      <th>2</th>\n",
       "      <td>12250000</td>\n",
       "      <td>9960</td>\n",
       "      <td>3</td>\n",
       "      <td>2</td>\n",
       "      <td>2</td>\n",
       "      <td>yes</td>\n",
       "      <td>no</td>\n",
       "      <td>2</td>\n",
       "    </tr>\n",
       "    <tr>\n",
       "      <th>3</th>\n",
       "      <td>12215000</td>\n",
       "      <td>7500</td>\n",
       "      <td>4</td>\n",
       "      <td>2</td>\n",
       "      <td>2</td>\n",
       "      <td>yes</td>\n",
       "      <td>yes</td>\n",
       "      <td>3</td>\n",
       "    </tr>\n",
       "    <tr>\n",
       "      <th>4</th>\n",
       "      <td>11410000</td>\n",
       "      <td>7420</td>\n",
       "      <td>4</td>\n",
       "      <td>1</td>\n",
       "      <td>2</td>\n",
       "      <td>yes</td>\n",
       "      <td>yes</td>\n",
       "      <td>2</td>\n",
       "    </tr>\n",
       "  </tbody>\n",
       "</table>\n",
       "</div>"
      ],
      "text/plain": [
       "     precio  area  dormitorios  baños  pisos carretera_principal  \\\n",
       "0  13300000  7420            4      2      3                 yes   \n",
       "1  12250000  8960            4      4      4                 yes   \n",
       "2  12250000  9960            3      2      2                 yes   \n",
       "3  12215000  7500            4      2      2                 yes   \n",
       "4  11410000  7420            4      1      2                 yes   \n",
       "\n",
       "  aire_acondicionado  estacionamiento  \n",
       "0                yes                2  \n",
       "1                yes                3  \n",
       "2                 no                2  \n",
       "3                yes                3  \n",
       "4                yes                2  "
      ]
     },
     "execution_count": 4,
     "metadata": {},
     "output_type": "execute_result"
    }
   ],
   "source": [
    "#Incluya aquí código de Selección de variables dependiente e independiente\n",
    "\n",
    "\n",
    "# Para modelos de regresión\n",
    "df_reg = df_reg[['price', 'area', 'bedrooms', 'bathrooms', 'stories', 'mainroad', 'airconditioning', 'parking']]\n",
    "df_reg.columns = [\n",
    "    'precio', \n",
    "    'area', \n",
    "    'dormitorios', \n",
    "    'baños', \n",
    "    'pisos', \n",
    "    'carretera_principal', \n",
    "    'aire_acondicionado', \n",
    "    'estacionamiento']\n",
    "df_reg.head()"
   ]
  },
  {
   "cell_type": "code",
   "execution_count": 5,
   "metadata": {
    "id": "MYv-ODbzz-1u"
   },
   "outputs": [
    {
     "data": {
      "text/html": [
       "<div>\n",
       "<style scoped>\n",
       "    .dataframe tbody tr th:only-of-type {\n",
       "        vertical-align: middle;\n",
       "    }\n",
       "\n",
       "    .dataframe tbody tr th {\n",
       "        vertical-align: top;\n",
       "    }\n",
       "\n",
       "    .dataframe thead th {\n",
       "        text-align: right;\n",
       "    }\n",
       "</style>\n",
       "<table border=\"1\" class=\"dataframe\">\n",
       "  <thead>\n",
       "    <tr style=\"text-align: right;\">\n",
       "      <th></th>\n",
       "      <th>Temperatura (K)</th>\n",
       "      <th>Luminosidad (L/Lo)</th>\n",
       "      <th>Radio (R/Ro)</th>\n",
       "      <th>Magnitud Absoluta (Mv)</th>\n",
       "      <th>Tipo de Estrella</th>\n",
       "      <th>Color de la Estrella</th>\n",
       "      <th>Clase Espectral</th>\n",
       "    </tr>\n",
       "  </thead>\n",
       "  <tbody>\n",
       "    <tr>\n",
       "      <th>0</th>\n",
       "      <td>3068</td>\n",
       "      <td>0.002400</td>\n",
       "      <td>0.1700</td>\n",
       "      <td>16.12</td>\n",
       "      <td>0</td>\n",
       "      <td>Red</td>\n",
       "      <td>M</td>\n",
       "    </tr>\n",
       "    <tr>\n",
       "      <th>1</th>\n",
       "      <td>3042</td>\n",
       "      <td>0.000500</td>\n",
       "      <td>0.1542</td>\n",
       "      <td>16.60</td>\n",
       "      <td>0</td>\n",
       "      <td>Red</td>\n",
       "      <td>M</td>\n",
       "    </tr>\n",
       "    <tr>\n",
       "      <th>2</th>\n",
       "      <td>2600</td>\n",
       "      <td>0.000300</td>\n",
       "      <td>0.1020</td>\n",
       "      <td>18.70</td>\n",
       "      <td>0</td>\n",
       "      <td>Red</td>\n",
       "      <td>M</td>\n",
       "    </tr>\n",
       "    <tr>\n",
       "      <th>3</th>\n",
       "      <td>2800</td>\n",
       "      <td>0.000200</td>\n",
       "      <td>0.1600</td>\n",
       "      <td>16.65</td>\n",
       "      <td>0</td>\n",
       "      <td>Red</td>\n",
       "      <td>M</td>\n",
       "    </tr>\n",
       "    <tr>\n",
       "      <th>4</th>\n",
       "      <td>1939</td>\n",
       "      <td>0.000138</td>\n",
       "      <td>0.1030</td>\n",
       "      <td>20.06</td>\n",
       "      <td>0</td>\n",
       "      <td>Red</td>\n",
       "      <td>M</td>\n",
       "    </tr>\n",
       "  </tbody>\n",
       "</table>\n",
       "</div>"
      ],
      "text/plain": [
       "   Temperatura (K)  Luminosidad (L/Lo)  Radio (R/Ro)  Magnitud Absoluta (Mv)  \\\n",
       "0             3068            0.002400        0.1700                   16.12   \n",
       "1             3042            0.000500        0.1542                   16.60   \n",
       "2             2600            0.000300        0.1020                   18.70   \n",
       "3             2800            0.000200        0.1600                   16.65   \n",
       "4             1939            0.000138        0.1030                   20.06   \n",
       "\n",
       "   Tipo de Estrella Color de la Estrella Clase Espectral  \n",
       "0                 0                  Red               M  \n",
       "1                 0                  Red               M  \n",
       "2                 0                  Red               M  \n",
       "3                 0                  Red               M  \n",
       "4                 0                  Red               M  "
      ]
     },
     "execution_count": 5,
     "metadata": {},
     "output_type": "execute_result"
    }
   ],
   "source": [
    "# Para modelos de clasificación\n",
    "df_class = df_clas[['Temperature (K)', 'Luminosity(L/Lo)', 'Radius(R/Ro)', 'Absolute magnitude(Mv)', 'Star type', 'Star color', 'Spectral Class']]\n",
    "\n",
    "# Renombre de datos\n",
    "df_clas.columns = ['Temperatura (K)', 'Luminosidad (L/Lo)', 'Radio (R/Ro)', 'Magnitud Absoluta (Mv)', 'Tipo de Estrella', 'Color de la Estrella', 'Clase Espectral']\n",
    "df_clas.head()"
   ]
  },
  {
   "cell_type": "markdown",
   "metadata": {
    "id": "WsFTQ9yh0EZ4"
   },
   "source": [
    "## 2. Limpieza de Datos (Si es necesario)\n",
    "\n",
    "Realice procesos de limpieza de datos, si es necesario.\n",
    "\n",
    "\n",
    "\n",
    "Criterios a seguir:\n",
    "\n",
    "\n",
    "*   Si menos del 15% de datos de la variable son perdidos elimine registros,\n",
    "*   Si más del 80% de datos de la variable son perdidos elimine columna,\n",
    "* Si entre 15% y 80% de datos de la variable son pérdidos sustituya valores.\n",
    "\n",
    "\n",
    "\n",
    "\n"
   ]
  },
  {
   "cell_type": "code",
   "execution_count": 6,
   "metadata": {
    "id": "WuNF7v8R-hy-"
   },
   "outputs": [
    {
     "data": {
      "text/plain": [
       "precio                 False\n",
       "area                   False\n",
       "dormitorios            False\n",
       "baños                  False\n",
       "pisos                  False\n",
       "carretera_principal    False\n",
       "aire_acondicionado     False\n",
       "estacionamiento        False\n",
       "dtype: bool"
      ]
     },
     "execution_count": 6,
     "metadata": {},
     "output_type": "execute_result"
    }
   ],
   "source": [
    "#consulta de datos perdidos por variable\n",
    "df_reg.isnull().any()\n"
   ]
  },
  {
   "cell_type": "code",
   "execution_count": 7,
   "metadata": {},
   "outputs": [
    {
     "data": {
      "text/plain": [
       "Temperatura (K)           False\n",
       "Luminosidad (L/Lo)        False\n",
       "Radio (R/Ro)              False\n",
       "Magnitud Absoluta (Mv)    False\n",
       "Tipo de Estrella          False\n",
       "Color de la Estrella      False\n",
       "Clase Espectral           False\n",
       "dtype: bool"
      ]
     },
     "execution_count": 7,
     "metadata": {},
     "output_type": "execute_result"
    }
   ],
   "source": [
    "df_clas.isnull().any()"
   ]
  },
  {
   "cell_type": "code",
   "execution_count": 8,
   "metadata": {
    "id": "TBaSc8_t-h9v"
   },
   "outputs": [
    {
     "data": {
      "text/plain": [
       "precio                 0\n",
       "area                   0\n",
       "dormitorios            0\n",
       "baños                  0\n",
       "pisos                  0\n",
       "carretera_principal    0\n",
       "aire_acondicionado     0\n",
       "estacionamiento        0\n",
       "dtype: int64"
      ]
     },
     "execution_count": 8,
     "metadata": {},
     "output_type": "execute_result"
    }
   ],
   "source": [
    "#consulta cantidad de datos perdidos por variable \n",
    "df_reg.isnull().sum()\n"
   ]
  },
  {
   "cell_type": "code",
   "execution_count": 9,
   "metadata": {},
   "outputs": [
    {
     "data": {
      "text/plain": [
       "Temperatura (K)           False\n",
       "Luminosidad (L/Lo)        False\n",
       "Radio (R/Ro)              False\n",
       "Magnitud Absoluta (Mv)    False\n",
       "Tipo de Estrella          False\n",
       "Color de la Estrella      False\n",
       "Clase Espectral           False\n",
       "dtype: bool"
      ]
     },
     "execution_count": 9,
     "metadata": {},
     "output_type": "execute_result"
    }
   ],
   "source": [
    "df_clas.isnull().any()"
   ]
  },
  {
   "cell_type": "markdown",
   "metadata": {
    "id": "Mdze-0Ws0n__"
   },
   "source": [
    "Incluya en este espacio una justificación de procesos de limpieza de cada variable explicativa\n",
    "\n",
    "-----\n",
    " \n",
    " No se encontraron datos perdidos en ambas basees de datos\n",
    "\n",
    " -----\n"
   ]
  },
  {
   "cell_type": "markdown",
   "metadata": {
    "id": "KJdBDXEv0tT4"
   },
   "source": [
    "## 3. Transformación de variables categóricas a numéricas (Si es necesario)\n",
    "\n",
    "Realice procesos de transformación de variables categóricas a numéricas usando la función LabelEncoder."
   ]
  },
  {
   "cell_type": "code",
   "execution_count": 10,
   "metadata": {
    "id": "YRJQZPsN-26K"
   },
   "outputs": [
    {
     "data": {
      "text/plain": [
       "precio                  int64\n",
       "area                    int64\n",
       "dormitorios             int64\n",
       "baños                   int64\n",
       "pisos                   int64\n",
       "carretera_principal    object\n",
       "aire_acondicionado     object\n",
       "estacionamiento         int64\n",
       "dtype: object"
      ]
     },
     "execution_count": 10,
     "metadata": {},
     "output_type": "execute_result"
    }
   ],
   "source": [
    "#Consulta de tipo de datos de cada variable\n",
    "\n",
    "# Para BD de regresión\n",
    "df_reg.dtypes "
   ]
  },
  {
   "cell_type": "code",
   "execution_count": 11,
   "metadata": {
    "id": "V6UA4xzI_Bev"
   },
   "outputs": [
    {
     "data": {
      "text/plain": [
       "Temperatura (K)             int64\n",
       "Luminosidad (L/Lo)        float64\n",
       "Radio (R/Ro)              float64\n",
       "Magnitud Absoluta (Mv)    float64\n",
       "Tipo de Estrella            int64\n",
       "Color de la Estrella       object\n",
       "Clase Espectral            object\n",
       "dtype: object"
      ]
     },
     "execution_count": 11,
     "metadata": {},
     "output_type": "execute_result"
    }
   ],
   "source": [
    "# Para BD de clasificación\n",
    "df_clas.dtypes"
   ]
  },
  {
   "cell_type": "code",
   "execution_count": 12,
   "metadata": {
    "id": "mINPrcUV02hB"
   },
   "outputs": [
    {
     "data": {
      "text/html": [
       "<div>\n",
       "<style scoped>\n",
       "    .dataframe tbody tr th:only-of-type {\n",
       "        vertical-align: middle;\n",
       "    }\n",
       "\n",
       "    .dataframe tbody tr th {\n",
       "        vertical-align: top;\n",
       "    }\n",
       "\n",
       "    .dataframe thead th {\n",
       "        text-align: right;\n",
       "    }\n",
       "</style>\n",
       "<table border=\"1\" class=\"dataframe\">\n",
       "  <thead>\n",
       "    <tr style=\"text-align: right;\">\n",
       "      <th></th>\n",
       "      <th>precio</th>\n",
       "      <th>area</th>\n",
       "      <th>dormitorios</th>\n",
       "      <th>baños</th>\n",
       "      <th>pisos</th>\n",
       "      <th>carretera_principal</th>\n",
       "      <th>aire_acondicionado</th>\n",
       "      <th>estacionamiento</th>\n",
       "    </tr>\n",
       "  </thead>\n",
       "  <tbody>\n",
       "    <tr>\n",
       "      <th>0</th>\n",
       "      <td>13300000</td>\n",
       "      <td>7420</td>\n",
       "      <td>4</td>\n",
       "      <td>2</td>\n",
       "      <td>3</td>\n",
       "      <td>1</td>\n",
       "      <td>1</td>\n",
       "      <td>2</td>\n",
       "    </tr>\n",
       "    <tr>\n",
       "      <th>1</th>\n",
       "      <td>12250000</td>\n",
       "      <td>8960</td>\n",
       "      <td>4</td>\n",
       "      <td>4</td>\n",
       "      <td>4</td>\n",
       "      <td>1</td>\n",
       "      <td>1</td>\n",
       "      <td>3</td>\n",
       "    </tr>\n",
       "    <tr>\n",
       "      <th>2</th>\n",
       "      <td>12250000</td>\n",
       "      <td>9960</td>\n",
       "      <td>3</td>\n",
       "      <td>2</td>\n",
       "      <td>2</td>\n",
       "      <td>1</td>\n",
       "      <td>0</td>\n",
       "      <td>2</td>\n",
       "    </tr>\n",
       "    <tr>\n",
       "      <th>3</th>\n",
       "      <td>12215000</td>\n",
       "      <td>7500</td>\n",
       "      <td>4</td>\n",
       "      <td>2</td>\n",
       "      <td>2</td>\n",
       "      <td>1</td>\n",
       "      <td>1</td>\n",
       "      <td>3</td>\n",
       "    </tr>\n",
       "    <tr>\n",
       "      <th>4</th>\n",
       "      <td>11410000</td>\n",
       "      <td>7420</td>\n",
       "      <td>4</td>\n",
       "      <td>1</td>\n",
       "      <td>2</td>\n",
       "      <td>1</td>\n",
       "      <td>1</td>\n",
       "      <td>2</td>\n",
       "    </tr>\n",
       "  </tbody>\n",
       "</table>\n",
       "</div>"
      ],
      "text/plain": [
       "     precio  area  dormitorios  baños  pisos  carretera_principal  \\\n",
       "0  13300000  7420            4      2      3                    1   \n",
       "1  12250000  8960            4      4      4                    1   \n",
       "2  12250000  9960            3      2      2                    1   \n",
       "3  12215000  7500            4      2      2                    1   \n",
       "4  11410000  7420            4      1      2                    1   \n",
       "\n",
       "   aire_acondicionado  estacionamiento  \n",
       "0                   1                2  \n",
       "1                   1                3  \n",
       "2                   0                2  \n",
       "3                   1                3  \n",
       "4                   1                2  "
      ]
     },
     "execution_count": 12,
     "metadata": {},
     "output_type": "execute_result"
    }
   ],
   "source": [
    "# incluya aqui proceso de tranformación de variables\n",
    "\n",
    "encoder = LabelEncoder()\n",
    "#Transformación de variables regresión\n",
    "Objlist = df_reg.select_dtypes(include = ('object', 'bool')).columns\n",
    "\n",
    "for feat in Objlist:\n",
    "    df_reg[feat] = encoder.fit_transform(df_reg[feat].astype(str))\n",
    "\n",
    "df_reg.head()"
   ]
  },
  {
   "cell_type": "code",
   "execution_count": 13,
   "metadata": {},
   "outputs": [
    {
     "data": {
      "text/html": [
       "<div>\n",
       "<style scoped>\n",
       "    .dataframe tbody tr th:only-of-type {\n",
       "        vertical-align: middle;\n",
       "    }\n",
       "\n",
       "    .dataframe tbody tr th {\n",
       "        vertical-align: top;\n",
       "    }\n",
       "\n",
       "    .dataframe thead th {\n",
       "        text-align: right;\n",
       "    }\n",
       "</style>\n",
       "<table border=\"1\" class=\"dataframe\">\n",
       "  <thead>\n",
       "    <tr style=\"text-align: right;\">\n",
       "      <th></th>\n",
       "      <th>Temperatura (K)</th>\n",
       "      <th>Luminosidad (L/Lo)</th>\n",
       "      <th>Radio (R/Ro)</th>\n",
       "      <th>Magnitud Absoluta (Mv)</th>\n",
       "      <th>Tipo de Estrella</th>\n",
       "      <th>Color de la Estrella</th>\n",
       "      <th>Clase Espectral</th>\n",
       "    </tr>\n",
       "  </thead>\n",
       "  <tbody>\n",
       "    <tr>\n",
       "      <th>0</th>\n",
       "      <td>3068</td>\n",
       "      <td>0.002400</td>\n",
       "      <td>0.1700</td>\n",
       "      <td>16.12</td>\n",
       "      <td>0</td>\n",
       "      <td>10</td>\n",
       "      <td>5</td>\n",
       "    </tr>\n",
       "    <tr>\n",
       "      <th>1</th>\n",
       "      <td>3042</td>\n",
       "      <td>0.000500</td>\n",
       "      <td>0.1542</td>\n",
       "      <td>16.60</td>\n",
       "      <td>0</td>\n",
       "      <td>10</td>\n",
       "      <td>5</td>\n",
       "    </tr>\n",
       "    <tr>\n",
       "      <th>2</th>\n",
       "      <td>2600</td>\n",
       "      <td>0.000300</td>\n",
       "      <td>0.1020</td>\n",
       "      <td>18.70</td>\n",
       "      <td>0</td>\n",
       "      <td>10</td>\n",
       "      <td>5</td>\n",
       "    </tr>\n",
       "    <tr>\n",
       "      <th>3</th>\n",
       "      <td>2800</td>\n",
       "      <td>0.000200</td>\n",
       "      <td>0.1600</td>\n",
       "      <td>16.65</td>\n",
       "      <td>0</td>\n",
       "      <td>10</td>\n",
       "      <td>5</td>\n",
       "    </tr>\n",
       "    <tr>\n",
       "      <th>4</th>\n",
       "      <td>1939</td>\n",
       "      <td>0.000138</td>\n",
       "      <td>0.1030</td>\n",
       "      <td>20.06</td>\n",
       "      <td>0</td>\n",
       "      <td>10</td>\n",
       "      <td>5</td>\n",
       "    </tr>\n",
       "  </tbody>\n",
       "</table>\n",
       "</div>"
      ],
      "text/plain": [
       "   Temperatura (K)  Luminosidad (L/Lo)  Radio (R/Ro)  Magnitud Absoluta (Mv)  \\\n",
       "0             3068            0.002400        0.1700                   16.12   \n",
       "1             3042            0.000500        0.1542                   16.60   \n",
       "2             2600            0.000300        0.1020                   18.70   \n",
       "3             2800            0.000200        0.1600                   16.65   \n",
       "4             1939            0.000138        0.1030                   20.06   \n",
       "\n",
       "   Tipo de Estrella  Color de la Estrella  Clase Espectral  \n",
       "0                 0                    10                5  \n",
       "1                 0                    10                5  \n",
       "2                 0                    10                5  \n",
       "3                 0                    10                5  \n",
       "4                 0                    10                5  "
      ]
     },
     "execution_count": 13,
     "metadata": {},
     "output_type": "execute_result"
    }
   ],
   "source": [
    "encoder = preprocessing.LabelEncoder()\n",
    "Objlist = df_clas.select_dtypes(include = ('object', 'bool')).columns\n",
    "\n",
    "for feat in Objlist:\n",
    "    df_clas[feat] = encoder.fit_transform(df_clas[feat].astype(str))\n",
    "\n",
    "df_clas.head()"
   ]
  },
  {
   "cell_type": "markdown",
   "metadata": {
    "id": "X_UT7-46_aQJ"
   },
   "source": [
    "# Parte 1 : Modelos de Regresión"
   ]
  },
  {
   "cell_type": "markdown",
   "metadata": {
    "id": "25tqkWXF1D6K"
   },
   "source": [
    "## 4. Matriz de correlación y selección de variables\n",
    "\n",
    "Construya matriz de correlación y decida sobre las variables explicativas. Realice un corto análisis de la selección de variables.\n"
   ]
  },
  {
   "cell_type": "code",
   "execution_count": 14,
   "metadata": {
    "id": "JQcgoy8X1Opb"
   },
   "outputs": [
    {
     "data": {
      "image/png": "[encoded data removed]",
      "text/plain": [
       "<Figure size 640x480 with 2 Axes>"
      ]
     },
     "metadata": {},
     "output_type": "display_data"
    }
   ],
   "source": [
    "# incluya código y gráfico de matriz de correlación\n",
    "\n",
    "correlation_mat = df_reg.corr()\n",
    "\n",
    "sns.heatmap(correlation_mat, annot = True)\n",
    "\n",
    "plt.show()"
   ]
  },
  {
   "cell_type": "markdown",
   "metadata": {
    "id": "7OBR0Kiw1SE8"
   },
   "source": [
    "### Analisis de las variables\n",
    "Se seleccionaron las variables que se pueden tomar en cuenta como minimo para comprar una casa.\n",
    "\n",
    "1. precio = precio de la casa.\n",
    "2. area = dimension de la casa.\n",
    "3. dormitorios = numero de habitaciones.\n",
    "4. baños = numero de baños.\n",
    "5. pisos = pisos de la casa.\n",
    "6. carretera_principal = si la casa se encuentra cerca carretera principal o si se encuentra apartada de la zona urbana.\n",
    "7. aire_acondicionado = si la casa cuenta con aire acondicionado\n",
    "8. estacionamiento = cantidad de estacionamientos de la casa\n",
    "\n",
    "### Analisis de correlacion entre variable precio\n",
    "\n",
    "1. Correlacion de 0.54 entre precio y área: Esto indica una correlacion positiva moderada. A medida que el area de las casas aumentan, el precio tiende a aumentar tambien.\n",
    "\n",
    "2. Correlacion de 0.52 entre precio y baños: Al igual que con el area, hay una correlacion positiva moderada entre el numero de baños y el precio. Las casas con más baños tienden a tener precios más altos.\n",
    "\n",
    "3. Correlacion de 0.45 entre precio y aire acondicionado: El valor de 0.45 no es tan alto, pero si es significativo, lo que indica que hay tendencia de que los precios sean mayores en las casas con aire acondicionado.\n",
    "\n",
    "4. Correlacion de 0.42 entre precio y pisos: Aunque la relación no es extremadamente fuerte, es significativa y sugiere que el número de pisos es un factor a considerar en la valoración de la propiedad.\n",
    "\n",
    "5. Tenemos otras variables que tambien influyen en el precio Correlacion como 0.37 entre precio y dormitorios, 0.38 entre precio y estacionamiento.\n",
    "\n",
    "Estas son correlaciones significativas, pero no perfectas, lo que significa que otros factores ademas del area,baños, aire_acondicionado, pisos tambien afectan en el precio.\n",
    "\n",
    "6. Correlacion de 0.37 entre dormitorios y baños: La correlación sugiere que, en general, a medida que aumenta el número de dormitorios en una casa, también tiende a incrementarse el número de baños.\n",
    "\n",
    "7. Correlacion de 0.41 entre dormitorios y pisos: La correlacion indica que hay una tendencia a que casas con más pisos también tengan más dormitorios. \n",
    "\n",
    "### Analisis general\n",
    "\n",
    "1. Área y Precio : La correlación más fuerte observada entre el precio y el área de la propiedad subraya la importancia primordial del espacio. Las casas más grandes suelen ser más caras, lo cual es consistente en casi todos los mercados inmobiliarios.\n",
    "\n",
    "2. Número de Baños y Pisos: El número de baños y pisos también están moderadamente correlacionados con el precio, lo que indica que las características que aumentan la funcionalidad y el atractivo de la vivienda (como más baños para acomodar a más residentes y múltiples pisos que proporcionan privacidad) son valoradas por los compradores.\n",
    "\n",
    "3. Aire Acondicionado: La correlación significativa entre el aire acondicionado y el precio refleja la demanda de comodidad en el hogar, especialmente en climas donde esto es esencial.\n",
    "\n",
    "4. Dormitorios, Baños y Pisos: Las correlaciones entre el número de dormitorios, baños y pisos sugieren que hay una tendencia en el diseño de las casas donde más dormitorios generalmente implican la necesidad de más baños y posiblemente más pisos, lo cual también aumenta el valor de la propiedad. Estas variables no solo afectan el precio por sí mismas, sino también a través de su interacción con otras características de la casa.\n",
    "\n",
    "\n",
    "\n"
   ]
  },
  {
   "cell_type": "markdown",
   "metadata": {
    "id": "ZNHUwlnn1Z16"
   },
   "source": [
    "## 5. Partición de conjuntos de datos"
   ]
  },
  {
   "cell_type": "code",
   "execution_count": 15,
   "metadata": {
    "id": "xVyCtN-t1kxc"
   },
   "outputs": [],
   "source": [
    "# Incluya código de partición del conjunto de datos de cada modelo de regresión y clasificación\n",
    "# Repita bloques de ser necesario, dando nombres adecuados a las variables\n",
    "\n",
    "# definir X y Y Regresion Simple\n",
    "X1=df_reg[['area']]\n",
    "y1=df_reg[['precio']]\n",
    "\n",
    "\n",
    "# Regresion multiple\n",
    "X2 = df_reg[['area', 'dormitorios', 'baños', 'pisos', 'carretera_principal', 'aire_acondicionado', 'estacionamiento']]\n",
    "y2 = df_reg[['precio']]\n",
    "\n",
    "#Separe los datos de \"train\" en entrenamiento y prueba para probar los algoritmos\n",
    "X1_train, x1_test, y1_train, y1_test = train_test_split(X1, y1, test_size = 0.2)\n",
    "\n",
    "X2_train, X2_test, y2_train, y2_test = train_test_split(X2, y2, test_size=0.2)\n",
    "\n"
   ]
  },
  {
   "cell_type": "code",
   "execution_count": 16,
   "metadata": {},
   "outputs": [],
   "source": [
    "### Modelo  de clasificacion\n",
    "Xc = df_clas[['Temperatura (K)', 'Luminosidad (L/Lo)', 'Radio (R/Ro)', 'Magnitud Absoluta (Mv)', 'Color de la Estrella', 'Clase Espectral']]\n",
    "yc = df_clas[['Tipo de Estrella']]\n",
    "\n",
    "# Separar los conjuntos en entrenamiento \"train\" y prueba \"test\"\n",
    "Xc_train, Xc_test, yc_train, yc_test = train_test_split(Xc, yc, test_size = 0.2)"
   ]
  },
  {
   "cell_type": "markdown",
   "metadata": {
    "id": "6_rYfbMY1rJl"
   },
   "source": [
    "## 6. Modelos de regresión\n",
    "\n",
    "Construya modelos de regresión lineal simple, regresión lineal múltiple y redes neuronales, eligiendo en cada caso la combinación que mejor se ajuste a los datos.\n",
    "\n",
    "Esto es, por ejemplo: para la regresión lineal simple debe elegir la variable explicativa que mejor precisión ofrezca, para esto realice todas las pruebas pertinentes.\n"
   ]
  },
  {
   "cell_type": "markdown",
   "metadata": {
    "id": "ZIR8TjvR12Ck"
   },
   "source": [
    "### Regresión lineal simple"
   ]
  },
  {
   "cell_type": "code",
   "execution_count": 17,
   "metadata": {
    "id": "zyZRzD-o18QN"
   },
   "outputs": [
    {
     "name": "stdout",
     "output_type": "stream",
     "text": [
      "Regresión Lineal Simple Precisión:  0.2555014272632051\n"
     ]
    }
   ],
   "source": [
    "#Modelo de regresión lineal simple\n",
    "\n",
    "#Defino el algoritmo a utilizar\n",
    "lrs = linear_model.LinearRegression()\n",
    "\n",
    "#Entreno el modelo\n",
    "lrs.fit(X1_train, y1_train)\n",
    "\n",
    "#Realizo una predicción\n",
    "Y_pred_lrs = lrs.predict(x1_test)\n",
    "\n",
    "#Calculo precisión del conjunto de prueba\n",
    "print(\"Regresión Lineal Simple Precisión: \", lrs.score(x1_test, y1_test))\n",
    "\n",
    "\n",
    "###-----\n",
    "\n"
   ]
  },
  {
   "cell_type": "markdown",
   "metadata": {},
   "source": [
    "### Analisis de modelo de regresión simple\n",
    "#### La precision de este modelo es de 0.2768 no es muy alto, lo que sugiere que el modelo puede no ser muy efectivo para predecir los precios de las propiedades únicamente basándose en su área."
   ]
  },
  {
   "cell_type": "markdown",
   "metadata": {
    "id": "YxHdIrLt2Ddl"
   },
   "source": [
    "### Regresión lineal múltiple"
   ]
  },
  {
   "cell_type": "code",
   "execution_count": 18,
   "metadata": {
    "id": "WNTeV6D72Guf"
   },
   "outputs": [
    {
     "name": "stdout",
     "output_type": "stream",
     "text": [
      "Regresión Lineal Múltiple Precisión:  0.6020663652111502\n"
     ]
    }
   ],
   "source": [
    "#Modelo de regresión lineal múltiple\n",
    "\n",
    "#Defino el algoritmo a utilizar\n",
    "lrm = linear_model.LinearRegression()\n",
    "\n",
    "#Entreno el modelo\n",
    "lrm.fit(X2_train, y2_train)\n",
    "\n",
    "#Realizo una predicción\n",
    "Y_pred_lrm = lrm.predict(X2_test)\n",
    "\n",
    "#Calculo precisión del conjunto de prueba\n",
    "print(\"Regresión Lineal Múltiple Precisión: \", lrm.score(X2_test, y2_test))\n",
    "\n",
    "\n",
    "###-----\n"
   ]
  },
  {
   "cell_type": "markdown",
   "metadata": {},
   "source": [
    "### Analisis de modelo de regresión multiple\n",
    "#### La precisión es de 0.5166, lo que significa que los precios de las propiedades puede ser explicada por las variables predictoras incluidas en el modelo (área, dormitorios, baños, pisos, carretera principal, aire acondicionado y estacionamiento). comparado don el modelo de regresion lineal simple este modelo tiene mayor precision al momento de predecir precios de las propiedades."
   ]
  },
  {
   "cell_type": "markdown",
   "metadata": {
    "id": "17LPhkKq2NGu"
   },
   "source": [
    "### Red Neuronal"
   ]
  },
  {
   "cell_type": "code",
   "execution_count": 19,
   "metadata": {
    "id": "p9-B5r2E2NjW"
   },
   "outputs": [
    {
     "name": "stderr",
     "output_type": "stream",
     "text": [
      "c:\\Users\\pinku\\AppData\\Local\\Programs\\Python\\Lib\\site-packages\\sklearn\\neural_network\\_multilayer_perceptron.py:1624: DataConversionWarning: A column-vector y was passed when a 1d array was expected. Please change the shape of y to (n_samples, ), for example using ravel().\n",
      "  y = column_or_1d(y, warn=True)\n"
     ]
    },
    {
     "name": "stdout",
     "output_type": "stream",
     "text": [
      "Red Neuronal Precisión:  0.14719868457058205\n"
     ]
    },
    {
     "name": "stderr",
     "output_type": "stream",
     "text": [
      "c:\\Users\\pinku\\AppData\\Local\\Programs\\Python\\Lib\\site-packages\\sklearn\\neural_network\\_multilayer_perceptron.py:691: ConvergenceWarning: Stochastic Optimizer: Maximum iterations (200) reached and the optimization hasn't converged yet.\n",
      "  warnings.warn(\n"
     ]
    }
   ],
   "source": [
    "#Modelo de red neuronal\n",
    "\n",
    "# Defino el algoritmo a utilizar\n",
    "NN = MLPRegressor(hidden_layer_sizes=(100,100))\n",
    "\n",
    "# Entreno el modelo\n",
    "NN.fit(X2_train, y2_train)\n",
    "\n",
    "# Realizo una predicción\n",
    "Y_pred_NN = NN.predict(X2_test)\n",
    "\n",
    "# Calculo precisión del conjunto de prueba\n",
    "print(\"Red Neuronal Precisión: \", NN.score(X2_test, y2_test))\n",
    "\n",
    "###-----X2_train, X2_test, y2_train, y2_test = train_test_split(X2, y2, test_size=0.2)\n"
   ]
  },
  {
   "cell_type": "markdown",
   "metadata": {
    "id": "CwoUxupGBQSm"
   },
   "source": [
    "### nalisis de Red neuronal\n",
    "#### La precisión de la red neuronal es de 0.00184877111479409, lo que indica que la capacidad de la red neuronal para predecir los precios de las propiedades es muy baja en comparación con los modelos de regresión lineal.\n",
    "\n",
    "------\n",
    "1. Regresion Lineal Simple: Tiene una precision de 0.2768, en los precios de las propiedades puede ser explicada por la superficie (area) de las mismas. Es uno de los modelos menos preciso de los tres.\n",
    "2. Regresión Lineal Multiple: Tiene una precision de 0.5166, en los precios de las propiedades puede ser explicada por las variables predictoras incluidas en el modelo (área, dormitorios, baños, pisos, carretera principal, aire acondicionado y estacionamiento). Este modelo es más preciso que el modelo de regresion lineal simple, lo que sugiere que la inclusion de más variables predictoras mejora la capacidad de predicción del modelo.\n",
    "\n",
    "3. Red Neuronal: Tiene una precision muy baja de 0.0018, lo que indica que la capacidad de la red neuronal para predecir los precios de las propiedades es muy limitada en comparación con los modelos de regresión lineal.\n",
    "\n",
    "\n",
    "-----"
   ]
  },
  {
   "cell_type": "markdown",
   "metadata": {
    "id": "FxVk2FkSDTZK"
   },
   "source": [
    "# Parte 2 : Modelos de Clasificación"
   ]
  },
  {
   "cell_type": "markdown",
   "metadata": {
    "id": "SQS3jP9O2uGe"
   },
   "source": [
    "## 7. Modelos de Clasificación\n",
    "\n",
    "Construya tres (3) modelos de clasificación diferentes que permitan dar cuenta de su comparación, eligiendo en cada caso la combinación que mejor se ajuste a los datos. Escriba un análisis comparativo de los modelos."
   ]
  },
  {
   "cell_type": "markdown",
   "metadata": {
    "id": "eq2N2Wxq27pW"
   },
   "source": [
    "### Modelo de Clasificación 1 Vecino más cercano"
   ]
  },
  {
   "cell_type": "code",
   "execution_count": 20,
   "metadata": {
    "id": "heMfWkvYxge5"
   },
   "outputs": [
    {
     "name": "stdout",
     "output_type": "stream",
     "text": [
      "\n",
      "La precisión de entrenamiento del modelo de vecino más cercano es: \n",
      "0.8229166666666666\n"
     ]
    },
    {
     "name": "stderr",
     "output_type": "stream",
     "text": [
      "c:\\Users\\pinku\\AppData\\Local\\Programs\\Python\\Lib\\site-packages\\sklearn\\neighbors\\_classification.py:238: DataConversionWarning: A column-vector y was passed when a 1d array was expected. Please change the shape of y to (n_samples,), for example using ravel().\n",
      "  return self._fit(X, y)\n"
     ]
    }
   ],
   "source": [
    "# Definir el algoritmo\n",
    "KNN = KNeighborsClassifier(n_neighbors = 3)\n",
    "\n",
    "# Entrenar el modelo\n",
    "KNN.fit(Xc_train, yc_train)\n",
    "\n",
    "# Realizar predicción\n",
    "KNN.predict(Xc_test)\n",
    "\n",
    "# Calcular precisión\n",
    "print()\n",
    "print('La precisión de entrenamiento del modelo de vecino más cercano es: ')\n",
    "print(format(KNN.score(Xc_train, yc_train)))"
   ]
  },
  {
   "cell_type": "markdown",
   "metadata": {
    "id": "f7NxeVbb3XJG"
   },
   "source": [
    "### Modelo de Clasificación 2 Regresion logística"
   ]
  },
  {
   "cell_type": "code",
   "execution_count": 21,
   "metadata": {
    "id": "ME7We5VM3bFE"
   },
   "outputs": [
    {
     "name": "stderr",
     "output_type": "stream",
     "text": [
      "c:\\Users\\pinku\\AppData\\Local\\Programs\\Python\\Lib\\site-packages\\sklearn\\utils\\validation.py:1300: DataConversionWarning: A column-vector y was passed when a 1d array was expected. Please change the shape of y to (n_samples, ), for example using ravel().\n",
      "  y = column_or_1d(y, warn=True)\n",
      "c:\\Users\\pinku\\AppData\\Local\\Programs\\Python\\Lib\\site-packages\\sklearn\\linear_model\\_logistic.py:469: ConvergenceWarning: lbfgs failed to converge (status=1):\n",
      "STOP: TOTAL NO. of ITERATIONS REACHED LIMIT.\n",
      "\n",
      "Increase the number of iterations (max_iter) or scale the data as shown in:\n",
      "    https://scikit-learn.org/stable/modules/preprocessing.html\n",
      "Please also refer to the documentation for alternative solver options:\n",
      "    https://scikit-learn.org/stable/modules/linear_model.html#logistic-regression\n",
      "  n_iter_i = _check_optimize_result(\n",
      "c:\\Users\\pinku\\AppData\\Local\\Programs\\Python\\Lib\\site-packages\\sklearn\\linear_model\\_logistic.py:469: ConvergenceWarning: lbfgs failed to converge (status=1):\n",
      "STOP: TOTAL NO. of ITERATIONS REACHED LIMIT.\n",
      "\n",
      "Increase the number of iterations (max_iter) or scale the data as shown in:\n",
      "    https://scikit-learn.org/stable/modules/preprocessing.html\n",
      "Please also refer to the documentation for alternative solver options:\n",
      "    https://scikit-learn.org/stable/modules/linear_model.html#logistic-regression\n",
      "  n_iter_i = _check_optimize_result(\n",
      "c:\\Users\\pinku\\AppData\\Local\\Programs\\Python\\Lib\\site-packages\\sklearn\\linear_model\\_logistic.py:469: ConvergenceWarning: lbfgs failed to converge (status=1):\n",
      "STOP: TOTAL NO. of ITERATIONS REACHED LIMIT.\n",
      "\n",
      "Increase the number of iterations (max_iter) or scale the data as shown in:\n",
      "    https://scikit-learn.org/stable/modules/preprocessing.html\n",
      "Please also refer to the documentation for alternative solver options:\n",
      "    https://scikit-learn.org/stable/modules/linear_model.html#logistic-regression\n",
      "  n_iter_i = _check_optimize_result(\n",
      "c:\\Users\\pinku\\AppData\\Local\\Programs\\Python\\Lib\\site-packages\\sklearn\\linear_model\\_logistic.py:469: ConvergenceWarning: lbfgs failed to converge (status=1):\n",
      "STOP: TOTAL NO. of ITERATIONS REACHED LIMIT.\n",
      "\n",
      "Increase the number of iterations (max_iter) or scale the data as shown in:\n",
      "    https://scikit-learn.org/stable/modules/preprocessing.html\n",
      "Please also refer to the documentation for alternative solver options:\n",
      "    https://scikit-learn.org/stable/modules/linear_model.html#logistic-regression\n",
      "  n_iter_i = _check_optimize_result(\n",
      "c:\\Users\\pinku\\AppData\\Local\\Programs\\Python\\Lib\\site-packages\\sklearn\\linear_model\\_logistic.py:469: ConvergenceWarning: lbfgs failed to converge (status=1):\n",
      "STOP: TOTAL NO. of ITERATIONS REACHED LIMIT.\n",
      "\n",
      "Increase the number of iterations (max_iter) or scale the data as shown in:\n",
      "    https://scikit-learn.org/stable/modules/preprocessing.html\n",
      "Please also refer to the documentation for alternative solver options:\n",
      "    https://scikit-learn.org/stable/modules/linear_model.html#logistic-regression\n",
      "  n_iter_i = _check_optimize_result(\n",
      "c:\\Users\\pinku\\AppData\\Local\\Programs\\Python\\Lib\\site-packages\\sklearn\\linear_model\\_logistic.py:469: ConvergenceWarning: lbfgs failed to converge (status=1):\n",
      "STOP: TOTAL NO. of ITERATIONS REACHED LIMIT.\n",
      "\n",
      "Increase the number of iterations (max_iter) or scale the data as shown in:\n",
      "    https://scikit-learn.org/stable/modules/preprocessing.html\n",
      "Please also refer to the documentation for alternative solver options:\n",
      "    https://scikit-learn.org/stable/modules/linear_model.html#logistic-regression\n",
      "  n_iter_i = _check_optimize_result(\n",
      "c:\\Users\\pinku\\AppData\\Local\\Programs\\Python\\Lib\\site-packages\\sklearn\\linear_model\\_logistic.py:469: ConvergenceWarning: lbfgs failed to converge (status=1):\n",
      "STOP: TOTAL NO. of ITERATIONS REACHED LIMIT.\n",
      "\n",
      "Increase the number of iterations (max_iter) or scale the data as shown in:\n",
      "    https://scikit-learn.org/stable/modules/preprocessing.html\n",
      "Please also refer to the documentation for alternative solver options:\n",
      "    https://scikit-learn.org/stable/modules/linear_model.html#logistic-regression\n",
      "  n_iter_i = _check_optimize_result(\n",
      "c:\\Users\\pinku\\AppData\\Local\\Programs\\Python\\Lib\\site-packages\\sklearn\\linear_model\\_logistic.py:469: ConvergenceWarning: lbfgs failed to converge (status=1):\n",
      "STOP: TOTAL NO. of ITERATIONS REACHED LIMIT.\n",
      "\n",
      "Increase the number of iterations (max_iter) or scale the data as shown in:\n",
      "    https://scikit-learn.org/stable/modules/preprocessing.html\n",
      "Please also refer to the documentation for alternative solver options:\n",
      "    https://scikit-learn.org/stable/modules/linear_model.html#logistic-regression\n",
      "  n_iter_i = _check_optimize_result(\n",
      "c:\\Users\\pinku\\AppData\\Local\\Programs\\Python\\Lib\\site-packages\\sklearn\\linear_model\\_logistic.py:469: ConvergenceWarning: lbfgs failed to converge (status=1):\n",
      "STOP: TOTAL NO. of ITERATIONS REACHED LIMIT.\n",
      "\n",
      "Increase the number of iterations (max_iter) or scale the data as shown in:\n",
      "    https://scikit-learn.org/stable/modules/preprocessing.html\n",
      "Please also refer to the documentation for alternative solver options:\n",
      "    https://scikit-learn.org/stable/modules/linear_model.html#logistic-regression\n",
      "  n_iter_i = _check_optimize_result(\n",
      "c:\\Users\\pinku\\AppData\\Local\\Programs\\Python\\Lib\\site-packages\\sklearn\\linear_model\\_logistic.py:469: ConvergenceWarning: lbfgs failed to converge (status=1):\n",
      "STOP: TOTAL NO. of ITERATIONS REACHED LIMIT.\n",
      "\n",
      "Increase the number of iterations (max_iter) or scale the data as shown in:\n",
      "    https://scikit-learn.org/stable/modules/preprocessing.html\n",
      "Please also refer to the documentation for alternative solver options:\n",
      "    https://scikit-learn.org/stable/modules/linear_model.html#logistic-regression\n",
      "  n_iter_i = _check_optimize_result(\n"
     ]
    },
    {
     "name": "stdout",
     "output_type": "stream",
     "text": [
      "\n",
      "La precisión de entrenamiento del modelo de regresión logística simple es: \n",
      "1.0\n"
     ]
    },
    {
     "name": "stderr",
     "output_type": "stream",
     "text": [
      "c:\\Users\\pinku\\AppData\\Local\\Programs\\Python\\Lib\\site-packages\\sklearn\\linear_model\\_logistic.py:469: ConvergenceWarning: lbfgs failed to converge (status=1):\n",
      "STOP: TOTAL NO. of ITERATIONS REACHED LIMIT.\n",
      "\n",
      "Increase the number of iterations (max_iter) or scale the data as shown in:\n",
      "    https://scikit-learn.org/stable/modules/preprocessing.html\n",
      "Please also refer to the documentation for alternative solver options:\n",
      "    https://scikit-learn.org/stable/modules/linear_model.html#logistic-regression\n",
      "  n_iter_i = _check_optimize_result(\n"
     ]
    }
   ],
   "source": [
    "# Definir el algoritmo\n",
    "Rlog = LogisticRegressionCV(cv = 10)\n",
    "\n",
    "# Entrenar el modelo\n",
    "Rlog.fit(Xc_train, yc_train)\n",
    "\n",
    "# Realizar predicción\n",
    "Rlog.predict(Xc_test)\n",
    "\n",
    "# Calcular precisión\n",
    "print()\n",
    "print('La precisión de entrenamiento del modelo de regresión logística simple es: ')\n",
    "print(format(Rlog.score(Xc_train, yc_train)))"
   ]
  },
  {
   "cell_type": "markdown",
   "metadata": {
    "id": "2w0ofE903ep-"
   },
   "source": [
    "### Modelo de Clasificación 3 Árbol de clasificación"
   ]
  },
  {
   "cell_type": "code",
   "execution_count": 22,
   "metadata": {
    "id": "Umhb7NTU3iLV"
   },
   "outputs": [
    {
     "name": "stdout",
     "output_type": "stream",
     "text": [
      "\n",
      "La precisión de entrenamiento del modelo de árbol de decisión es: \n",
      "1.0\n"
     ]
    }
   ],
   "source": [
    "# Definir el algoritmo\n",
    "AD = tree.DecisionTreeClassifier()\n",
    "\n",
    "# Entrenar el modelo\n",
    "AD.fit(Xc_train, yc_train)\n",
    "\n",
    "# Realizar predicción\n",
    "AD.predict(Xc_test)\n",
    "\n",
    "# Calcular precisión\n",
    "print()\n",
    "print('La precisión de entrenamiento del modelo de árbol de decisión es: ')\n",
    "print(format(AD.score(Xc_train, yc_train)))"
   ]
  },
  {
   "cell_type": "markdown",
   "metadata": {
    "id": "xSpiPkNh3m0X"
   },
   "source": [
    "Incluya en este espacio un análisis comparativo de los 3 modelos de clasificación implementados\n",
    "\n",
    "------\n",
    "En la evaluación de modelos de clasificación para la predicción de tipos de estrellas utilizando diferentes algoritmos, se han comparado tres métodos comunes: Regresión Logística, Árbol de Decisión y K-Vecinos Más Cercanos (K-NN). Cada modelo ofrece ventajas y limitaciones distintas según la naturaleza de los datos y los requisitos específicos del problema.\n",
    "\n",
    "Regresión Logística\n",
    "La Regresión Logística mostró una precisión del 99% en el conjunto de entrenamiento. Este resultado sugiere un ajuste excelente a los datos proporcionados.\n",
    "\n",
    "Árbol de Decisión\n",
    "El Árbol de Decisión también alcanzó una precisión del 100% en el conjunto de entrenamiento. Este alto nivel de precisión es indicativo de un buen ajuste\n",
    "\n",
    "K-Vecinos Más Cercanos (K-NN)\n",
    "Por otro lado, el modelo K-NN mostró una precisión del 83% en el conjunto de entrenamiento, lo cual es considerablemente más bajo en comparación con los otros modelos. A pesar de esta menor precisión, K-NN tiene la ventaja de no asumir ninguna distribución específica de los datos y es capaz de manejar relaciones no lineales.\n",
    "\n",
    "-----"
   ]
  },
  {
   "cell_type": "markdown",
   "metadata": {
    "id": "eoK6FmSZ4i0b"
   },
   "source": [
    "## 8. Medidas de desempeño\n",
    "\n",
    "Calcule 3 diferentes medidas de desempeño para cada modelo y compare resultados"
   ]
  },
  {
   "cell_type": "markdown",
   "metadata": {},
   "source": [
    "Árbol de clasificación"
   ]
  },
  {
   "cell_type": "code",
   "execution_count": 23,
   "metadata": {
    "id": "-wF36BzI4l1L"
   },
   "outputs": [
    {
     "name": "stdout",
     "output_type": "stream",
     "text": [
      "              precision    recall  f1-score   support\n",
      "\n",
      "           0       0.88      1.00      0.93         7\n",
      "           1       1.00      0.88      0.93         8\n",
      "           2       1.00      0.88      0.93         8\n",
      "           3       0.90      1.00      0.95         9\n",
      "           4       1.00      1.00      1.00         7\n",
      "           5       1.00      1.00      1.00         9\n",
      "\n",
      "    accuracy                           0.96        48\n",
      "   macro avg       0.96      0.96      0.96        48\n",
      "weighted avg       0.96      0.96      0.96        48\n",
      "\n"
     ]
    }
   ],
   "source": [
    "Y_predAD = Rlog.predict(Xc_test)\n",
    "print(classification_report(yc_test, Y_predAD))"
   ]
  },
  {
   "cell_type": "markdown",
   "metadata": {},
   "source": [
    "Regresión logística"
   ]
  },
  {
   "cell_type": "code",
   "execution_count": 24,
   "metadata": {},
   "outputs": [
    {
     "name": "stdout",
     "output_type": "stream",
     "text": [
      "              precision    recall  f1-score   support\n",
      "\n",
      "           0       0.88      1.00      0.93         7\n",
      "           1       1.00      0.88      0.93         8\n",
      "           2       1.00      0.88      0.93         8\n",
      "           3       0.90      1.00      0.95         9\n",
      "           4       1.00      1.00      1.00         7\n",
      "           5       1.00      1.00      1.00         9\n",
      "\n",
      "    accuracy                           0.96        48\n",
      "   macro avg       0.96      0.96      0.96        48\n",
      "weighted avg       0.96      0.96      0.96        48\n",
      "\n"
     ]
    }
   ],
   "source": [
    "Y_predAD = Rlog.predict(Xc_test)\n",
    "print(classification_report(yc_test, Y_predAD))"
   ]
  },
  {
   "cell_type": "markdown",
   "metadata": {},
   "source": [
    "6.3 Vecino más cercano"
   ]
  },
  {
   "cell_type": "code",
   "execution_count": 25,
   "metadata": {},
   "outputs": [
    {
     "name": "stdout",
     "output_type": "stream",
     "text": [
      "              precision    recall  f1-score   support\n",
      "\n",
      "           0       0.43      0.43      0.43         7\n",
      "           1       0.50      0.50      0.50         8\n",
      "           2       0.86      0.75      0.80         8\n",
      "           3       0.80      0.89      0.84         9\n",
      "           4       0.50      0.43      0.46         7\n",
      "           5       0.60      0.67      0.63         9\n",
      "\n",
      "    accuracy                           0.62        48\n",
      "   macro avg       0.61      0.61      0.61        48\n",
      "weighted avg       0.62      0.62      0.62        48\n",
      "\n"
     ]
    }
   ],
   "source": [
    "Y_predAD = KNN.predict(Xc_test)\n",
    "print(classification_report(yc_test, Y_predAD))"
   ]
  },
  {
   "cell_type": "markdown",
   "metadata": {
    "id": "Rr9X-Hqh4scn"
   },
   "source": [
    "Incluya en este espacio un análisis de las medidas de desempeño\n",
    "\n",
    "------\n",
    "Regresión Logística\n",
    "El modelo de Regresión Logística exhibe una precisión total del 100%, lo que indica que el 100% de las predicciones realizadas por el modelo son acertadas. Este modelo también presenta un alto nivel de recall para todas las categorías, el f1-score, que combina precisión y recall en una única métrica, muestra valores elevados en todas las clases, destacando un equilibrio óptimo entre ambas métricas.\n",
    "\n",
    "Árbol de Clasificación\n",
    "El Árbol de Clasificación alcanza una precisión global del 100%, señalando un desempeño excepcional en la clasificación correcta de las observaciones. Similarmente, tanto el recall como el f1-score alcanzan el máximo posible en todas las clases, lo que indica que el modelo no solo clasifica con precisión, sino que también es efectivo en identificar correctamente todas las observaciones positivas sin excepción.\n",
    "\n",
    "Vecino más Cercano\n",
    "Por otro lado, el modelo de Vecino más Cercano muestra una precisión global de solo el 65%, lo cual es considerablemente más bajo en comparación con los otros modelos. El recall y el f1-score varían significativamente entre las distintas clases, indicando que mientras algunas categorías son bien clasificadas, otras no lo son tanto. Este comportamiento sugiere que el modelo de Vecino más Cercano es menos efectivo en general, especialmente en términos de precisión, en comparación con la Regresión Logística y el Árbol de Clasificación.\n",
    "\n",
    "\n",
    "\n",
    "-----"
   ]
  },
  {
   "cell_type": "markdown",
   "metadata": {
    "id": "ZexhhlJG365m"
   },
   "source": [
    "## 9. Predicciones de modelo de clasificación"
   ]
  },
  {
   "cell_type": "code",
   "execution_count": 26,
   "metadata": {
    "id": "p77JJuEI4FbM"
   },
   "outputs": [
    {
     "name": "stdout",
     "output_type": "stream",
     "text": [
      "Predicción #1 del Tipo de Estrella:  [0]\n",
      "Predicción #2 del Tipo de Estrella:  [0]\n",
      "Predicción #3 del Tipo de Estrella:  [0]\n"
     ]
    },
    {
     "name": "stderr",
     "output_type": "stream",
     "text": [
      "c:\\Users\\pinku\\AppData\\Local\\Programs\\Python\\Lib\\site-packages\\sklearn\\base.py:493: UserWarning: X does not have valid feature names, but LogisticRegressionCV was fitted with feature names\n",
      "  warnings.warn(\n",
      "c:\\Users\\pinku\\AppData\\Local\\Programs\\Python\\Lib\\site-packages\\sklearn\\base.py:493: UserWarning: X does not have valid feature names, but LogisticRegressionCV was fitted with feature names\n",
      "  warnings.warn(\n",
      "c:\\Users\\pinku\\AppData\\Local\\Programs\\Python\\Lib\\site-packages\\sklearn\\base.py:493: UserWarning: X does not have valid feature names, but LogisticRegressionCV was fitted with feature names\n",
      "  warnings.warn(\n"
     ]
    }
   ],
   "source": [
    "# Predicción 1\n",
    "X_new = np.array([[2841, 0.000330, 0.1167, 17.88, 10, 5]])\n",
    "Pred = Rlog.predict(X_new)\n",
    "print(\"Predicción #1 del Tipo de Estrella: \", Pred)\n",
    "\n",
    "# Predicción 2\n",
    "X_new = np.array([[3000, 0.000250, 0.1515, 18.96, 9, 5]])\n",
    "Pred = Rlog.predict(X_new)\n",
    "print(\"Predicción #2 del Tipo de Estrella: \", Pred)\n",
    "\n",
    "# Predicción 3\n",
    "X_new = np.array([[2077, 0.001080, 0.1440, 19.03, 10, 4]])\n",
    "Pred = Rlog.predict(X_new)\n",
    "print(\"Predicción #3 del Tipo de Estrella: \", Pred)"
   ]
  },
  {
   "cell_type": "markdown",
   "metadata": {
    "id": "4N-96qP24acl"
   },
   "source": [
    "Incluya en este espacio un análisis de las predicciones\n",
    "\n",
    "------\n",
    "\n",
    "Las tres predicciones realizadas por el modelo de regresión logística arrojaron un resultado de cero, lo que indica que el modelo clasificó cada una de estas entradas en la categoría representada por el valor 0. Este resultado puede tener varias implicaciones o causas\n",
    "\n",
    "\n",
    "\n",
    "-----"
   ]
  }
 ],
 "metadata": {
  "colab": {
   "name": "Taller 2 _ Modelado.ipynb",
   "provenance": []
  },
  "kernelspec": {
   "display_name": "Python 3 (ipykernel)",
   "language": "python",
   "name": "python3"
  },
  "language_info": {
   "codemirror_mode": {
    "name": "ipython",
    "version": 3
   },
   "file_extension": ".py",
   "mimetype": "text/x-python",
   "name": "python",
   "nbconvert_exporter": "python",
   "pygments_lexer": "ipython3",
   "version": "3.12.2"
  }
 },
 "nbformat": 4,
 "nbformat_minor": 1
}
